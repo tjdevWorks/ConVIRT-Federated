{
 "cells": [
  {
   "cell_type": "raw",
   "id": "5cb63ced",
   "metadata": {},
   "source": [
    "Todos:\n",
    "\n",
    "- Make notebook modular for easy changes\n",
    "- Class based config generations\n",
    "- Batch size configurable based on num_clients/cpus/etc.."
   ]
  },
  {
   "cell_type": "markdown",
   "id": "084d64bf",
   "metadata": {
    "heading_collapsed": true
   },
   "source": [
    "## Import Libraries"
   ]
  },
  {
   "cell_type": "code",
   "execution_count": 1,
   "id": "2e4eec60",
   "metadata": {
    "ExecuteTime": {
     "end_time": "2022-12-20T04:36:45.390583Z",
     "start_time": "2022-12-20T04:36:45.388269Z"
    },
    "hidden": true
   },
   "outputs": [],
   "source": [
    "import glob\n",
    "from itertools import product"
   ]
  },
  {
   "cell_type": "markdown",
   "id": "cbab7aef",
   "metadata": {
    "heading_collapsed": true
   },
   "source": [
    "## Global Values"
   ]
  },
  {
   "cell_type": "code",
   "execution_count": 2,
   "id": "3c8ca079",
   "metadata": {
    "ExecuteTime": {
     "end_time": "2022-12-20T04:36:46.385610Z",
     "start_time": "2022-12-20T04:36:46.383308Z"
    },
    "hidden": true
   },
   "outputs": [],
   "source": [
    "singularity_cmd = 'singularity exec --nv --overlay /scratch/tm3647/public/mlh-env-50G-10M.ext3:ro --overlay /scratch/tm3647/public/CheXpert_v1.sqf:ro --overlay /scratch/tm3647/public/Mimic_cxr_jpg.sqf:ro /scratch/work/public/singularity/cuda11.3.0-cudnn8-devel-ubuntu20.04.sif /bin/bash -c \"'"
   ]
  },
  {
   "cell_type": "code",
   "execution_count": 3,
   "id": "c48d0ca3",
   "metadata": {
    "ExecuteTime": {
     "end_time": "2022-12-20T04:36:46.608209Z",
     "start_time": "2022-12-20T04:36:46.605836Z"
    },
    "hidden": true
   },
   "outputs": [],
   "source": [
    "cpus = \"28\"\n",
    "mem = \"128GB\"\n",
    "\n",
    "req_time = \"4:30:00\"\n",
    "\n",
    "mail = \"tm3647@nyu.edu\"\n",
    "sbatch_output_dir = \"/scratch/tm3647/MLH/ConVIRT-private/sbatch_outs/\""
   ]
  },
  {
   "cell_type": "markdown",
   "id": "3bee250d",
   "metadata": {
    "heading_collapsed": true
   },
   "source": [
    "## General Hyperparamters"
   ]
  },
  {
   "cell_type": "code",
   "execution_count": 4,
   "id": "bb79ca2d",
   "metadata": {
    "ExecuteTime": {
     "end_time": "2022-12-20T04:36:49.821538Z",
     "start_time": "2022-12-20T04:36:49.819292Z"
    },
    "hidden": true
   },
   "outputs": [],
   "source": [
    "batch_size_client_wise = {\n",
    "    4: 256,\n",
    "    8: 128,\n",
    "    16: 64\n",
    "}"
   ]
  },
  {
   "cell_type": "code",
   "execution_count": 5,
   "id": "c9698767",
   "metadata": {
    "ExecuteTime": {
     "end_time": "2022-12-20T04:36:50.020989Z",
     "start_time": "2022-12-20T04:36:50.018666Z"
    },
    "hidden": true
   },
   "outputs": [],
   "source": [
    "num_rounds = [100]\n",
    "num_clients = [4, 8, 16]\n",
    "num_local_epochs = [1]"
   ]
  },
  {
   "cell_type": "code",
   "execution_count": 6,
   "id": "a8b2761e",
   "metadata": {
    "ExecuteTime": {
     "end_time": "2022-12-20T04:36:50.218627Z",
     "start_time": "2022-12-20T04:36:50.211626Z"
    },
    "hidden": true
   },
   "outputs": [
    {
     "data": {
      "text/plain": [
       "[[100], [4, 8, 16], [1]]"
      ]
     },
     "execution_count": 6,
     "metadata": {},
     "output_type": "execute_result"
    }
   ],
   "source": [
    "general_hyperparams = list([num_rounds, num_clients, num_local_epochs])\n",
    "general_hyperparams"
   ]
  },
  {
   "cell_type": "code",
   "execution_count": 7,
   "id": "09ee7339",
   "metadata": {
    "ExecuteTime": {
     "end_time": "2022-12-20T04:36:50.371065Z",
     "start_time": "2022-12-20T04:36:50.367747Z"
    },
    "hidden": true
   },
   "outputs": [
    {
     "data": {
      "text/plain": [
       "[(100, 4, 1), (100, 8, 1), (100, 16, 1)]"
      ]
     },
     "execution_count": 7,
     "metadata": {},
     "output_type": "execute_result"
    }
   ],
   "source": [
    "list(product(*general_hyperparams))"
   ]
  },
  {
   "cell_type": "markdown",
   "id": "320f13e4",
   "metadata": {
    "heading_collapsed": true
   },
   "source": [
    "## Volume Configs"
   ]
  },
  {
   "cell_type": "code",
   "execution_count": 8,
   "id": "239d521f",
   "metadata": {
    "ExecuteTime": {
     "end_time": "2022-12-20T04:36:52.423581Z",
     "start_time": "2022-12-20T04:36:52.421322Z"
    },
    "hidden": true
   },
   "outputs": [],
   "source": [
    "scales = [1, 10, 100, 1000]\n",
    "modes = ['dirchlet']"
   ]
  },
  {
   "cell_type": "code",
   "execution_count": 9,
   "id": "870cf0e6",
   "metadata": {
    "ExecuteTime": {
     "end_time": "2022-12-20T04:41:11.122319Z",
     "start_time": "2022-12-20T04:41:11.119887Z"
    },
    "hidden": true
   },
   "outputs": [],
   "source": [
    "volume_hyperparams = general_hyperparams+list([scales, modes])"
   ]
  },
  {
   "cell_type": "code",
   "execution_count": 10,
   "id": "d613b34f",
   "metadata": {
    "ExecuteTime": {
     "end_time": "2022-12-20T04:41:11.525358Z",
     "start_time": "2022-12-20T04:41:11.522100Z"
    },
    "hidden": true
   },
   "outputs": [
    {
     "data": {
      "text/plain": [
       "[[100], [4, 8, 16], [1], [1, 10, 100, 1000], ['dirchlet']]"
      ]
     },
     "execution_count": 10,
     "metadata": {},
     "output_type": "execute_result"
    }
   ],
   "source": [
    "volume_hyperparams"
   ]
  },
  {
   "cell_type": "code",
   "execution_count": 11,
   "id": "09b9b079",
   "metadata": {
    "ExecuteTime": {
     "end_time": "2022-12-20T04:41:11.883303Z",
     "start_time": "2022-12-20T04:41:11.879784Z"
    },
    "hidden": true
   },
   "outputs": [
    {
     "data": {
      "text/plain": [
       "(12, (100, 4, 1, 1, 'dirchlet'))"
      ]
     },
     "execution_count": 11,
     "metadata": {},
     "output_type": "execute_result"
    }
   ],
   "source": [
    "total_exp_combinations = list(product(*volume_hyperparams))\n",
    "len(total_exp_combinations), total_exp_combinations[0]"
   ]
  },
  {
   "cell_type": "code",
   "execution_count": 12,
   "id": "8207c696",
   "metadata": {
    "ExecuteTime": {
     "end_time": "2022-12-20T04:41:12.308726Z",
     "start_time": "2022-12-20T04:41:12.306409Z"
    },
    "hidden": true
   },
   "outputs": [],
   "source": [
    "env_activate_cmd = \"\"\"\n",
    "source /ext3/miniconda3/etc/profile.d/conda.sh;\n",
    "\n",
    "conda activate /ext3/fedml-env/;\n",
    "\n",
    "cd /scratch/tm3647/MLH/ConVIRT-private/;\n",
    "\"\"\""
   ]
  },
  {
   "cell_type": "code",
   "execution_count": 13,
   "id": "6bc8b2bc",
   "metadata": {
    "ExecuteTime": {
     "end_time": "2022-12-20T04:41:16.379070Z",
     "start_time": "2022-12-20T04:41:16.361911Z"
    },
    "hidden": true
   },
   "outputs": [],
   "source": [
    "for nr, nc, num_l_ep, scale_val, mode_val in total_exp_combinations:\n",
    "    job_name = f\"fed_vol_{nr}_{nc}_{scale_val}_{mode_val}\"\n",
    "    sbatch_headers = f\"\"\"#!/bin/bash\n",
    "    \n",
    "#SBATCH --nodes=1\n",
    "#SBATCH --cpus-per-task={cpus}\n",
    "#SBATCH --time={req_time}\n",
    "#SBATCH --mem={mem}\n",
    "#SBATCH --gres=gpu:a100:1\n",
    "#SBATCH --job-name={job_name}\n",
    "#SBATCH --output={sbatch_output_dir}%j_0_log.out\n",
    "#SBATCH --mail-type=ALL\n",
    "#SBATCH --mail-user={mail}\n",
    "\n",
    "    \"\"\"\n",
    "    \n",
    "    py_cmd = f\"\\npython src/run_simulation.py --config-name=prod_simulation server_config.num_rounds={nr} pool_size={nc} partitions.num_clients={nc} partitions.scale={scale_val} partitions.mode='{mode_val}' task_name='fed_chexpert_volume' job_name={job_name} datamodule.batch_size={batch_size_client_wise[nc]}\"\n",
    "    \n",
    "    sbatch_script = sbatch_headers + singularity_cmd + env_activate_cmd + py_cmd + \"\\n\\\"\"\n",
    "    \n",
    "    with open(f'/scratch/tm3647/MLH/ConVIRT-private/scripts/tejas/a100/fed/volume/{job_name}.sbatch', 'w') as f:\n",
    "        f.write(sbatch_script)"
   ]
  },
  {
   "cell_type": "code",
   "execution_count": 14,
   "id": "8f8cafd5",
   "metadata": {
    "ExecuteTime": {
     "end_time": "2022-12-20T04:41:17.266364Z",
     "start_time": "2022-12-20T04:41:17.152979Z"
    },
    "hidden": true,
    "scrolled": false
   },
   "outputs": [
    {
     "name": "stdout",
     "output_type": "stream",
     "text": [
      "#!/bin/bash\r\n",
      "    \r\n",
      "#SBATCH --nodes=1\r\n",
      "#SBATCH --cpus-per-task=28\r\n",
      "#SBATCH --time=4:30:00\r\n",
      "#SBATCH --mem=128GB\r\n",
      "#SBATCH --gres=gpu:a100:1\r\n",
      "#SBATCH --job-name=fed_vol_100_4_1_dirchlet\r\n",
      "#SBATCH --output=/scratch/tm3647/MLH/ConVIRT-private/sbatch_outs/%j_0_log.out\r\n",
      "#SBATCH --mail-type=ALL\r\n",
      "#SBATCH --mail-user=tm3647@nyu.edu\r\n",
      "\r\n",
      "    singularity exec --nv --overlay /scratch/tm3647/public/mlh-env-50G-10M.ext3:ro --overlay /scratch/tm3647/public/CheXpert_v1.sqf:ro --overlay /scratch/tm3647/public/Mimic_cxr_jpg.sqf:ro /scratch/work/public/singularity/cuda11.3.0-cudnn8-devel-ubuntu20.04.sif /bin/bash -c \"\r\n",
      "source /ext3/miniconda3/etc/profile.d/conda.sh;\r\n",
      "\r\n",
      "conda activate /ext3/fedml-env/;\r\n",
      "\r\n",
      "cd /scratch/tm3647/MLH/ConVIRT-private/;\r\n",
      "\r\n",
      "python src/run_simulation.py --config-name=prod_simulation server_config.num_rounds=100 pool_size=4 partitions.num_clients=4 partitions.scale=1 partitions.mode='dirchlet' task_name='fed_chexpert_volume' job_name=fed_vol_100_4_1_dirchlet datamodule.batch_size=256\r\n",
      "\""
     ]
    }
   ],
   "source": [
    "!cat \"/scratch/tm3647/MLH/ConVIRT-private/scripts/tejas/a100/fed/volume/fed_vol_100_4_1_dirchlet.sbatch\""
   ]
  },
  {
   "cell_type": "raw",
   "id": "ac5a0b2a",
   "metadata": {
    "hidden": true
   },
   "source": [
    "python src/run_simulation.py  server_config.num_rounds=100 pool_size=16 partitions.num_clients=16 partitions.scale=1000 partitions.mode='dirchlet'"
   ]
  },
  {
   "cell_type": "raw",
   "id": "efc36bf6",
   "metadata": {
    "ExecuteTime": {
     "end_time": "2022-12-19T05:21:42.073775Z",
     "start_time": "2022-12-19T05:21:41.964634Z"
    },
    "hidden": true
   },
   "source": [
    "!cat {f'/scratch/tm3647/MLH/ConVIRT-private/scripts/tejas/a100/fed/volume/{job_name}.sbatch'}"
   ]
  },
  {
   "cell_type": "raw",
   "id": "47890600",
   "metadata": {
    "ExecuteTime": {
     "end_time": "2022-12-19T05:20:33.223864Z",
     "start_time": "2022-12-19T05:20:33.221343Z"
    },
    "hidden": true
   },
   "source": [
    "print(sbatch_script)"
   ]
  },
  {
   "cell_type": "code",
   "execution_count": 15,
   "id": "4ccdbced",
   "metadata": {
    "ExecuteTime": {
     "end_time": "2022-12-20T04:41:20.957252Z",
     "start_time": "2022-12-20T04:41:20.954493Z"
    },
    "hidden": true
   },
   "outputs": [],
   "source": [
    "files = glob.glob('/scratch/tm3647/MLH/ConVIRT-private/scripts/tejas/a100/fed/volume/*.sbatch')"
   ]
  },
  {
   "cell_type": "code",
   "execution_count": 16,
   "id": "1009bb22",
   "metadata": {
    "ExecuteTime": {
     "end_time": "2022-12-20T04:41:21.256584Z",
     "start_time": "2022-12-20T04:41:21.253587Z"
    },
    "hidden": true
   },
   "outputs": [
    {
     "data": {
      "text/plain": [
       "['/scratch/tm3647/MLH/ConVIRT-private/scripts/tejas/a100/fed/volume/fed_vol_100_8_100_dirchlet.sbatch',\n",
       " '/scratch/tm3647/MLH/ConVIRT-private/scripts/tejas/a100/fed/volume/fed_vol_100_4_100_dirchlet.sbatch',\n",
       " '/scratch/tm3647/MLH/ConVIRT-private/scripts/tejas/a100/fed/volume/fed_vol_100_16_1000_dirchlet.sbatch',\n",
       " '/scratch/tm3647/MLH/ConVIRT-private/scripts/tejas/a100/fed/volume/fed_vol_100_16_100_dirchlet.sbatch',\n",
       " '/scratch/tm3647/MLH/ConVIRT-private/scripts/tejas/a100/fed/volume/fed_vol_100_8_10_dirchlet.sbatch',\n",
       " '/scratch/tm3647/MLH/ConVIRT-private/scripts/tejas/a100/fed/volume/fed_vol_100_4_1000_dirchlet.sbatch',\n",
       " '/scratch/tm3647/MLH/ConVIRT-private/scripts/tejas/a100/fed/volume/fed_vol_100_16_1_dirchlet.sbatch',\n",
       " '/scratch/tm3647/MLH/ConVIRT-private/scripts/tejas/a100/fed/volume/fed_vol_100_4_10_dirchlet.sbatch',\n",
       " '/scratch/tm3647/MLH/ConVIRT-private/scripts/tejas/a100/fed/volume/fed_vol_100_16_10_dirchlet.sbatch',\n",
       " '/scratch/tm3647/MLH/ConVIRT-private/scripts/tejas/a100/fed/volume/fed_vol_100_8_1000_dirchlet.sbatch',\n",
       " '/scratch/tm3647/MLH/ConVIRT-private/scripts/tejas/a100/fed/volume/fed_vol_100_8_1_dirchlet.sbatch',\n",
       " '/scratch/tm3647/MLH/ConVIRT-private/scripts/tejas/a100/fed/volume/fed_vol_100_4_1_dirchlet.sbatch']"
      ]
     },
     "execution_count": 16,
     "metadata": {},
     "output_type": "execute_result"
    }
   ],
   "source": [
    "files"
   ]
  },
  {
   "cell_type": "code",
   "execution_count": 17,
   "id": "86075d69",
   "metadata": {
    "ExecuteTime": {
     "end_time": "2022-12-20T04:41:21.665104Z",
     "start_time": "2022-12-20T04:41:21.662878Z"
    },
    "hidden": true
   },
   "outputs": [],
   "source": [
    "sbatch_execs = \"\"\n",
    "for f in files:\n",
    "    sbatch_execs += f\"sbatch {f}\\nsleep 2\\n\""
   ]
  },
  {
   "cell_type": "code",
   "execution_count": 18,
   "id": "dbd1c79e",
   "metadata": {
    "ExecuteTime": {
     "end_time": "2022-12-20T04:41:22.359074Z",
     "start_time": "2022-12-20T04:41:22.356809Z"
    },
    "hidden": true
   },
   "outputs": [
    {
     "name": "stdout",
     "output_type": "stream",
     "text": [
      "sbatch /scratch/tm3647/MLH/ConVIRT-private/scripts/tejas/a100/fed/volume/fed_vol_100_8_100_dirchlet.sbatch\n",
      "sleep 2\n",
      "sbatch /scratch/tm3647/MLH/ConVIRT-private/scripts/tejas/a100/fed/volume/fed_vol_100_4_100_dirchlet.sbatch\n",
      "sleep 2\n",
      "sbatch /scratch/tm3647/MLH/ConVIRT-private/scripts/tejas/a100/fed/volume/fed_vol_100_16_1000_dirchlet.sbatch\n",
      "sleep 2\n",
      "sbatch /scratch/tm3647/MLH/ConVIRT-private/scripts/tejas/a100/fed/volume/fed_vol_100_16_100_dirchlet.sbatch\n",
      "sleep 2\n",
      "sbatch /scratch/tm3647/MLH/ConVIRT-private/scripts/tejas/a100/fed/volume/fed_vol_100_8_10_dirchlet.sbatch\n",
      "sleep 2\n",
      "sbatch /scratch/tm3647/MLH/ConVIRT-private/scripts/tejas/a100/fed/volume/fed_vol_100_4_1000_dirchlet.sbatch\n",
      "sleep 2\n",
      "sbatch /scratch/tm3647/MLH/ConVIRT-private/scripts/tejas/a100/fed/volume/fed_vol_100_16_1_dirchlet.sbatch\n",
      "sleep 2\n",
      "sbatch /scratch/tm3647/MLH/ConVIRT-private/scripts/tejas/a100/fed/volume/fed_vol_100_4_10_dirchlet.sbatch\n",
      "sleep 2\n",
      "sbatch /scratch/tm3647/MLH/ConVIRT-private/scripts/tejas/a100/fed/volume/fed_vol_100_16_10_dirchlet.sbatch\n",
      "sleep 2\n",
      "sbatch /scratch/tm3647/MLH/ConVIRT-private/scripts/tejas/a100/fed/volume/fed_vol_100_8_1000_dirchlet.sbatch\n",
      "sleep 2\n",
      "sbatch /scratch/tm3647/MLH/ConVIRT-private/scripts/tejas/a100/fed/volume/fed_vol_100_8_1_dirchlet.sbatch\n",
      "sleep 2\n",
      "sbatch /scratch/tm3647/MLH/ConVIRT-private/scripts/tejas/a100/fed/volume/fed_vol_100_4_1_dirchlet.sbatch\n",
      "sleep 2\n",
      "\n"
     ]
    }
   ],
   "source": [
    "print(sbatch_execs)"
   ]
  },
  {
   "cell_type": "code",
   "execution_count": 19,
   "id": "6b8a5715",
   "metadata": {
    "ExecuteTime": {
     "end_time": "2022-12-20T04:41:22.858155Z",
     "start_time": "2022-12-20T04:41:22.854475Z"
    },
    "hidden": true
   },
   "outputs": [],
   "source": [
    "with open('/scratch/tm3647/MLH/ConVIRT-private/scripts/tejas/a100/fed/volume/exec_all.sh', 'w') as f:\n",
    "    f.write(sbatch_execs)"
   ]
  },
  {
   "cell_type": "code",
   "execution_count": 20,
   "id": "3804a956",
   "metadata": {
    "ExecuteTime": {
     "end_time": "2022-12-20T04:41:23.611272Z",
     "start_time": "2022-12-20T04:41:23.500720Z"
    },
    "hidden": true
   },
   "outputs": [
    {
     "name": "stdout",
     "output_type": "stream",
     "text": [
      "sbatch /scratch/tm3647/MLH/ConVIRT-private/scripts/tejas/a100/fed/volume/fed_vol_100_8_100_dirchlet.sbatch\r\n",
      "sleep 2\r\n",
      "sbatch /scratch/tm3647/MLH/ConVIRT-private/scripts/tejas/a100/fed/volume/fed_vol_100_4_100_dirchlet.sbatch\r\n",
      "sleep 2\r\n",
      "sbatch /scratch/tm3647/MLH/ConVIRT-private/scripts/tejas/a100/fed/volume/fed_vol_100_16_1000_dirchlet.sbatch\r\n",
      "sleep 2\r\n",
      "sbatch /scratch/tm3647/MLH/ConVIRT-private/scripts/tejas/a100/fed/volume/fed_vol_100_16_100_dirchlet.sbatch\r\n",
      "sleep 2\r\n",
      "sbatch /scratch/tm3647/MLH/ConVIRT-private/scripts/tejas/a100/fed/volume/fed_vol_100_8_10_dirchlet.sbatch\r\n",
      "sleep 2\r\n",
      "sbatch /scratch/tm3647/MLH/ConVIRT-private/scripts/tejas/a100/fed/volume/fed_vol_100_4_1000_dirchlet.sbatch\r\n",
      "sleep 2\r\n",
      "sbatch /scratch/tm3647/MLH/ConVIRT-private/scripts/tejas/a100/fed/volume/fed_vol_100_16_1_dirchlet.sbatch\r\n",
      "sleep 2\r\n",
      "sbatch /scratch/tm3647/MLH/ConVIRT-private/scripts/tejas/a100/fed/volume/fed_vol_100_4_10_dirchlet.sbatch\r\n",
      "sleep 2\r\n",
      "sbatch /scratch/tm3647/MLH/ConVIRT-private/scripts/tejas/a100/fed/volume/fed_vol_100_16_10_dirchlet.sbatch\r\n",
      "sleep 2\r\n",
      "sbatch /scratch/tm3647/MLH/ConVIRT-private/scripts/tejas/a100/fed/volume/fed_vol_100_8_1000_dirchlet.sbatch\r\n",
      "sleep 2\r\n",
      "sbatch /scratch/tm3647/MLH/ConVIRT-private/scripts/tejas/a100/fed/volume/fed_vol_100_8_1_dirchlet.sbatch\r\n",
      "sleep 2\r\n",
      "sbatch /scratch/tm3647/MLH/ConVIRT-private/scripts/tejas/a100/fed/volume/fed_vol_100_4_1_dirchlet.sbatch\r\n",
      "sleep 2\r\n"
     ]
    }
   ],
   "source": [
    "cat /scratch/tm3647/MLH/ConVIRT-private/scripts/tejas/a100/fed/volume/exec_all.sh"
   ]
  },
  {
   "cell_type": "code",
   "execution_count": null,
   "id": "2f35d386",
   "metadata": {
    "hidden": true
   },
   "outputs": [],
   "source": []
  },
  {
   "cell_type": "code",
   "execution_count": null,
   "id": "c044f950",
   "metadata": {
    "hidden": true
   },
   "outputs": [],
   "source": []
  },
  {
   "cell_type": "markdown",
   "id": "ce655a16",
   "metadata": {
    "heading_collapsed": true
   },
   "source": [
    "## Class Configs"
   ]
  },
  {
   "cell_type": "code",
   "execution_count": 53,
   "id": "a9d0631d",
   "metadata": {
    "ExecuteTime": {
     "end_time": "2022-12-20T05:56:11.533181Z",
     "start_time": "2022-12-20T05:56:11.530811Z"
    },
    "hidden": true
   },
   "outputs": [],
   "source": [
    "exclusive = [True, False]\n",
    "equal_num_samples = [True, False]"
   ]
  },
  {
   "cell_type": "code",
   "execution_count": 54,
   "id": "450d6d0d",
   "metadata": {
    "ExecuteTime": {
     "end_time": "2022-12-20T05:56:11.778297Z",
     "start_time": "2022-12-20T05:56:11.776136Z"
    },
    "hidden": true
   },
   "outputs": [],
   "source": [
    "volume_hyperparams = general_hyperparams+list([exclusive, equal_num_samples])"
   ]
  },
  {
   "cell_type": "code",
   "execution_count": 55,
   "id": "cd901404",
   "metadata": {
    "ExecuteTime": {
     "end_time": "2022-12-20T05:56:12.200796Z",
     "start_time": "2022-12-20T05:56:12.197580Z"
    },
    "hidden": true
   },
   "outputs": [
    {
     "data": {
      "text/plain": [
       "[[100], [4, 8, 16], [1], [True, False], [True, False]]"
      ]
     },
     "execution_count": 55,
     "metadata": {},
     "output_type": "execute_result"
    }
   ],
   "source": [
    "volume_hyperparams"
   ]
  },
  {
   "cell_type": "code",
   "execution_count": 56,
   "id": "8dfe3d44",
   "metadata": {
    "ExecuteTime": {
     "end_time": "2022-12-20T05:56:12.608788Z",
     "start_time": "2022-12-20T05:56:12.605442Z"
    },
    "hidden": true
   },
   "outputs": [
    {
     "data": {
      "text/plain": [
       "(12, (100, 4, 1, True, True))"
      ]
     },
     "execution_count": 56,
     "metadata": {},
     "output_type": "execute_result"
    }
   ],
   "source": [
    "total_exp_combinations = list(product(*volume_hyperparams))\n",
    "len(total_exp_combinations), total_exp_combinations[0]"
   ]
  },
  {
   "cell_type": "code",
   "execution_count": 57,
   "id": "a70c8a28",
   "metadata": {
    "ExecuteTime": {
     "end_time": "2022-12-20T05:56:13.183573Z",
     "start_time": "2022-12-20T05:56:13.181469Z"
    },
    "hidden": true
   },
   "outputs": [],
   "source": [
    "env_activate_cmd = \"\"\"\n",
    "source /ext3/miniconda3/etc/profile.d/conda.sh;\n",
    "\n",
    "conda activate /ext3/fedml-env/;\n",
    "\n",
    "cd /scratch/tm3647/MLH/ConVIRT-private/;\n",
    "\"\"\""
   ]
  },
  {
   "cell_type": "code",
   "execution_count": 58,
   "id": "de23cb8e",
   "metadata": {
    "ExecuteTime": {
     "end_time": "2022-12-20T05:56:15.401658Z",
     "start_time": "2022-12-20T05:56:15.396893Z"
    },
    "hidden": true
   },
   "outputs": [],
   "source": [
    "for nr, nc, num_l_ep, excl_flag, eq_num_samples_flag in total_exp_combinations:\n",
    "    job_name = f\"fed_class_{nr}_{nc}_{excl_flag}_{eq_num_samples_flag}\"\n",
    "    sbatch_headers = f\"\"\"#!/bin/bash\n",
    "    \n",
    "#SBATCH --nodes=1\n",
    "#SBATCH --cpus-per-task={cpus}\n",
    "#SBATCH --time={req_time}\n",
    "#SBATCH --mem={mem}\n",
    "#SBATCH --gres=gpu:a100:1\n",
    "#SBATCH --job-name={job_name}\n",
    "#SBATCH --output={sbatch_output_dir}%j_0_log.out\n",
    "#SBATCH --mail-type=ALL\n",
    "#SBATCH --mail-user={mail}\n",
    "\n",
    "    \"\"\"\n",
    "    \n",
    "    py_cmd = f\"\\npython src/run_simulation.py --config-name=prod_simulation server_config.num_rounds={nr} pool_size={nc} partitions=class partitions.num_clients={nc} partitions.exclusive={excl_flag} partitions.equal_num_samples={eq_num_samples_flag} task_name='fed_chexpert_class' job_name={job_name} datamodule.batch_size={batch_size_client_wise[nc]}\"\n",
    "    \n",
    "    sbatch_script = sbatch_headers + singularity_cmd + env_activate_cmd + py_cmd + \"\\n\\\"\"\n",
    "    \n",
    "    with open(f'/scratch/tm3647/MLH/ConVIRT-private/scripts/tejas/a100/fed/class/{job_name}.sbatch', 'w') as f:\n",
    "        f.write(sbatch_script)"
   ]
  },
  {
   "cell_type": "code",
   "execution_count": 59,
   "id": "4b8d2998",
   "metadata": {
    "ExecuteTime": {
     "end_time": "2022-12-20T05:56:16.141823Z",
     "start_time": "2022-12-20T05:56:16.028800Z"
    },
    "hidden": true,
    "scrolled": false
   },
   "outputs": [
    {
     "name": "stdout",
     "output_type": "stream",
     "text": [
      "#!/bin/bash\r\n",
      "    \r\n",
      "#SBATCH --nodes=1\r\n",
      "#SBATCH --cpus-per-task=28\r\n",
      "#SBATCH --time=4:30:00\r\n",
      "#SBATCH --mem=128GB\r\n",
      "#SBATCH --gres=gpu:a100:1\r\n",
      "#SBATCH --job-name=fed_class_100_16_False_False\r\n",
      "#SBATCH --output=/scratch/tm3647/MLH/ConVIRT-private/sbatch_outs/%j_0_log.out\r\n",
      "#SBATCH --mail-type=ALL\r\n",
      "#SBATCH --mail-user=tm3647@nyu.edu\r\n",
      "\r\n",
      "    singularity exec --nv --overlay /scratch/tm3647/public/mlh-env-50G-10M.ext3:ro --overlay /scratch/tm3647/public/CheXpert_v1.sqf:ro --overlay /scratch/tm3647/public/Mimic_cxr_jpg.sqf:ro /scratch/work/public/singularity/cuda11.3.0-cudnn8-devel-ubuntu20.04.sif /bin/bash -c \"\r\n",
      "source /ext3/miniconda3/etc/profile.d/conda.sh;\r\n",
      "\r\n",
      "conda activate /ext3/fedml-env/;\r\n",
      "\r\n",
      "cd /scratch/tm3647/MLH/ConVIRT-private/;\r\n",
      "\r\n",
      "python src/run_simulation.py --config-name=prod_simulation server_config.num_rounds=100 pool_size=16 partitions=class partitions.num_clients=16 partitions.exclusive=False partitions.equal_num_samples=False task_name='fed_chexpert_class' job_name=fed_class_100_16_False_False datamodule.batch_size=64\r\n",
      "\""
     ]
    }
   ],
   "source": [
    "!cat \"/scratch/tm3647/MLH/ConVIRT-private/scripts/tejas/a100/fed/class/fed_class_100_16_False_False.sbatch\""
   ]
  },
  {
   "cell_type": "raw",
   "id": "b7e372d8",
   "metadata": {
    "hidden": true
   },
   "source": [
    "python src/run_simulation.py  server_config.num_rounds=100 pool_size=16 partitions.num_clients=16 partitions.scale=1000 partitions.mode='dirchlet'"
   ]
  },
  {
   "cell_type": "raw",
   "id": "f2d2a106",
   "metadata": {
    "ExecuteTime": {
     "end_time": "2022-12-19T05:21:42.073775Z",
     "start_time": "2022-12-19T05:21:41.964634Z"
    },
    "hidden": true
   },
   "source": [
    "!cat {f'/scratch/tm3647/MLH/ConVIRT-private/scripts/tejas/a100/fed/volume/{job_name}.sbatch'}"
   ]
  },
  {
   "cell_type": "raw",
   "id": "9da7ff7a",
   "metadata": {
    "ExecuteTime": {
     "end_time": "2022-12-19T05:20:33.223864Z",
     "start_time": "2022-12-19T05:20:33.221343Z"
    },
    "hidden": true
   },
   "source": [
    "print(sbatch_script)"
   ]
  },
  {
   "cell_type": "code",
   "execution_count": 60,
   "id": "c9975e15",
   "metadata": {
    "ExecuteTime": {
     "end_time": "2022-12-20T05:56:18.918295Z",
     "start_time": "2022-12-20T05:56:18.915630Z"
    },
    "hidden": true
   },
   "outputs": [],
   "source": [
    "files = glob.glob('/scratch/tm3647/MLH/ConVIRT-private/scripts/tejas/a100/fed/class/*.sbatch')"
   ]
  },
  {
   "cell_type": "code",
   "execution_count": 61,
   "id": "71c54177",
   "metadata": {
    "ExecuteTime": {
     "end_time": "2022-12-20T05:56:19.551341Z",
     "start_time": "2022-12-20T05:56:19.548313Z"
    },
    "hidden": true
   },
   "outputs": [
    {
     "data": {
      "text/plain": [
       "['/scratch/tm3647/MLH/ConVIRT-private/scripts/tejas/a100/fed/class/fed_class_100_8_False_True.sbatch',\n",
       " '/scratch/tm3647/MLH/ConVIRT-private/scripts/tejas/a100/fed/class/fed_class_100_16_True_True.sbatch',\n",
       " '/scratch/tm3647/MLH/ConVIRT-private/scripts/tejas/a100/fed/class/fed_class_100_8_True_True.sbatch',\n",
       " '/scratch/tm3647/MLH/ConVIRT-private/scripts/tejas/a100/fed/class/fed_class_100_4_False_False.sbatch',\n",
       " '/scratch/tm3647/MLH/ConVIRT-private/scripts/tejas/a100/fed/class/fed_class_100_16_False_True.sbatch',\n",
       " '/scratch/tm3647/MLH/ConVIRT-private/scripts/tejas/a100/fed/class/fed_class_100_4_False_True.sbatch',\n",
       " '/scratch/tm3647/MLH/ConVIRT-private/scripts/tejas/a100/fed/class/fed_class_100_8_True_False.sbatch',\n",
       " '/scratch/tm3647/MLH/ConVIRT-private/scripts/tejas/a100/fed/class/fed_class_100_16_True_False.sbatch',\n",
       " '/scratch/tm3647/MLH/ConVIRT-private/scripts/tejas/a100/fed/class/fed_class_100_16_False_False.sbatch',\n",
       " '/scratch/tm3647/MLH/ConVIRT-private/scripts/tejas/a100/fed/class/fed_class_100_4_True_True.sbatch',\n",
       " '/scratch/tm3647/MLH/ConVIRT-private/scripts/tejas/a100/fed/class/fed_class_100_4_True_False.sbatch',\n",
       " '/scratch/tm3647/MLH/ConVIRT-private/scripts/tejas/a100/fed/class/fed_class_100_8_False_False.sbatch']"
      ]
     },
     "execution_count": 61,
     "metadata": {},
     "output_type": "execute_result"
    }
   ],
   "source": [
    "files"
   ]
  },
  {
   "cell_type": "code",
   "execution_count": 62,
   "id": "f88e33c2",
   "metadata": {
    "ExecuteTime": {
     "end_time": "2022-12-20T05:56:20.020774Z",
     "start_time": "2022-12-20T05:56:20.018563Z"
    },
    "hidden": true
   },
   "outputs": [],
   "source": [
    "sbatch_execs = \"\"\n",
    "for f in files:\n",
    "    sbatch_execs += f\"sbatch {f}\\nsleep 2\\n\""
   ]
  },
  {
   "cell_type": "code",
   "execution_count": 63,
   "id": "915b88dc",
   "metadata": {
    "ExecuteTime": {
     "end_time": "2022-12-20T05:56:21.780358Z",
     "start_time": "2022-12-20T05:56:21.777852Z"
    },
    "hidden": true
   },
   "outputs": [
    {
     "name": "stdout",
     "output_type": "stream",
     "text": [
      "sbatch /scratch/tm3647/MLH/ConVIRT-private/scripts/tejas/a100/fed/class/fed_class_100_8_False_True.sbatch\n",
      "sleep 2\n",
      "sbatch /scratch/tm3647/MLH/ConVIRT-private/scripts/tejas/a100/fed/class/fed_class_100_16_True_True.sbatch\n",
      "sleep 2\n",
      "sbatch /scratch/tm3647/MLH/ConVIRT-private/scripts/tejas/a100/fed/class/fed_class_100_8_True_True.sbatch\n",
      "sleep 2\n",
      "sbatch /scratch/tm3647/MLH/ConVIRT-private/scripts/tejas/a100/fed/class/fed_class_100_4_False_False.sbatch\n",
      "sleep 2\n",
      "sbatch /scratch/tm3647/MLH/ConVIRT-private/scripts/tejas/a100/fed/class/fed_class_100_16_False_True.sbatch\n",
      "sleep 2\n",
      "sbatch /scratch/tm3647/MLH/ConVIRT-private/scripts/tejas/a100/fed/class/fed_class_100_4_False_True.sbatch\n",
      "sleep 2\n",
      "sbatch /scratch/tm3647/MLH/ConVIRT-private/scripts/tejas/a100/fed/class/fed_class_100_8_True_False.sbatch\n",
      "sleep 2\n",
      "sbatch /scratch/tm3647/MLH/ConVIRT-private/scripts/tejas/a100/fed/class/fed_class_100_16_True_False.sbatch\n",
      "sleep 2\n",
      "sbatch /scratch/tm3647/MLH/ConVIRT-private/scripts/tejas/a100/fed/class/fed_class_100_16_False_False.sbatch\n",
      "sleep 2\n",
      "sbatch /scratch/tm3647/MLH/ConVIRT-private/scripts/tejas/a100/fed/class/fed_class_100_4_True_True.sbatch\n",
      "sleep 2\n",
      "sbatch /scratch/tm3647/MLH/ConVIRT-private/scripts/tejas/a100/fed/class/fed_class_100_4_True_False.sbatch\n",
      "sleep 2\n",
      "sbatch /scratch/tm3647/MLH/ConVIRT-private/scripts/tejas/a100/fed/class/fed_class_100_8_False_False.sbatch\n",
      "sleep 2\n",
      "\n"
     ]
    }
   ],
   "source": [
    "print(sbatch_execs)"
   ]
  },
  {
   "cell_type": "code",
   "execution_count": 64,
   "id": "4ae77216",
   "metadata": {
    "ExecuteTime": {
     "end_time": "2022-12-20T05:56:23.082996Z",
     "start_time": "2022-12-20T05:56:23.080478Z"
    },
    "hidden": true
   },
   "outputs": [],
   "source": [
    "with open('/scratch/tm3647/MLH/ConVIRT-private/scripts/tejas/a100/fed/class/exec_all.sh', 'w') as f:\n",
    "    f.write(sbatch_execs)"
   ]
  },
  {
   "cell_type": "code",
   "execution_count": 65,
   "id": "6d3496b5",
   "metadata": {
    "ExecuteTime": {
     "end_time": "2022-12-20T05:56:24.049531Z",
     "start_time": "2022-12-20T05:56:23.937695Z"
    },
    "hidden": true
   },
   "outputs": [
    {
     "name": "stdout",
     "output_type": "stream",
     "text": [
      "sbatch /scratch/tm3647/MLH/ConVIRT-private/scripts/tejas/a100/fed/class/fed_class_100_8_False_True.sbatch\r\n",
      "sleep 2\r\n",
      "sbatch /scratch/tm3647/MLH/ConVIRT-private/scripts/tejas/a100/fed/class/fed_class_100_16_True_True.sbatch\r\n",
      "sleep 2\r\n",
      "sbatch /scratch/tm3647/MLH/ConVIRT-private/scripts/tejas/a100/fed/class/fed_class_100_8_True_True.sbatch\r\n",
      "sleep 2\r\n",
      "sbatch /scratch/tm3647/MLH/ConVIRT-private/scripts/tejas/a100/fed/class/fed_class_100_4_False_False.sbatch\r\n",
      "sleep 2\r\n",
      "sbatch /scratch/tm3647/MLH/ConVIRT-private/scripts/tejas/a100/fed/class/fed_class_100_16_False_True.sbatch\r\n",
      "sleep 2\r\n",
      "sbatch /scratch/tm3647/MLH/ConVIRT-private/scripts/tejas/a100/fed/class/fed_class_100_4_False_True.sbatch\r\n",
      "sleep 2\r\n",
      "sbatch /scratch/tm3647/MLH/ConVIRT-private/scripts/tejas/a100/fed/class/fed_class_100_8_True_False.sbatch\r\n",
      "sleep 2\r\n",
      "sbatch /scratch/tm3647/MLH/ConVIRT-private/scripts/tejas/a100/fed/class/fed_class_100_16_True_False.sbatch\r\n",
      "sleep 2\r\n",
      "sbatch /scratch/tm3647/MLH/ConVIRT-private/scripts/tejas/a100/fed/class/fed_class_100_16_False_False.sbatch\r\n",
      "sleep 2\r\n",
      "sbatch /scratch/tm3647/MLH/ConVIRT-private/scripts/tejas/a100/fed/class/fed_class_100_4_True_True.sbatch\r\n",
      "sleep 2\r\n",
      "sbatch /scratch/tm3647/MLH/ConVIRT-private/scripts/tejas/a100/fed/class/fed_class_100_4_True_False.sbatch\r\n",
      "sleep 2\r\n",
      "sbatch /scratch/tm3647/MLH/ConVIRT-private/scripts/tejas/a100/fed/class/fed_class_100_8_False_False.sbatch\r\n",
      "sleep 2\r\n"
     ]
    }
   ],
   "source": [
    "cat /scratch/tm3647/MLH/ConVIRT-private/scripts/tejas/a100/fed/class/exec_all.sh"
   ]
  },
  {
   "cell_type": "code",
   "execution_count": null,
   "id": "5813670c",
   "metadata": {
    "hidden": true
   },
   "outputs": [],
   "source": []
  },
  {
   "cell_type": "markdown",
   "id": "a093c4ab",
   "metadata": {
    "heading_collapsed": true
   },
   "source": [
    "## Feature Configs"
   ]
  },
  {
   "cell_type": "code",
   "execution_count": 66,
   "id": "022241b2",
   "metadata": {
    "ExecuteTime": {
     "end_time": "2022-12-20T05:56:27.645796Z",
     "start_time": "2022-12-20T05:56:27.642935Z"
    },
    "hidden": true
   },
   "outputs": [],
   "source": [
    "mode = [\"nonIID\", \"uniform\"]"
   ]
  },
  {
   "cell_type": "code",
   "execution_count": 67,
   "id": "d0815dbf",
   "metadata": {
    "ExecuteTime": {
     "end_time": "2022-12-20T05:56:27.840591Z",
     "start_time": "2022-12-20T05:56:27.838375Z"
    },
    "hidden": true
   },
   "outputs": [],
   "source": [
    "volume_hyperparams = general_hyperparams+list([mode])"
   ]
  },
  {
   "cell_type": "code",
   "execution_count": 88,
   "id": "a926c1cd",
   "metadata": {
    "ExecuteTime": {
     "end_time": "2022-12-20T06:05:17.343257Z",
     "start_time": "2022-12-20T06:05:17.339964Z"
    },
    "hidden": true
   },
   "outputs": [
    {
     "data": {
      "text/plain": [
       "[[100], [4, 8, 16], [1], ['nonIID', 'uniform']]"
      ]
     },
     "execution_count": 88,
     "metadata": {},
     "output_type": "execute_result"
    }
   ],
   "source": [
    "volume_hyperparams"
   ]
  },
  {
   "cell_type": "code",
   "execution_count": 89,
   "id": "b6cb593e",
   "metadata": {
    "ExecuteTime": {
     "end_time": "2022-12-20T06:05:17.854849Z",
     "start_time": "2022-12-20T06:05:17.851555Z"
    },
    "hidden": true
   },
   "outputs": [
    {
     "data": {
      "text/plain": [
       "(6, (100, 4, 1, 'nonIID'))"
      ]
     },
     "execution_count": 89,
     "metadata": {},
     "output_type": "execute_result"
    }
   ],
   "source": [
    "total_exp_combinations = list(product(*volume_hyperparams))\n",
    "len(total_exp_combinations), total_exp_combinations[0]"
   ]
  },
  {
   "cell_type": "code",
   "execution_count": 90,
   "id": "5b42ce94",
   "metadata": {
    "ExecuteTime": {
     "end_time": "2022-12-20T06:05:18.315116Z",
     "start_time": "2022-12-20T06:05:18.312988Z"
    },
    "hidden": true
   },
   "outputs": [],
   "source": [
    "env_activate_cmd = \"\"\"\n",
    "source /ext3/miniconda3/etc/profile.d/conda.sh;\n",
    "\n",
    "conda activate /ext3/fedml-env/;\n",
    "\n",
    "cd /scratch/tm3647/MLH/ConVIRT-private/;\n",
    "\"\"\""
   ]
  },
  {
   "cell_type": "code",
   "execution_count": 91,
   "id": "6ffe0545",
   "metadata": {
    "ExecuteTime": {
     "end_time": "2022-12-20T06:05:18.941416Z",
     "start_time": "2022-12-20T06:05:18.935546Z"
    },
    "hidden": true
   },
   "outputs": [],
   "source": [
    "for nr, nc, num_l_ep, mode_val in total_exp_combinations:\n",
    "    job_name = f\"fed_feature_{nr}_{nc}_{mode_val}\"\n",
    "    sbatch_headers = f\"\"\"#!/bin/bash\n",
    "    \n",
    "#SBATCH --nodes=1\n",
    "#SBATCH --cpus-per-task={cpus}\n",
    "#SBATCH --time={req_time}\n",
    "#SBATCH --mem={mem}\n",
    "#SBATCH --gres=gpu:a100:1\n",
    "#SBATCH --job-name={job_name}\n",
    "#SBATCH --output={sbatch_output_dir}%j_0_log.out\n",
    "#SBATCH --mail-type=ALL\n",
    "#SBATCH --mail-user={mail}\n",
    "\n",
    "    \"\"\"\n",
    "    \n",
    "    py_cmd = f\"\\npython src/run_simulation.py --config-name=prod_simulation server_config.num_rounds={nr} pool_size={nc} partitions=feature partitions.num_partitions={nc} partitions.mode={mode_val} task_name='fed_chexpert_feature' job_name={job_name} datamodule.batch_size={batch_size_client_wise[nc]}\"\n",
    "    \n",
    "    sbatch_script = sbatch_headers + singularity_cmd + env_activate_cmd + py_cmd + \"\\n\\\"\"\n",
    "    \n",
    "    with open(f'/scratch/tm3647/MLH/ConVIRT-private/scripts/tejas/a100/fed/feature/{job_name}.sbatch', 'w') as f:\n",
    "        f.write(sbatch_script)"
   ]
  },
  {
   "cell_type": "code",
   "execution_count": 92,
   "id": "71a4f25d",
   "metadata": {
    "ExecuteTime": {
     "end_time": "2022-12-20T06:05:21.329472Z",
     "start_time": "2022-12-20T06:05:21.217898Z"
    },
    "hidden": true,
    "scrolled": false
   },
   "outputs": [
    {
     "name": "stdout",
     "output_type": "stream",
     "text": [
      "#!/bin/bash\r\n",
      "    \r\n",
      "#SBATCH --nodes=1\r\n",
      "#SBATCH --cpus-per-task=28\r\n",
      "#SBATCH --time=4:30:00\r\n",
      "#SBATCH --mem=128GB\r\n",
      "#SBATCH --gres=gpu:a100:1\r\n",
      "#SBATCH --job-name=fed_class_100_4_nonIID\r\n",
      "#SBATCH --output=/scratch/tm3647/MLH/ConVIRT-private/sbatch_outs/%j_0_log.out\r\n",
      "#SBATCH --mail-type=ALL\r\n",
      "#SBATCH --mail-user=tm3647@nyu.edu\r\n",
      "\r\n",
      "    singularity exec --nv --overlay /scratch/tm3647/public/mlh-env-50G-10M.ext3:ro --overlay /scratch/tm3647/public/CheXpert_v1.sqf:ro --overlay /scratch/tm3647/public/Mimic_cxr_jpg.sqf:ro /scratch/work/public/singularity/cuda11.3.0-cudnn8-devel-ubuntu20.04.sif /bin/bash -c \"\r\n",
      "source /ext3/miniconda3/etc/profile.d/conda.sh;\r\n",
      "\r\n",
      "conda activate /ext3/fedml-env/;\r\n",
      "\r\n",
      "cd /scratch/tm3647/MLH/ConVIRT-private/;\r\n",
      "\r\n",
      "python src/run_simulation.py --config-name=prod_simulation server_config.num_rounds=100 pool_size=4 partitions=feature partitions.num_partitions=4 partitions.mode=nonIID task_name='fed_chexpert_feature' job_name=fed_class_100_4_nonIID datamodule.batch_size=256\r\n",
      "\""
     ]
    }
   ],
   "source": [
    "!cat \"/scratch/tm3647/MLH/ConVIRT-private/scripts/tejas/a100/fed/feature/fed_class_100_4_nonIID.sbatch\""
   ]
  },
  {
   "cell_type": "raw",
   "id": "e62cb72e",
   "metadata": {
    "hidden": true
   },
   "source": [
    "python src/run_simulation.py  server_config.num_rounds=100 pool_size=16 partitions.num_clients=16 partitions.scale=1000 partitions.mode='dirchlet'"
   ]
  },
  {
   "cell_type": "raw",
   "id": "6dde5b36",
   "metadata": {
    "ExecuteTime": {
     "end_time": "2022-12-19T05:21:42.073775Z",
     "start_time": "2022-12-19T05:21:41.964634Z"
    },
    "hidden": true
   },
   "source": [
    "!cat {f'/scratch/tm3647/MLH/ConVIRT-private/scripts/tejas/a100/fed/volume/{job_name}.sbatch'}"
   ]
  },
  {
   "cell_type": "raw",
   "id": "5c4d64b9",
   "metadata": {
    "ExecuteTime": {
     "end_time": "2022-12-19T05:20:33.223864Z",
     "start_time": "2022-12-19T05:20:33.221343Z"
    },
    "hidden": true
   },
   "source": [
    "print(sbatch_script)"
   ]
  },
  {
   "cell_type": "code",
   "execution_count": 96,
   "id": "48792005",
   "metadata": {
    "ExecuteTime": {
     "end_time": "2022-12-20T06:09:18.834158Z",
     "start_time": "2022-12-20T06:09:18.830628Z"
    },
    "hidden": true
   },
   "outputs": [],
   "source": [
    "files = glob.glob('/scratch/tm3647/MLH/ConVIRT-private/scripts/tejas/a100/fed/feature/*.sbatch')"
   ]
  },
  {
   "cell_type": "code",
   "execution_count": 97,
   "id": "aec42f54",
   "metadata": {
    "ExecuteTime": {
     "end_time": "2022-12-20T06:09:19.184590Z",
     "start_time": "2022-12-20T06:09:19.181776Z"
    },
    "hidden": true
   },
   "outputs": [
    {
     "data": {
      "text/plain": [
       "['/scratch/tm3647/MLH/ConVIRT-private/scripts/tejas/a100/fed/feature/fed_feature_100_4_uniform.sbatch',\n",
       " '/scratch/tm3647/MLH/ConVIRT-private/scripts/tejas/a100/fed/feature/fed_feature_100_16_uniform.sbatch',\n",
       " '/scratch/tm3647/MLH/ConVIRT-private/scripts/tejas/a100/fed/feature/fed_feature_100_16_nonIID.sbatch',\n",
       " '/scratch/tm3647/MLH/ConVIRT-private/scripts/tejas/a100/fed/feature/fed_feature_100_8_uniform.sbatch',\n",
       " '/scratch/tm3647/MLH/ConVIRT-private/scripts/tejas/a100/fed/feature/fed_feature_100_4_nonIID.sbatch',\n",
       " '/scratch/tm3647/MLH/ConVIRT-private/scripts/tejas/a100/fed/feature/fed_feature_100_8_nonIID.sbatch']"
      ]
     },
     "execution_count": 97,
     "metadata": {},
     "output_type": "execute_result"
    }
   ],
   "source": [
    "files"
   ]
  },
  {
   "cell_type": "code",
   "execution_count": 98,
   "id": "52d9f2b3",
   "metadata": {
    "ExecuteTime": {
     "end_time": "2022-12-20T06:09:23.339092Z",
     "start_time": "2022-12-20T06:09:23.336670Z"
    },
    "hidden": true
   },
   "outputs": [],
   "source": [
    "sbatch_execs = \"\"\n",
    "for f in files:\n",
    "    sbatch_execs += f\"sbatch {f}\\nsleep 2\\n\""
   ]
  },
  {
   "cell_type": "code",
   "execution_count": 99,
   "id": "7975706d",
   "metadata": {
    "ExecuteTime": {
     "end_time": "2022-12-20T06:09:23.714708Z",
     "start_time": "2022-12-20T06:09:23.712230Z"
    },
    "hidden": true
   },
   "outputs": [
    {
     "name": "stdout",
     "output_type": "stream",
     "text": [
      "sbatch /scratch/tm3647/MLH/ConVIRT-private/scripts/tejas/a100/fed/feature/fed_feature_100_4_uniform.sbatch\n",
      "sleep 2\n",
      "sbatch /scratch/tm3647/MLH/ConVIRT-private/scripts/tejas/a100/fed/feature/fed_feature_100_16_uniform.sbatch\n",
      "sleep 2\n",
      "sbatch /scratch/tm3647/MLH/ConVIRT-private/scripts/tejas/a100/fed/feature/fed_feature_100_16_nonIID.sbatch\n",
      "sleep 2\n",
      "sbatch /scratch/tm3647/MLH/ConVIRT-private/scripts/tejas/a100/fed/feature/fed_feature_100_8_uniform.sbatch\n",
      "sleep 2\n",
      "sbatch /scratch/tm3647/MLH/ConVIRT-private/scripts/tejas/a100/fed/feature/fed_feature_100_4_nonIID.sbatch\n",
      "sleep 2\n",
      "sbatch /scratch/tm3647/MLH/ConVIRT-private/scripts/tejas/a100/fed/feature/fed_feature_100_8_nonIID.sbatch\n",
      "sleep 2\n",
      "\n"
     ]
    }
   ],
   "source": [
    "print(sbatch_execs)"
   ]
  },
  {
   "cell_type": "code",
   "execution_count": 100,
   "id": "e7983c20",
   "metadata": {
    "ExecuteTime": {
     "end_time": "2022-12-20T06:10:08.313343Z",
     "start_time": "2022-12-20T06:10:08.310724Z"
    },
    "hidden": true
   },
   "outputs": [],
   "source": [
    "with open('/scratch/tm3647/MLH/ConVIRT-private/scripts/tejas/a100/fed/feature/exec_all.sh', 'w') as f:\n",
    "    f.write(sbatch_execs)"
   ]
  },
  {
   "cell_type": "code",
   "execution_count": 101,
   "id": "68ea3040",
   "metadata": {
    "ExecuteTime": {
     "end_time": "2022-12-20T06:10:08.667064Z",
     "start_time": "2022-12-20T06:10:08.555668Z"
    },
    "hidden": true
   },
   "outputs": [
    {
     "name": "stdout",
     "output_type": "stream",
     "text": [
      "sbatch /scratch/tm3647/MLH/ConVIRT-private/scripts/tejas/a100/fed/feature/fed_feature_100_4_uniform.sbatch\r\n",
      "sleep 2\r\n",
      "sbatch /scratch/tm3647/MLH/ConVIRT-private/scripts/tejas/a100/fed/feature/fed_feature_100_16_uniform.sbatch\r\n",
      "sleep 2\r\n",
      "sbatch /scratch/tm3647/MLH/ConVIRT-private/scripts/tejas/a100/fed/feature/fed_feature_100_16_nonIID.sbatch\r\n",
      "sleep 2\r\n",
      "sbatch /scratch/tm3647/MLH/ConVIRT-private/scripts/tejas/a100/fed/feature/fed_feature_100_8_uniform.sbatch\r\n",
      "sleep 2\r\n",
      "sbatch /scratch/tm3647/MLH/ConVIRT-private/scripts/tejas/a100/fed/feature/fed_feature_100_4_nonIID.sbatch\r\n",
      "sleep 2\r\n",
      "sbatch /scratch/tm3647/MLH/ConVIRT-private/scripts/tejas/a100/fed/feature/fed_feature_100_8_nonIID.sbatch\r\n",
      "sleep 2\r\n"
     ]
    }
   ],
   "source": [
    "cat /scratch/tm3647/MLH/ConVIRT-private/scripts/tejas/a100/fed/feature/exec_all.sh"
   ]
  },
  {
   "cell_type": "code",
   "execution_count": null,
   "id": "616ddc73",
   "metadata": {
    "hidden": true
   },
   "outputs": [],
   "source": []
  },
  {
   "cell_type": "markdown",
   "id": "b4e13f37",
   "metadata": {},
   "source": [
    "## ...."
   ]
  },
  {
   "cell_type": "code",
   "execution_count": null,
   "id": "500f46ef",
   "metadata": {},
   "outputs": [],
   "source": []
  },
  {
   "cell_type": "code",
   "execution_count": null,
   "id": "90588f30",
   "metadata": {},
   "outputs": [],
   "source": []
  },
  {
   "cell_type": "code",
   "execution_count": null,
   "id": "8938568a",
   "metadata": {},
   "outputs": [],
   "source": []
  }
 ],
 "metadata": {
  "kernelspec": {
   "display_name": "fedml-env",
   "language": "python",
   "name": "fedml-env"
  },
  "language_info": {
   "codemirror_mode": {
    "name": "ipython",
    "version": 3
   },
   "file_extension": ".py",
   "mimetype": "text/x-python",
   "name": "python",
   "nbconvert_exporter": "python",
   "pygments_lexer": "ipython3",
   "version": "3.7.12"
  }
 },
 "nbformat": 4,
 "nbformat_minor": 5
}
