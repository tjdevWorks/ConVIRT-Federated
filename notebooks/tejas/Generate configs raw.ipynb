{
 "cells": [
  {
   "cell_type": "markdown",
   "id": "084d64bf",
   "metadata": {},
   "source": [
    "## Import Libraries"
   ]
  },
  {
   "cell_type": "code",
   "execution_count": 3,
   "id": "2e4eec60",
   "metadata": {
    "ExecuteTime": {
     "end_time": "2022-12-19T04:24:53.173182Z",
     "start_time": "2022-12-19T04:24:53.170560Z"
    }
   },
   "outputs": [],
   "source": [
    "from itertools import product"
   ]
  },
  {
   "cell_type": "raw",
   "id": "870ad841",
   "metadata": {},
   "source": [
    "Volume Hyperparameters\n",
    "- alpha (scale)\n",
    "- distribution type\n",
    "\n",
    "General Hyperparameters\n",
    "- Num_Rounds\n",
    "- Num_Clients\n",
    "- Num_Local_Epochs"
   ]
  },
  {
   "cell_type": "raw",
   "id": "5ea9a321",
   "metadata": {},
   "source": [
    "Change Task Name\n",
    "Disable ray dashboard"
   ]
  },
  {
   "cell_type": "code",
   "execution_count": 1,
   "id": "3c8ca079",
   "metadata": {
    "ExecuteTime": {
     "end_time": "2022-12-19T04:22:52.028002Z",
     "start_time": "2022-12-19T04:22:52.025518Z"
    }
   },
   "outputs": [],
   "source": [
    "singularity_cmd = 'singularity exec --nv --overlay /scratch/tm3647/public/mlh-env-50G-10M.ext3:ro --overlay /scratch/tm3647/public/CheXpert_v1.sqf:ro --overlay /scratch/tm3647/public/Mimic_cxr_jpg.sqf:ro /scratch/work/public/singularity/cuda11.3.0-cudnn8-devel-ubuntu20.04.sif /bin/bash -c \"'"
   ]
  },
  {
   "cell_type": "markdown",
   "id": "3bee250d",
   "metadata": {},
   "source": [
    "## General Hyperparamters"
   ]
  },
  {
   "cell_type": "code",
   "execution_count": 2,
   "id": "c9698767",
   "metadata": {
    "ExecuteTime": {
     "end_time": "2022-12-19T04:22:53.248332Z",
     "start_time": "2022-12-19T04:22:53.246061Z"
    }
   },
   "outputs": [],
   "source": [
    "num_rounds = [100]\n",
    "num_clients = [4, 8, 16]\n",
    "num_local_epochs = [1]"
   ]
  },
  {
   "cell_type": "code",
   "execution_count": 18,
   "id": "a8b2761e",
   "metadata": {
    "ExecuteTime": {
     "end_time": "2022-12-19T04:28:36.210379Z",
     "start_time": "2022-12-19T04:28:36.207051Z"
    }
   },
   "outputs": [
    {
     "data": {
      "text/plain": [
       "[[100], [4, 8, 16], [1]]"
      ]
     },
     "execution_count": 18,
     "metadata": {},
     "output_type": "execute_result"
    }
   ],
   "source": [
    "general_hyperparams = list([num_rounds, num_clients, num_local_epochs])\n",
    "general_hyperparams"
   ]
  },
  {
   "cell_type": "code",
   "execution_count": 16,
   "id": "102f19b9",
   "metadata": {
    "ExecuteTime": {
     "end_time": "2022-12-19T04:26:47.000674Z",
     "start_time": "2022-12-19T04:26:46.997515Z"
    }
   },
   "outputs": [
    {
     "data": {
      "text/plain": [
       "[(100, 4, 1), (100, 8, 1), (100, 16, 1)]"
      ]
     },
     "execution_count": 16,
     "metadata": {},
     "output_type": "execute_result"
    }
   ],
   "source": [
    "list(product(*x))"
   ]
  },
  {
   "cell_type": "markdown",
   "id": "320f13e4",
   "metadata": {},
   "source": [
    "## Volume Configs"
   ]
  },
  {
   "cell_type": "code",
   "execution_count": 25,
   "id": "239d521f",
   "metadata": {
    "ExecuteTime": {
     "end_time": "2022-12-19T04:31:03.774764Z",
     "start_time": "2022-12-19T04:31:03.772390Z"
    }
   },
   "outputs": [],
   "source": [
    "scales = [1, 10, 100, 1000]\n",
    "modes = ['dirchlet']"
   ]
  },
  {
   "cell_type": "code",
   "execution_count": 26,
   "id": "870cf0e6",
   "metadata": {
    "ExecuteTime": {
     "end_time": "2022-12-19T04:31:04.200850Z",
     "start_time": "2022-12-19T04:31:04.198533Z"
    }
   },
   "outputs": [],
   "source": [
    "volume_hyperparams = general_hyperparams+list([scales, modes])"
   ]
  },
  {
   "cell_type": "code",
   "execution_count": 27,
   "id": "d613b34f",
   "metadata": {
    "ExecuteTime": {
     "end_time": "2022-12-19T04:31:04.669789Z",
     "start_time": "2022-12-19T04:31:04.666408Z"
    }
   },
   "outputs": [
    {
     "data": {
      "text/plain": [
       "[[100], [4, 8, 16], [1], [1, 10, 100, 1000], ['dirchlet']]"
      ]
     },
     "execution_count": 27,
     "metadata": {},
     "output_type": "execute_result"
    }
   ],
   "source": [
    "volume_hyperparams"
   ]
  },
  {
   "cell_type": "code",
   "execution_count": 31,
   "id": "54dd30e0",
   "metadata": {
    "ExecuteTime": {
     "end_time": "2022-12-19T04:32:27.969576Z",
     "start_time": "2022-12-19T04:32:27.965584Z"
    }
   },
   "outputs": [
    {
     "data": {
      "text/plain": [
       "([(100, 4, 1, 1, 'dirchlet'),\n",
       "  (100, 4, 1, 10, 'dirchlet'),\n",
       "  (100, 4, 1, 100, 'dirchlet'),\n",
       "  (100, 4, 1, 1000, 'dirchlet'),\n",
       "  (100, 8, 1, 1, 'dirchlet'),\n",
       "  (100, 8, 1, 10, 'dirchlet'),\n",
       "  (100, 8, 1, 100, 'dirchlet'),\n",
       "  (100, 8, 1, 1000, 'dirchlet'),\n",
       "  (100, 16, 1, 1, 'dirchlet'),\n",
       "  (100, 16, 1, 10, 'dirchlet'),\n",
       "  (100, 16, 1, 100, 'dirchlet'),\n",
       "  (100, 16, 1, 1000, 'dirchlet')],\n",
       " 12)"
      ]
     },
     "execution_count": 31,
     "metadata": {},
     "output_type": "execute_result"
    }
   ],
   "source": [
    "total_exp_combinations"
   ]
  },
  {
   "cell_type": "code",
   "execution_count": 33,
   "id": "09b9b079",
   "metadata": {
    "ExecuteTime": {
     "end_time": "2022-12-19T04:33:10.080194Z",
     "start_time": "2022-12-19T04:33:10.076946Z"
    }
   },
   "outputs": [
    {
     "data": {
      "text/plain": [
       "(12, (100, 4, 1, 1, 'dirchlet'))"
      ]
     },
     "execution_count": 33,
     "metadata": {},
     "output_type": "execute_result"
    }
   ],
   "source": [
    "total_exp_combinations = list(product(*volume_hyperparams))\n",
    "len(total_exp_combinations), total_exp_combinations[0]"
   ]
  },
  {
   "cell_type": "code",
   "execution_count": 50,
   "id": "8207c696",
   "metadata": {
    "ExecuteTime": {
     "end_time": "2022-12-19T04:43:35.690641Z",
     "start_time": "2022-12-19T04:43:35.688487Z"
    }
   },
   "outputs": [],
   "source": [
    "env_activate_cmd = \"\"\"\n",
    "source /ext3/miniconda3/etc/profile.d/conda.sh;\n",
    "\n",
    "conda activate /ext3/fedml-env/;\n",
    "\n",
    "cd /scratch/tm3647/MLH/ConVIRT-private/;\n",
    "\"\"\""
   ]
  },
  {
   "cell_type": "code",
   "execution_count": 52,
   "id": "cf695684",
   "metadata": {
    "ExecuteTime": {
     "end_time": "2022-12-19T05:09:18.345945Z",
     "start_time": "2022-12-19T05:09:18.343031Z"
    }
   },
   "outputs": [
    {
     "data": {
      "text/plain": [
       "'fed_vol_100_4_1_dirchlet'"
      ]
     },
     "execution_count": 52,
     "metadata": {},
     "output_type": "execute_result"
    }
   ],
   "source": [
    "job_name"
   ]
  },
  {
   "cell_type": "code",
   "execution_count": 91,
   "id": "6bc8b2bc",
   "metadata": {
    "ExecuteTime": {
     "end_time": "2022-12-19T05:53:14.844589Z",
     "start_time": "2022-12-19T05:53:14.839491Z"
    }
   },
   "outputs": [],
   "source": [
    "for nr, nc, num_l_ep, scale_val, mode_val in total_exp_combinations:\n",
    "    job_name = f\"fed_vol_{nr}_{nc}_{scale_val}_{mode_val}\"\n",
    "    sbatch_headers = f\"\"\"#!/bin/bash\n",
    "    \n",
    "#SBATCH --nodes=1\n",
    "#SBATCH --cpus-per-task=28\n",
    "#SBATCH --time=5:00:00\n",
    "#SBATCH --mem=64GB\n",
    "#SBATCH --gres=gpu:a100:1\n",
    "#SBATCH --job-name={job_name}\n",
    "#SBATCH --output=/scratch/tm3647/MLH/ConVIRT-private/sbatch_outs/%j_0_log.out\n",
    "#SBATCH --mail-type=ALL\n",
    "#SBATCH --mail-user=tm3647@nyu.edu\n",
    "\n",
    "    \"\"\"\n",
    "    \n",
    "    py_cmd = f\"\\npython src/run_simulation.py  server_config.num_rounds={nr} pool_size={nc} partitions.num_clients={nc} partitions.scale={scale_val} partitions.mode='{mode_val}' task_name='fed_chexpert_volume'\"\n",
    "    \n",
    "    sbatch_script = sbatch_headers + singularity_cmd + env_activate_cmd + py_cmd + \"\\n\\\"\"\n",
    "    \n",
    "    with open(f'/scratch/tm3647/MLH/ConVIRT-private/scripts/tejas/a100/fed/volume/{job_name}.sbatch', 'w') as f:\n",
    "        f.write(sbatch_script)"
   ]
  },
  {
   "cell_type": "code",
   "execution_count": 90,
   "id": "8f8cafd5",
   "metadata": {
    "ExecuteTime": {
     "end_time": "2022-12-19T05:40:12.948793Z",
     "start_time": "2022-12-19T05:40:12.837757Z"
    }
   },
   "outputs": [
    {
     "name": "stdout",
     "output_type": "stream",
     "text": [
      "#!/bin/bash\r\n",
      "    \r\n",
      "#SBATCH --nodes=1\r\n",
      "#SBATCH --cpus-per-task=28\r\n",
      "#SBATCH --time=5:00:00\r\n",
      "#SBATCH --mem=64GB\r\n",
      "#SBATCH --gres=gpu:a100:1\r\n",
      "#SBATCH --job-name=fed_vol_100_4_1_dirchlet\r\n",
      "#SBATCH --output=/scratch/tm3647/MLH/ConVIRT-private/sbatch_outs/%j_0_log.out\r\n",
      "#SBATCH --mail-type=ALL\r\n",
      "#SBATCH --mail-user=tm3647@nyu.edu\r\n",
      "\r\n",
      "    singularity exec --nv --overlay /scratch/tm3647/public/mlh-env-50G-10M.ext3:ro --overlay /scratch/tm3647/public/CheXpert_v1.sqf:ro --overlay /scratch/tm3647/public/Mimic_cxr_jpg.sqf:ro /scratch/work/public/singularity/cuda11.3.0-cudnn8-devel-ubuntu20.04.sif /bin/bash -c \"\r\n",
      "source /ext3/miniconda3/etc/profile.d/conda.sh;\r\n",
      "\r\n",
      "conda activate /ext3/fedml-env/;\r\n",
      "\r\n",
      "cd /scratch/tm3647/MLH/ConVIRT-private/;\r\n",
      "\r\n",
      "python src/run_simulation.py  server_config.num_rounds=100 pool_size=4 partitions.scale=1 partitions.mode='dirchlet' task_name='fed_chexpert_volume'\r\n",
      "\""
     ]
    }
   ],
   "source": [
    "!cat \"/scratch/tm3647/MLH/ConVIRT-private/scripts/tejas/a100/fed/volume/fed_vol_100_4_1_dirchlet.sbatch\""
   ]
  },
  {
   "cell_type": "code",
   "execution_count": 71,
   "id": "ef40bba4",
   "metadata": {
    "ExecuteTime": {
     "end_time": "2022-12-19T05:21:42.073775Z",
     "start_time": "2022-12-19T05:21:41.964634Z"
    }
   },
   "outputs": [
    {
     "name": "stdout",
     "output_type": "stream",
     "text": [
      "cat: {f/scratch/tm3647/MLH/ConVIRT-private/scripts/tejas/a100/fed/volume/{job_name}.sbatch}: No such file or directory\r\n"
     ]
    }
   ],
   "source": [
    "!cat {f'/scratch/tm3647/MLH/ConVIRT-private/scripts/tejas/a100/fed/volume/{job_name}.sbatch'}"
   ]
  },
  {
   "cell_type": "code",
   "execution_count": 68,
   "id": "f5f9ab34",
   "metadata": {
    "ExecuteTime": {
     "end_time": "2022-12-19T05:20:33.223864Z",
     "start_time": "2022-12-19T05:20:33.221343Z"
    }
   },
   "outputs": [
    {
     "name": "stdout",
     "output_type": "stream",
     "text": [
      "#!/bin/bash\n",
      "    \n",
      "#SBATCH --nodes=1\n",
      "#SBATCH --cpus-per-task=28\n",
      "#SBATCH --time=5:00:00\n",
      "#SBATCH --mem=64GB\n",
      "#SBATCH --gres=gpu:a100:1\n",
      "#SBATCH --job-name=fed_vol_100_4_1_dirchlet\n",
      "#SBATCH --output=/scratch/tm3647/MLH/ConVIRT-private/sbatch_outs/%j_0_log.out\n",
      "#SBATCH --mail-type=ALL\n",
      "#SBATCH --mail-user=tm3647@nyu.edu\n",
      "\n",
      "    singularity exec --nv --overlay /scratch/tm3647/public/mlh-env-50G-10M.ext3:ro --overlay /scratch/tm3647/public/CheXpert_v1.sqf:ro --overlay /scratch/tm3647/public/Mimic_cxr_jpg.sqf:ro /scratch/work/public/singularity/cuda11.3.0-cudnn8-devel-ubuntu20.04.sif /bin/bash -c \"\n",
      "source /ext3/miniconda3/etc/profile.d/conda.sh;\n",
      "\n",
      "conda activate /ext3/fedml-env/;\n",
      "\n",
      "cd /scratch/tm3647/MLH/ConVIRT-private/;\n",
      "\n",
      "python src/run_simulation.py  server_config.num_rounds=100 pool_size=4 partitions.scale=1 partitions.mode=\"dirchlet\"\n",
      "\"\n"
     ]
    }
   ],
   "source": [
    "print(sbatch_script)"
   ]
  },
  {
   "cell_type": "code",
   "execution_count": 49,
   "id": "9e8863e8",
   "metadata": {
    "ExecuteTime": {
     "end_time": "2022-12-19T04:41:13.481327Z",
     "start_time": "2022-12-19T04:41:13.478874Z"
    }
   },
   "outputs": [
    {
     "data": {
      "text/plain": [
       "'#!/bin/bash\\n    \\n#SBATCH --nodes=1\\n#SBATCH --cpus-per-task=28\\n#SBATCH --time=5:00:00\\n#SBATCH --mem=64GB\\n#SBATCH --gres=gpu:a100:1\\n#SBATCH --job-name=fed_vol_100_4_1_dirchlet\\n#SBATCH --output=/scratch/tm3647/MLH/ConVIRT-private/sbatch_outs/%j_0_log.out\\n#SBATCH --mail-type=ALL\\n#SBATCH --mail-user=tm3647@nyu.edu\\n\\n    '"
      ]
     },
     "execution_count": 49,
     "metadata": {},
     "output_type": "execute_result"
    }
   ],
   "source": [
    "sbatch_headers"
   ]
  },
  {
   "cell_type": "code",
   "execution_count": 80,
   "id": "48b39a9a",
   "metadata": {
    "ExecuteTime": {
     "end_time": "2022-12-19T05:31:16.283530Z",
     "start_time": "2022-12-19T05:31:16.281457Z"
    }
   },
   "outputs": [],
   "source": [
    "import glob"
   ]
  },
  {
   "cell_type": "code",
   "execution_count": 82,
   "id": "4ccdbced",
   "metadata": {
    "ExecuteTime": {
     "end_time": "2022-12-19T05:31:32.583702Z",
     "start_time": "2022-12-19T05:31:32.581306Z"
    }
   },
   "outputs": [],
   "source": [
    "files = glob.glob('/scratch/tm3647/MLH/ConVIRT-private/scripts/tejas/a100/fed/volume/*.sbatch')"
   ]
  },
  {
   "cell_type": "code",
   "execution_count": 83,
   "id": "1009bb22",
   "metadata": {
    "ExecuteTime": {
     "end_time": "2022-12-19T05:31:34.704868Z",
     "start_time": "2022-12-19T05:31:34.701735Z"
    }
   },
   "outputs": [
    {
     "data": {
      "text/plain": [
       "['/scratch/tm3647/MLH/ConVIRT-private/scripts/tejas/a100/fed/volume/fed_vol_100_8_100_dirchlet.sbatch',\n",
       " '/scratch/tm3647/MLH/ConVIRT-private/scripts/tejas/a100/fed/volume/fed_vol_100_4_100_dirchlet.sbatch',\n",
       " '/scratch/tm3647/MLH/ConVIRT-private/scripts/tejas/a100/fed/volume/fed_vol_100_16_1000_dirchlet.sbatch',\n",
       " '/scratch/tm3647/MLH/ConVIRT-private/scripts/tejas/a100/fed/volume/fed_vol_100_16_100_dirchlet.sbatch',\n",
       " '/scratch/tm3647/MLH/ConVIRT-private/scripts/tejas/a100/fed/volume/fed_vol_100_8_10_dirchlet.sbatch',\n",
       " '/scratch/tm3647/MLH/ConVIRT-private/scripts/tejas/a100/fed/volume/fed_vol_100_4_1000_dirchlet.sbatch',\n",
       " '/scratch/tm3647/MLH/ConVIRT-private/scripts/tejas/a100/fed/volume/fed_vol_100_16_1_dirchlet.sbatch',\n",
       " '/scratch/tm3647/MLH/ConVIRT-private/scripts/tejas/a100/fed/volume/fed_vol_100_4_10_dirchlet.sbatch',\n",
       " '/scratch/tm3647/MLH/ConVIRT-private/scripts/tejas/a100/fed/volume/fed_vol_100_16_10_dirchlet.sbatch',\n",
       " '/scratch/tm3647/MLH/ConVIRT-private/scripts/tejas/a100/fed/volume/fed_vol_100_8_1000_dirchlet.sbatch',\n",
       " '/scratch/tm3647/MLH/ConVIRT-private/scripts/tejas/a100/fed/volume/fed_vol_100_8_1_dirchlet.sbatch',\n",
       " '/scratch/tm3647/MLH/ConVIRT-private/scripts/tejas/a100/fed/volume/fed_vol_100_4_1_dirchlet.sbatch']"
      ]
     },
     "execution_count": 83,
     "metadata": {},
     "output_type": "execute_result"
    }
   ],
   "source": [
    "files"
   ]
  },
  {
   "cell_type": "code",
   "execution_count": 87,
   "id": "86075d69",
   "metadata": {
    "ExecuteTime": {
     "end_time": "2022-12-19T05:35:09.748860Z",
     "start_time": "2022-12-19T05:35:09.746986Z"
    }
   },
   "outputs": [],
   "source": [
    "sbatch_execs = \"\"\n",
    "for f in files:\n",
    "    sbatch_execs += f\"sbatch {f}\\nsleep 2\\n\""
   ]
  },
  {
   "cell_type": "code",
   "execution_count": 88,
   "id": "dbd1c79e",
   "metadata": {
    "ExecuteTime": {
     "end_time": "2022-12-19T05:35:11.122794Z",
     "start_time": "2022-12-19T05:35:11.120816Z"
    }
   },
   "outputs": [
    {
     "name": "stdout",
     "output_type": "stream",
     "text": [
      "sbatch /scratch/tm3647/MLH/ConVIRT-private/scripts/tejas/a100/fed/volume/fed_vol_100_8_100_dirchlet.sbatch\n",
      "sleep 2\n",
      "sbatch /scratch/tm3647/MLH/ConVIRT-private/scripts/tejas/a100/fed/volume/fed_vol_100_4_100_dirchlet.sbatch\n",
      "sleep 2\n",
      "sbatch /scratch/tm3647/MLH/ConVIRT-private/scripts/tejas/a100/fed/volume/fed_vol_100_16_1000_dirchlet.sbatch\n",
      "sleep 2\n",
      "sbatch /scratch/tm3647/MLH/ConVIRT-private/scripts/tejas/a100/fed/volume/fed_vol_100_16_100_dirchlet.sbatch\n",
      "sleep 2\n",
      "sbatch /scratch/tm3647/MLH/ConVIRT-private/scripts/tejas/a100/fed/volume/fed_vol_100_8_10_dirchlet.sbatch\n",
      "sleep 2\n",
      "sbatch /scratch/tm3647/MLH/ConVIRT-private/scripts/tejas/a100/fed/volume/fed_vol_100_4_1000_dirchlet.sbatch\n",
      "sleep 2\n",
      "sbatch /scratch/tm3647/MLH/ConVIRT-private/scripts/tejas/a100/fed/volume/fed_vol_100_16_1_dirchlet.sbatch\n",
      "sleep 2\n",
      "sbatch /scratch/tm3647/MLH/ConVIRT-private/scripts/tejas/a100/fed/volume/fed_vol_100_4_10_dirchlet.sbatch\n",
      "sleep 2\n",
      "sbatch /scratch/tm3647/MLH/ConVIRT-private/scripts/tejas/a100/fed/volume/fed_vol_100_16_10_dirchlet.sbatch\n",
      "sleep 2\n",
      "sbatch /scratch/tm3647/MLH/ConVIRT-private/scripts/tejas/a100/fed/volume/fed_vol_100_8_1000_dirchlet.sbatch\n",
      "sleep 2\n",
      "sbatch /scratch/tm3647/MLH/ConVIRT-private/scripts/tejas/a100/fed/volume/fed_vol_100_8_1_dirchlet.sbatch\n",
      "sleep 2\n",
      "sbatch /scratch/tm3647/MLH/ConVIRT-private/scripts/tejas/a100/fed/volume/fed_vol_100_4_1_dirchlet.sbatch\n",
      "sleep 2\n",
      "\n"
     ]
    }
   ],
   "source": [
    "print(sbatch_execs)"
   ]
  },
  {
   "cell_type": "code",
   "execution_count": null,
   "id": "6b8a5715",
   "metadata": {},
   "outputs": [],
   "source": []
  },
  {
   "cell_type": "code",
   "execution_count": null,
   "id": "3804a956",
   "metadata": {},
   "outputs": [],
   "source": []
  },
  {
   "cell_type": "code",
   "execution_count": null,
   "id": "2f35d386",
   "metadata": {},
   "outputs": [],
   "source": []
  },
  {
   "cell_type": "code",
   "execution_count": null,
   "id": "c044f950",
   "metadata": {},
   "outputs": [],
   "source": []
  },
  {
   "cell_type": "markdown",
   "id": "ce655a16",
   "metadata": {},
   "source": [
    "## "
   ]
  },
  {
   "cell_type": "code",
   "execution_count": null,
   "id": "a9d0631d",
   "metadata": {},
   "outputs": [],
   "source": []
  },
  {
   "cell_type": "code",
   "execution_count": null,
   "id": "5813670c",
   "metadata": {},
   "outputs": [],
   "source": []
  },
  {
   "cell_type": "code",
   "execution_count": null,
   "id": "b9799620",
   "metadata": {},
   "outputs": [],
   "source": []
  },
  {
   "cell_type": "code",
   "execution_count": null,
   "id": "022241b2",
   "metadata": {},
   "outputs": [],
   "source": []
  },
  {
   "cell_type": "code",
   "execution_count": null,
   "id": "500f46ef",
   "metadata": {},
   "outputs": [],
   "source": []
  },
  {
   "cell_type": "code",
   "execution_count": null,
   "id": "90588f30",
   "metadata": {},
   "outputs": [],
   "source": []
  },
  {
   "cell_type": "code",
   "execution_count": null,
   "id": "8938568a",
   "metadata": {},
   "outputs": [],
   "source": []
  }
 ],
 "metadata": {
  "kernelspec": {
   "display_name": "fedml-env",
   "language": "python",
   "name": "fedml-env"
  },
  "language_info": {
   "codemirror_mode": {
    "name": "ipython",
    "version": 3
   },
   "file_extension": ".py",
   "mimetype": "text/x-python",
   "name": "python",
   "nbconvert_exporter": "python",
   "pygments_lexer": "ipython3",
   "version": "3.7.12"
  }
 },
 "nbformat": 4,
 "nbformat_minor": 5
}
