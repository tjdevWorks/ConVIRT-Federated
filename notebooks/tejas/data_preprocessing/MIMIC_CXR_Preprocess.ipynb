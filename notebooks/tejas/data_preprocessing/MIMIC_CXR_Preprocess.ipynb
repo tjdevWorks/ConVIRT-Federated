{
 "cells": [
  {
   "cell_type": "markdown",
   "id": "69caffdc",
   "metadata": {
    "heading_collapsed": true
   },
   "source": [
    "## Imports"
   ]
  },
  {
   "cell_type": "code",
   "execution_count": 1,
   "id": "890cc68a",
   "metadata": {
    "ExecuteTime": {
     "end_time": "2022-12-07T22:39:58.521137Z",
     "start_time": "2022-12-07T22:39:58.448107Z"
    },
    "hidden": true
   },
   "outputs": [],
   "source": [
    "import glob\n",
    "import os\n",
    "import numpy as np\n",
    "import re\n",
    "import pickle"
   ]
  },
  {
   "cell_type": "code",
   "execution_count": 2,
   "id": "578d3866",
   "metadata": {
    "ExecuteTime": {
     "end_time": "2022-12-07T22:39:58.642382Z",
     "start_time": "2022-12-07T22:39:58.522945Z"
    },
    "hidden": true
   },
   "outputs": [],
   "source": [
    "import pandas as pd"
   ]
  },
  {
   "cell_type": "code",
   "execution_count": 3,
   "id": "906108ac",
   "metadata": {
    "ExecuteTime": {
     "end_time": "2022-12-07T22:39:59.459588Z",
     "start_time": "2022-12-07T22:39:58.971505Z"
    },
    "hidden": true
   },
   "outputs": [],
   "source": [
    "import matplotlib.pyplot as plt"
   ]
  },
  {
   "cell_type": "code",
   "execution_count": 4,
   "id": "9fc2fab8",
   "metadata": {
    "ExecuteTime": {
     "end_time": "2022-12-07T06:26:40.018489Z",
     "start_time": "2022-12-07T06:26:34.320346Z"
    },
    "hidden": true
   },
   "outputs": [],
   "source": [
    "import stanza\n",
    "\n",
    "from stanza.server import CoreNLPClient"
   ]
  },
  {
   "cell_type": "code",
   "execution_count": 15,
   "id": "84eb52b2",
   "metadata": {
    "ExecuteTime": {
     "end_time": "2022-12-07T22:46:19.122653Z",
     "start_time": "2022-12-07T22:46:19.116557Z"
    },
    "hidden": true
   },
   "outputs": [],
   "source": [
    "from tqdm import tqdm"
   ]
  },
  {
   "cell_type": "code",
   "execution_count": 16,
   "id": "d9d0197b",
   "metadata": {
    "ExecuteTime": {
     "end_time": "2022-12-07T22:46:30.369542Z",
     "start_time": "2022-12-07T22:46:19.570026Z"
    },
    "hidden": true
   },
   "outputs": [],
   "source": [
    "import cv2\n",
    "from PIL import Image\n",
    "import pyvips"
   ]
  },
  {
   "cell_type": "code",
   "execution_count": 17,
   "id": "02dd5448",
   "metadata": {
    "ExecuteTime": {
     "end_time": "2022-12-07T22:46:37.852935Z",
     "start_time": "2022-12-07T22:46:30.371293Z"
    },
    "hidden": true
   },
   "outputs": [],
   "source": [
    "import torch\n",
    "from torch.utils.data import Dataset, DataLoader\n",
    "from torchvision.io import read_image\n",
    "from torchvision.io.image import ImageReadMode"
   ]
  },
  {
   "cell_type": "markdown",
   "id": "ffdd424e",
   "metadata": {},
   "source": [
    "## Experiments"
   ]
  },
  {
   "cell_type": "markdown",
   "id": "b7bc9c26",
   "metadata": {
    "heading_collapsed": true
   },
   "source": [
    "### Generating df experiments"
   ]
  },
  {
   "cell_type": "code",
   "execution_count": 4,
   "id": "65c2605c",
   "metadata": {
    "ExecuteTime": {
     "end_time": "2022-12-03T07:42:46.902596Z",
     "start_time": "2022-12-03T07:42:46.712645Z"
    },
    "hidden": true
   },
   "outputs": [
    {
     "name": "stdout",
     "output_type": "stream",
     "text": [
      "index.html  \u001b[0m\u001b[38;5;33mp10\u001b[0m/  \u001b[38;5;33mp11\u001b[0m/  \u001b[38;5;33mp12\u001b[0m/  \u001b[38;5;33mp13\u001b[0m/  \u001b[38;5;33mp14\u001b[0m/  \u001b[38;5;33mp15\u001b[0m/  \u001b[38;5;33mp16\u001b[0m/  \u001b[38;5;33mp17\u001b[0m/  \u001b[38;5;33mp18\u001b[0m/  \u001b[38;5;33mp19\u001b[0m/\r\n"
     ]
    }
   ],
   "source": [
    "ls /MIMIC_CXR_JPG/files/"
   ]
  },
  {
   "cell_type": "raw",
   "id": "5356f8f9",
   "metadata": {
    "hidden": true
   },
   "source": [
    "p10/p100"
   ]
  },
  {
   "cell_type": "code",
   "execution_count": 5,
   "id": "b2a6b1d9",
   "metadata": {
    "ExecuteTime": {
     "end_time": "2022-12-03T07:42:51.314679Z",
     "start_time": "2022-12-03T07:42:48.470051Z"
    },
    "hidden": true
   },
   "outputs": [],
   "source": [
    "patient_folders = []\n",
    "for i in range(10,20):\n",
    "    patient_folders.extend(glob.glob(f'/MIMIC_CXR_JPG/files/p{i}/p{i}*/'))"
   ]
  },
  {
   "cell_type": "code",
   "execution_count": 12,
   "id": "663a495c",
   "metadata": {
    "hidden": true
   },
   "outputs": [
    {
     "data": {
      "text/plain": [
       "65379"
      ]
     },
     "execution_count": 12,
     "metadata": {},
     "output_type": "execute_result"
    }
   ],
   "source": [
    "len(patient_folders)"
   ]
  },
  {
   "cell_type": "code",
   "execution_count": 15,
   "id": "e4c1908e",
   "metadata": {
    "hidden": true
   },
   "outputs": [
    {
     "data": {
      "application/vnd.jupyter.widget-view+json": {
       "model_id": "afe03020bfc24d858139474fef925ab0",
       "version_major": 2,
       "version_minor": 0
      },
      "text/plain": [
       "  0%|          | 0/65379 [00:00<?, ?it/s]"
      ]
     },
     "metadata": {},
     "output_type": "display_data"
    }
   ],
   "source": [
    "image_files = []\n",
    "for pf in tqdm(patient_folders):\n",
    "    image_files.extend(glob.glob(f'{pf}/s*/*.jpg'))"
   ]
  },
  {
   "cell_type": "code",
   "execution_count": 17,
   "id": "8a9fb6a3",
   "metadata": {
    "hidden": true
   },
   "outputs": [
    {
     "data": {
      "text/plain": [
       "377110"
      ]
     },
     "execution_count": 17,
     "metadata": {},
     "output_type": "execute_result"
    }
   ],
   "source": [
    "len(image_files)"
   ]
  },
  {
   "cell_type": "code",
   "execution_count": null,
   "id": "800a9912",
   "metadata": {
    "hidden": true
   },
   "outputs": [],
   "source": [
    "text_reports = []"
   ]
  },
  {
   "cell_type": "code",
   "execution_count": 18,
   "id": "3c7f349c",
   "metadata": {
    "hidden": true
   },
   "outputs": [
    {
     "name": "stdout",
     "output_type": "stream",
     "text": [
      "index.html  s50414267.txt  s53189527.txt  s53911762.txt  s56699142.txt\r\n",
      "\u001b[0m\u001b[38;5;33ms50414267\u001b[0m/  \u001b[38;5;33ms53189527\u001b[0m/     \u001b[38;5;33ms53911762\u001b[0m/     \u001b[38;5;33ms56699142\u001b[0m/\r\n"
     ]
    }
   ],
   "source": [
    "ls {patient_folders[0]}"
   ]
  },
  {
   "cell_type": "code",
   "execution_count": 21,
   "id": "f7eab575",
   "metadata": {
    "hidden": true
   },
   "outputs": [
    {
     "name": "stdout",
     "output_type": "stream",
     "text": [
      "                                 FINAL REPORT\r\n",
      " EXAMINATION:  CHEST (PA AND LAT)\r\n",
      " \r\n",
      " INDICATION:  ___F with new onset ascites  // eval for infection\r\n",
      " \r\n",
      " TECHNIQUE:  Chest PA and lateral\r\n",
      " \r\n",
      " COMPARISON:  None.\r\n",
      " \r\n",
      " FINDINGS: \r\n",
      " \r\n",
      " There is no focal consolidation, pleural effusion or pneumothorax.  Bilateral\r\n",
      " nodular opacities that most likely represent nipple shadows. The\r\n",
      " cardiomediastinal silhouette is normal.  Clips project over the left lung,\r\n",
      " potentially within the breast. The imaged upper abdomen is unremarkable.\r\n",
      " Chronic deformity of the posterior left sixth and seventh ribs are noted.\r\n",
      " \r\n",
      " IMPRESSION: \r\n",
      " \r\n",
      " No acute cardiopulmonary process."
     ]
    }
   ],
   "source": [
    "cat {patient_folders[0] + 's50414267.txt'}"
   ]
  },
  {
   "cell_type": "code",
   "execution_count": 4,
   "id": "acdafb7a",
   "metadata": {
    "ExecuteTime": {
     "end_time": "2022-12-03T19:55:55.726960Z",
     "start_time": "2022-12-03T19:55:49.080601Z"
    },
    "hidden": true
   },
   "outputs": [],
   "source": [
    "study_ids_folders = glob.glob('/MIMIC_CXR_JPG/files/p*/p*/s*/')"
   ]
  },
  {
   "cell_type": "code",
   "execution_count": 5,
   "id": "1d6f73ff",
   "metadata": {
    "ExecuteTime": {
     "end_time": "2022-12-03T19:55:56.628303Z",
     "start_time": "2022-12-03T19:55:55.731233Z"
    },
    "hidden": true
   },
   "outputs": [],
   "source": [
    "text_reports_df = pd.DataFrame(np.vstack(pd.Series(study_ids_folders).apply(lambda x: x.split('/')[3:6]).values), columns=['patient_folder', 'patient_id', 'study_id'])"
   ]
  },
  {
   "cell_type": "code",
   "execution_count": 6,
   "id": "6390a63a",
   "metadata": {
    "ExecuteTime": {
     "end_time": "2022-12-03T19:55:56.729635Z",
     "start_time": "2022-12-03T19:55:56.629966Z"
    },
    "hidden": true
   },
   "outputs": [
    {
     "data": {
      "text/html": [
       "<div>\n",
       "<style scoped>\n",
       "    .dataframe tbody tr th:only-of-type {\n",
       "        vertical-align: middle;\n",
       "    }\n",
       "\n",
       "    .dataframe tbody tr th {\n",
       "        vertical-align: top;\n",
       "    }\n",
       "\n",
       "    .dataframe thead th {\n",
       "        text-align: right;\n",
       "    }\n",
       "</style>\n",
       "<table border=\"1\" class=\"dataframe\">\n",
       "  <thead>\n",
       "    <tr style=\"text-align: right;\">\n",
       "      <th></th>\n",
       "      <th>patient_folder</th>\n",
       "      <th>patient_id</th>\n",
       "      <th>study_id</th>\n",
       "    </tr>\n",
       "  </thead>\n",
       "  <tbody>\n",
       "    <tr>\n",
       "      <th>0</th>\n",
       "      <td>p10</td>\n",
       "      <td>p10000032</td>\n",
       "      <td>s50414267</td>\n",
       "    </tr>\n",
       "    <tr>\n",
       "      <th>1</th>\n",
       "      <td>p10</td>\n",
       "      <td>p10000032</td>\n",
       "      <td>s53189527</td>\n",
       "    </tr>\n",
       "    <tr>\n",
       "      <th>2</th>\n",
       "      <td>p10</td>\n",
       "      <td>p10000032</td>\n",
       "      <td>s53911762</td>\n",
       "    </tr>\n",
       "    <tr>\n",
       "      <th>3</th>\n",
       "      <td>p10</td>\n",
       "      <td>p10000032</td>\n",
       "      <td>s56699142</td>\n",
       "    </tr>\n",
       "    <tr>\n",
       "      <th>4</th>\n",
       "      <td>p10</td>\n",
       "      <td>p10000764</td>\n",
       "      <td>s57375967</td>\n",
       "    </tr>\n",
       "  </tbody>\n",
       "</table>\n",
       "</div>"
      ],
      "text/plain": [
       "  patient_folder patient_id   study_id\n",
       "0            p10  p10000032  s50414267\n",
       "1            p10  p10000032  s53189527\n",
       "2            p10  p10000032  s53911762\n",
       "3            p10  p10000032  s56699142\n",
       "4            p10  p10000764  s57375967"
      ]
     },
     "execution_count": 6,
     "metadata": {},
     "output_type": "execute_result"
    }
   ],
   "source": [
    "text_reports_df.head()"
   ]
  },
  {
   "cell_type": "code",
   "execution_count": 7,
   "id": "dc42a8c9",
   "metadata": {
    "ExecuteTime": {
     "end_time": "2022-12-03T19:55:56.734057Z",
     "start_time": "2022-12-03T19:55:56.731443Z"
    },
    "hidden": true
   },
   "outputs": [
    {
     "data": {
      "text/plain": [
       "(227835, 3)"
      ]
     },
     "execution_count": 7,
     "metadata": {},
     "output_type": "execute_result"
    }
   ],
   "source": [
    "text_reports_df.shape"
   ]
  },
  {
   "cell_type": "code",
   "execution_count": 8,
   "id": "652a8ea5",
   "metadata": {
    "ExecuteTime": {
     "end_time": "2022-12-03T19:55:56.740871Z",
     "start_time": "2022-12-03T19:55:56.735318Z"
    },
    "hidden": true
   },
   "outputs": [],
   "source": [
    "def get_findings_impressions(r):\n",
    "    findings, impression = '', ''\n",
    "    with open(f'/MIMIC_CXR_JPG/files/{r[\"patient_folder\"]}/{r[\"patient_id\"]}/{r[\"study_id\"]}.txt') as f:\n",
    "        data = f.read()\n",
    "        # Check for both FINDINGS and impression\n",
    "        matches = re.search(r\"^([\\w\\W]+?)\\bFINDINGS\\b([\\w\\W]+?)\\bIMPRESSION\\b([\\w\\W]+?)$\", data)\n",
    "        if matches and len(matches.groups())==3:\n",
    "            findings = matches.group(2)\n",
    "            impression = matches.group(3)\n",
    "        if len(findings)==0:\n",
    "            findings_match = re.search(r\"^([\\w\\W]+?)\\bFINDINGS\\b([\\w\\W]+?)$\", data)\n",
    "            if findings_match and len(findings_match.groups())==2:\n",
    "                findings = findings_match.group(2)\n",
    "        if len(impression)==0:\n",
    "            impression_match = re.search(r\"^([\\w\\W]+?)\\bIMPRESSION\\b([\\w\\W]+?)$\", data)\n",
    "            #print(len(impression_match.groups()))\n",
    "            if impression_match and len(impression_match.groups())==2:\n",
    "                impression = impression_match.group(2)\n",
    "        \n",
    "    return findings, impression"
   ]
  },
  {
   "cell_type": "raw",
   "id": "d67f1f62",
   "metadata": {
    "ExecuteTime": {
     "end_time": "2022-12-03T07:43:35.264521Z",
     "start_time": "2022-12-03T07:43:35.140268Z"
    },
    "hidden": true
   },
   "source": [
    "get_findings_impressions(problem_df.loc[13])"
   ]
  },
  {
   "cell_type": "code",
   "execution_count": 9,
   "id": "4f85175f",
   "metadata": {
    "ExecuteTime": {
     "end_time": "2022-12-03T19:57:45.958892Z",
     "start_time": "2022-12-03T19:55:59.709582Z"
    },
    "hidden": true
   },
   "outputs": [],
   "source": [
    "find_impres_series = text_reports_df.apply(lambda x: get_findings_impressions(x), axis=1)"
   ]
  },
  {
   "cell_type": "code",
   "execution_count": 10,
   "id": "6c208de4",
   "metadata": {
    "ExecuteTime": {
     "end_time": "2022-12-03T19:57:46.064041Z",
     "start_time": "2022-12-03T19:57:45.961954Z"
    },
    "hidden": true
   },
   "outputs": [],
   "source": [
    "text_reports_df['findings'] = find_impres_series.apply(lambda x: x[0])\n",
    "text_reports_df['impressions'] = find_impres_series.apply(lambda x: x[1])"
   ]
  },
  {
   "cell_type": "code",
   "execution_count": 11,
   "id": "214f0397",
   "metadata": {
    "ExecuteTime": {
     "end_time": "2022-12-03T19:57:47.814347Z",
     "start_time": "2022-12-03T19:57:46.065926Z"
    },
    "hidden": true
   },
   "outputs": [
    {
     "data": {
      "text/plain": [
       "(11514, 5)"
      ]
     },
     "execution_count": 11,
     "metadata": {},
     "output_type": "execute_result"
    }
   ],
   "source": [
    "problem_df = text_reports_df[text_reports_df.apply(lambda x: not (x['findings']!='' or x['impressions']!=''), axis=1)]\n",
    "problem_df.shape"
   ]
  },
  {
   "cell_type": "code",
   "execution_count": 21,
   "id": "af922bc7",
   "metadata": {
    "ExecuteTime": {
     "end_time": "2022-12-03T07:47:46.830683Z",
     "start_time": "2022-12-03T07:47:46.828242Z"
    },
    "hidden": true
   },
   "outputs": [],
   "source": [
    "r = problem_df.iloc[1]"
   ]
  },
  {
   "cell_type": "code",
   "execution_count": 25,
   "id": "38b0dbb5",
   "metadata": {
    "ExecuteTime": {
     "end_time": "2022-12-03T07:48:42.762270Z",
     "start_time": "2022-12-03T07:48:42.757295Z"
    },
    "hidden": true,
    "scrolled": true
   },
   "outputs": [
    {
     "name": "stdout",
     "output_type": "stream",
     "text": [
      "                                 FINAL REPORT\n",
      " SINGLE FRONTAL VIEW OF THE CHEST\n",
      " \n",
      " REASON FOR EXAM:  Tracheoplasty for tracheobronchomalacia, failed extubation. \n",
      " Comparison is made with prior study ___.\n",
      " \n",
      " Tracheostomy tube is in standard position.  NG tube tip is out of view below\n",
      " the diaphragm.  There are low lung volumes.  Cardiomegaly and widened\n",
      " mediastinum are unchanged.  There is no evident pneumothorax .  Right upper\n",
      " lobe opacity has improved.  Bibasilar opacities, larger on the left side are\n",
      " unchanged.  If any, there is a small right pleural effusion.\n",
      "----------------------------------------------------------------------------------------------------\n",
      "                                 FINAL REPORT\n",
      " SINGLE PORTABLE VIEW OF THE CHEST\n",
      " \n",
      " REASON FOR EXAM:  Intubated patient with respiratory failure.\n",
      " \n",
      " Comparison is made with prior study performed the same day earlier in the\n",
      " morning.\n",
      " \n",
      " There are persistent low lung volumes.  There is mild cardiomegaly. \n",
      " Mild-to-moderate pulmonary edema has increased.  Bibasilar opacities are a\n",
      " combination of atelectases and small effusions.  There is no pneumothorax.  ET\n",
      " tube is seen in standard position.  Right IJ catheter tip is at the cavoatrial\n",
      " junction.  NG tube cannot be evaluated and the tip is obscured due to\n",
      " technique.\n",
      "----------------------------------------------------------------------------------------------------\n",
      "                                 FINAL REPORT\n",
      " PA AND LATERAL VIEWS OF THE CHEST\n",
      " \n",
      " REASON FOR EXAM:  COPD, history of lung cancer, crackles at left base.\n",
      " \n",
      " There is mild-to-moderate cardiomegaly stable from ___.  Blunting of the\n",
      " right costophrenic angles could be due to a tiny effusion or pleural\n",
      " thickening.  Surgical clips project in the right upper paramediastinal region.\n",
      " The lungs are grossly clear.  There is no evidence of pneumothorax.  There are\n",
      " moderate degenerative changes in the thoracic spine.\n",
      " \n",
      " Elevation of the right hemidiaphragm is stable.\n",
      "----------------------------------------------------------------------------------------------------\n",
      "                                 FINAL REPORT\n",
      " SINGLE FRONTAL VIEW OF THE CHEST\n",
      " \n",
      " REASON FOR EXAM:  Assess NG tube.\n",
      " \n",
      " Comparison is made with prior study performed one hour earlier.\n",
      " \n",
      " Dobbhoff tube tip projects in the right lower hemithorax most likely in a\n",
      " subsegmental bronchus.  Lung volumes are lower, there are no other interval\n",
      " changes.\n",
      " \n",
      " Findings were discussed with Dr. ___ by phone on ___ at 2:10 p.m. at the\n",
      " time of the interpretation of the study.\n",
      "----------------------------------------------------------------------------------------------------\n",
      "                                 FINAL REPORT\n",
      " SINGLE FRONTAL VIEW OF THE CHEST\n",
      " \n",
      " REASON FOR EXAM:  Assess line that has been pulled back.\n",
      " \n",
      " Comparison is made with prior study performed a day earlier.\n",
      " \n",
      " Left PICC tip is in the mid SVC.  Cardiac size is minimally enlarged.  Right\n",
      " large central catheter is in standard position.  There is no pneumothorax. \n",
      " Increasing opacities in the left lung are consistent with increasing mild\n",
      " effusion and basal atelectasis.  Right lower lobe atelectasis has increased.\n",
      "----------------------------------------------------------------------------------------------------\n",
      "                                 FINAL REPORT\n",
      " INDICATION:  ___-year-old man with syncope, evaluate etiology of syncope.\n",
      " \n",
      " COMPARISON:  None.\n",
      " \n",
      " PA AND LATERAL CHEST RADIOGRAPH:  The cardiac, mediastinal and hilar contours\n",
      " are normal.  Both lungs appear clear with no focal consolidation, pleural\n",
      " effusion or pneumothorax. Possible calcified granuloma is noted within the\n",
      " left lung.\n",
      "----------------------------------------------------------------------------------------------------\n",
      "                                 FINAL REPORT\n",
      " REASON FOR EXAMINATION:  Evaluation of the patient with diffuse brain\n",
      " injury,found down.\n",
      " \n",
      " Portable AP radiograph of the chest was reviewed in comparison to ___.\n",
      " \n",
      " The feeding tube tip passes below the diaphragm terminating most likely in the\n",
      " stomach.  What appears to be the VP shunt is projecting over the right\n",
      " hemithorax.  The central venous line tip is inserted through the right side,\n",
      " terminates at the level of lower SVC.  Heart size and mediastinum are stable. \n",
      " Lungs are essentially clear.\n",
      "----------------------------------------------------------------------------------------------------\n",
      "                                 FINAL REPORT\n",
      " SINGLE FRONTAL VIEW OF THE CHEST\n",
      " \n",
      " REASON FOR EXAM:  Assess NG tube.\n",
      " \n",
      " Comparison with made with prior study performed four hours earlier.  NG tube\n",
      " tip is pasing to the stomach out of view.  There are no other acute interval\n",
      " changes.\n",
      "----------------------------------------------------------------------------------------------------\n",
      "                                 FINAL REPORT\n",
      " HISTORY:  Question transient global amnesia, question infection.\n",
      " \n",
      " CHEST, SINGLE AP PORTABLE VIEW.\n",
      " \n",
      " There is mild-to-moderate cardiomegaly.  The aorta is tortuous.  There is\n",
      " upper zone redistribution, but no overt CHF.  No focal infiltrate or effusion\n",
      " is identified.  Small density overlying the left neck likely represents some\n",
      " carotid artery calcification.\n",
      "----------------------------------------------------------------------------------------------------\n",
      "                                 FINAL REPORT\n",
      " SINGLE FRONTAL VIEW OF THE CHEST\n",
      " \n",
      " REASON FOR EXAM:  Status post OLT with nausea, diarrhea, dysuria and\n",
      " diffusion, there is oxygen requirement.\n",
      " \n",
      " Comparison is made with prior study ___.\n",
      " \n",
      " Cardiac size is top normal.  Small right pleural effusion has increased. \n",
      " Right Port-A-Cath tip is in the mid-to-lower SVC.  Increasing right perihilar\n",
      " and lower lobe opacities are most likely due to atelectasis, but superimposed\n",
      " infection cannot be excluded.  There is no overt pulmonary edema.\n",
      "----------------------------------------------------------------------------------------------------\n"
     ]
    }
   ],
   "source": [
    "for _, r in problem_df.sample(10).iterrows():\n",
    "    with open(f'/MIMIC_CXR_JPG/files/{r[\"patient_folder\"]}/{r[\"patient_id\"]}/{r[\"study_id\"]}.txt') as f:\n",
    "        data = f.read()\n",
    "\n",
    "    print(data)\n",
    "    \n",
    "    print(\"-\"*100)"
   ]
  },
  {
   "cell_type": "code",
   "execution_count": 12,
   "id": "79985ac2",
   "metadata": {
    "ExecuteTime": {
     "end_time": "2022-12-03T19:57:49.578236Z",
     "start_time": "2022-12-03T19:57:47.816455Z"
    },
    "hidden": true
   },
   "outputs": [],
   "source": [
    "text_reports_df = text_reports_df[text_reports_df.apply(lambda x: len(x['findings'])!=0 or len(x['impressions'])!=0, axis=1)]"
   ]
  },
  {
   "cell_type": "code",
   "execution_count": 13,
   "id": "e092362e",
   "metadata": {
    "ExecuteTime": {
     "end_time": "2022-12-03T19:57:49.804172Z",
     "start_time": "2022-12-03T19:57:49.579968Z"
    },
    "hidden": true
   },
   "outputs": [
    {
     "data": {
      "text/plain": [
       "(66297, 28506, 94803)"
      ]
     },
     "execution_count": 13,
     "metadata": {},
     "output_type": "execute_result"
    }
   ],
   "source": [
    "text_reports_df['findings'].apply(len).value_counts()[0],text_reports_df['impressions'].apply(len).value_counts()[0], text_reports_df['findings'].apply(len).value_counts()[0]+text_reports_df['impressions'].apply(len).value_counts()[0]"
   ]
  },
  {
   "cell_type": "code",
   "execution_count": 14,
   "id": "8bafdbc8",
   "metadata": {
    "ExecuteTime": {
     "end_time": "2022-12-03T19:57:51.621742Z",
     "start_time": "2022-12-03T19:57:49.805745Z"
    },
    "hidden": true
   },
   "outputs": [
    {
     "data": {
      "text/plain": [
       "False    121518\n",
       "True      94803\n",
       "dtype: int64"
      ]
     },
     "execution_count": 14,
     "metadata": {},
     "output_type": "execute_result"
    }
   ],
   "source": [
    "text_reports_df.apply(lambda x: len(x['findings'])==0 or len(x['impressions'])==0, axis=1).value_counts()"
   ]
  },
  {
   "cell_type": "code",
   "execution_count": 16,
   "id": "85b98649",
   "metadata": {
    "ExecuteTime": {
     "end_time": "2022-12-03T19:57:58.746474Z",
     "start_time": "2022-12-03T19:57:58.742850Z"
    },
    "hidden": true
   },
   "outputs": [
    {
     "data": {
      "text/plain": [
       "': \\n \\n There is no focal consolidation, pleural effusion or pneumothorax.  Bilateral\\n nodular opacities that most likely represent nipple shadows. The\\n cardiomediastinal silhouette is normal.  Clips project over the left lung,\\n potentially within the breast. The imaged upper abdomen is unremarkable.\\n Chronic deformity of the posterior left sixth and seventh ribs are noted.\\n \\n '"
      ]
     },
     "execution_count": 16,
     "metadata": {},
     "output_type": "execute_result"
    }
   ],
   "source": [
    "x = text_reports_df.iloc[0]['findings']\n",
    "x"
   ]
  },
  {
   "cell_type": "code",
   "execution_count": 17,
   "id": "48b3ee90",
   "metadata": {
    "ExecuteTime": {
     "end_time": "2022-12-03T19:58:02.537026Z",
     "start_time": "2022-12-03T19:57:58.747860Z"
    },
    "hidden": true
   },
   "outputs": [
    {
     "name": "stderr",
     "output_type": "stream",
     "text": [
      "2022-12-03 14:57:58 INFO: Writing properties to tmp file: corenlp_server-d1ced69fbd9a4585.props\n",
      "2022-12-03 14:57:58 INFO: Starting server with command: java -Xmx5G -cp /scratch/tm3647/stanza_corenlp/* edu.stanford.nlp.pipeline.StanfordCoreNLPServer -port 9000 -timeout 60000 -threads 5 -maxCharLength 100000 -quiet False -serverProperties corenlp_server-d1ced69fbd9a4585.props -preload -outputFormat serialized\n",
      "[main] INFO CoreNLP - --- StanfordCoreNLPServer#main() called ---\n",
      "[main] INFO CoreNLP - Server default properties:\n",
      "\t\t\t(Note: unspecified annotator properties are English defaults)\n",
      "\t\t\tannotators = tokenize\n",
      "\t\t\tinputFormat = text\n",
      "\t\t\toutputFormat = serialized\n",
      "\t\t\tprettyPrint = false\n",
      "\t\t\tthreads = 5\n",
      "[main] INFO CoreNLP - Threads: 5\n",
      "[main] INFO edu.stanford.nlp.pipeline.StanfordCoreNLP - Adding annotator tokenize\n",
      "[main] INFO CoreNLP - Starting server...\n",
      "[main] INFO CoreNLP - StanfordCoreNLPServer listening at /0:0:0:0:0:0:0:0:9000\n",
      "[pool-1-thread-3] INFO CoreNLP - [/127.0.0.1:58622] API call w/annotators tokenize\n",
      "[pool-1-thread-3] INFO edu.stanford.nlp.pipeline.StanfordCoreNLP - Adding annotator tokenize\n"
     ]
    },
    {
     "name": "stdout",
     "output_type": "stream",
     "text": [
      ":     There is no focal consolidation, pleural effusion or pneumothorax.  Bilateral  nodular opacities that most likely represent nipple shadows. The  cardiomediastinal silhouette is normal.  Clips project over the left lung,  potentially within the breast. The imaged upper abdomen is unremarkable.  Chronic deformity of the posterior left sixth and seventh ribs are noted.    \n"
     ]
    },
    {
     "name": "stderr",
     "output_type": "stream",
     "text": [
      "[Thread-0] INFO CoreNLP - CoreNLP Server is shutting down.\n"
     ]
    }
   ],
   "source": [
    "with CoreNLPClient(properties={\n",
    "      'annotators': 'tokenize'\n",
    "  }) as client:\n",
    "    t = client.annotate(x)"
   ]
  },
  {
   "cell_type": "code",
   "execution_count": 35,
   "id": "9665a9e0",
   "metadata": {
    "ExecuteTime": {
     "end_time": "2022-12-03T20:21:27.224950Z",
     "start_time": "2022-12-03T20:21:27.221287Z"
    },
    "hidden": true
   },
   "outputs": [],
   "source": [
    "def get_sentences(tokenized_sentences):\n",
    "    final_sentences = []\n",
    "    for sent in tokenized_sentences:\n",
    "        if len(sent.token)>3:\n",
    "            ## Convert tokens to a string and replace the intermediate new lines\n",
    "            final_sent = ''.join(list(map(lambda x: x.before.replace('\\n', '')+x.word, list(sent.token)))).strip()\n",
    "            if final_sent.startswith(\":\"):\n",
    "                final_sent = final_sent.replace(\":\", \"\").strip()\n",
    "            final_sentences.append(final_sent)\n",
    "    \n",
    "    return final_sentences"
   ]
  },
  {
   "cell_type": "code",
   "execution_count": 36,
   "id": "679a175f",
   "metadata": {
    "ExecuteTime": {
     "end_time": "2022-12-03T20:21:28.701056Z",
     "start_time": "2022-12-03T20:21:28.697365Z"
    },
    "hidden": true
   },
   "outputs": [
    {
     "data": {
      "text/plain": [
       "['There is no focal consolidation, pleural effusion or pneumothorax.',\n",
       " 'Bilateral nodular opacities that most likely represent nipple shadows.',\n",
       " 'The cardiomediastinal silhouette is normal.',\n",
       " 'Clips project over the left lung, potentially within the breast.',\n",
       " 'The imaged upper abdomen is unremarkable.',\n",
       " 'Chronic deformity of the posterior left sixth and seventh ribs are noted.']"
      ]
     },
     "execution_count": 36,
     "metadata": {},
     "output_type": "execute_result"
    }
   ],
   "source": [
    "get_sentences(t.sentence)"
   ]
  },
  {
   "cell_type": "code",
   "execution_count": 41,
   "id": "19921cd2",
   "metadata": {
    "ExecuteTime": {
     "end_time": "2022-12-03T20:31:03.189951Z",
     "start_time": "2022-12-03T20:31:03.183311Z"
    },
    "hidden": true
   },
   "outputs": [],
   "source": [
    "text_reports_df['findings_tokenized_sentences'] = None\n",
    "text_reports_df['impressions_tokenized_sentences'] = None"
   ]
  },
  {
   "cell_type": "code",
   "execution_count": 43,
   "id": "c93b3f38",
   "metadata": {
    "ExecuteTime": {
     "end_time": "2022-12-03T20:31:19.185542Z",
     "start_time": "2022-12-03T20:31:19.181143Z"
    },
    "hidden": true
   },
   "outputs": [
    {
     "data": {
      "text/plain": [
       "patient_folder                                                                   p10\n",
       "patient_id                                                                 p10000032\n",
       "study_id                                                                   s50414267\n",
       "findings                           : \\n \\n There is no focal consolidation, pleur...\n",
       "impressions                                : \\n \\n No acute cardiopulmonary process.\n",
       "findings_tokenized_sentences       [There is no focal consolidation, pleural effu...\n",
       "impressions_tokenized_sentences                                                 None\n",
       "Name: 0, dtype: object"
      ]
     },
     "execution_count": 43,
     "metadata": {},
     "output_type": "execute_result"
    }
   ],
   "source": [
    "r"
   ]
  },
  {
   "cell_type": "code",
   "execution_count": 46,
   "id": "1c1fa2f5",
   "metadata": {
    "ExecuteTime": {
     "end_time": "2022-12-03T21:11:03.945160Z",
     "start_time": "2022-12-03T20:35:38.669668Z"
    },
    "code_folding": [],
    "collapsed": true,
    "hidden": true
   },
   "outputs": [
    {
     "name": "stderr",
     "output_type": "stream",
     "text": [
      "2022-12-03 15:35:38 INFO: Writing properties to tmp file: corenlp_server-fdb2dc0ba28f4426.props\n",
      "2022-12-03 15:35:38 INFO: Starting server with command: java -Xmx5G -cp /scratch/tm3647/stanza_corenlp/* edu.stanford.nlp.pipeline.StanfordCoreNLPServer -port 9000 -timeout 60000 -threads 5 -maxCharLength 100000 -quiet True -serverProperties corenlp_server-fdb2dc0ba28f4426.props -preload -outputFormat serialized\n"
     ]
    },
    {
     "data": {
      "application/vnd.jupyter.widget-view+json": {
       "model_id": "ec3c0ec3b9754e43b851a95251e43304",
       "version_major": 2,
       "version_minor": 0
      },
      "text/plain": [
       "  0%|          | 0/216321 [00:00<?, ?it/s]"
      ]
     },
     "metadata": {},
     "output_type": "display_data"
    },
    {
     "name": "stdout",
     "output_type": "stream",
     "text": [
      "0\n",
      "100\n",
      "200\n",
      "300\n",
      "400\n",
      "500\n",
      "600\n",
      "700\n",
      "800\n",
      "900\n",
      "1000\n",
      "1100\n",
      "1200\n",
      "1300\n",
      "1400\n",
      "1500\n",
      "1600\n",
      "1700\n",
      "1800\n",
      "1900\n",
      "2000\n",
      "2100\n",
      "2200\n",
      "2300\n",
      "2400\n",
      "2500\n",
      "2600\n",
      "2700\n",
      "2800\n",
      "2900\n",
      "3000\n",
      "3100\n",
      "3200\n",
      "3300\n",
      "3400\n",
      "3500\n",
      "3600\n",
      "3700\n",
      "3800\n",
      "3900\n",
      "4000\n",
      "4100\n",
      "4200\n",
      "4300\n",
      "4400\n",
      "4500\n",
      "4600\n",
      "4700\n",
      "4800\n",
      "4900\n",
      "5000\n",
      "5100\n",
      "5200\n",
      "5300\n",
      "5400\n",
      "5500\n",
      "5600\n",
      "5700\n",
      "5800\n",
      "5900\n",
      "6000\n",
      "6100\n",
      "6200\n",
      "6300\n",
      "6400\n",
      "6500\n",
      "6600\n",
      "6700\n",
      "6800\n",
      "6900\n",
      "7000\n",
      "7100\n",
      "7200\n",
      "7300\n",
      "7400\n",
      "7500\n",
      "7600\n",
      "7700\n",
      "7800\n",
      "7900\n",
      "8000\n",
      "8100\n",
      "8200\n",
      "8300\n",
      "8400\n",
      "8500\n",
      "8600\n",
      "8700\n",
      "8800\n",
      "8900\n",
      "9000\n",
      "9100\n",
      "9200\n",
      "9300\n",
      "9400\n",
      "9500\n",
      "9600\n",
      "9700\n",
      "9800\n",
      "9900\n",
      "10000\n",
      "10100\n",
      "10200\n",
      "10300\n",
      "10400\n",
      "10500\n",
      "10600\n",
      "10700\n",
      "10800\n",
      "10900\n",
      "11000\n",
      "11100\n",
      "11200\n",
      "11300\n",
      "11400\n",
      "11500\n",
      "11600\n",
      "11700\n",
      "11800\n",
      "11900\n",
      "12000\n",
      "12100\n",
      "12200\n",
      "12300\n",
      "12400\n",
      "12500\n",
      "12600\n",
      "12700\n",
      "12800\n",
      "12900\n",
      "13000\n",
      "13100\n",
      "13200\n",
      "13300\n",
      "13400\n",
      "13500\n",
      "13600\n",
      "13700\n",
      "13800\n",
      "13900\n",
      "14000\n",
      "14100\n",
      "14200\n",
      "14300\n",
      "14400\n",
      "14500\n",
      "14600\n",
      "14700\n",
      "14800\n",
      "14900\n",
      "15000\n",
      "15100\n",
      "15200\n",
      "15300\n",
      "15400\n",
      "15500\n",
      "15600\n",
      "15700\n",
      "15800\n",
      "15900\n",
      "16000\n",
      "16100\n",
      "16200\n",
      "16300\n",
      "16400\n",
      "16500\n",
      "16600\n",
      "16700\n",
      "16800\n",
      "16900\n",
      "17000\n",
      "17100\n",
      "17200\n",
      "17300\n",
      "17400\n",
      "17500\n",
      "17600\n",
      "17700\n",
      "17800\n",
      "17900\n",
      "18000\n",
      "18100\n",
      "18200\n",
      "18300\n",
      "18400\n",
      "18500\n",
      "18600\n",
      "18700\n",
      "18800\n",
      "18900\n",
      "19000\n",
      "19100\n",
      "19200\n",
      "19300\n",
      "19400\n",
      "19500\n",
      "19600\n",
      "19700\n",
      "19800\n",
      "19900\n",
      "20000\n",
      "20100\n",
      "20200\n",
      "20300\n",
      "20400\n",
      "20500\n",
      "20600\n",
      "20700\n",
      "20800\n",
      "20900\n",
      "21000\n",
      "21100\n",
      "21200\n",
      "21300\n",
      "21400\n",
      "21500\n",
      "21600\n",
      "21700\n",
      "21800\n",
      "21900\n",
      "22000\n",
      "22100\n",
      "22200\n",
      "22300\n",
      "22400\n",
      "22500\n",
      "22600\n",
      "22700\n",
      "22800\n",
      "22900\n",
      "23000\n",
      "23100\n",
      "23200\n",
      "23300\n",
      "23400\n",
      "23500\n",
      "23600\n",
      "23700\n",
      "23800\n",
      "23900\n",
      "24000\n",
      "24100\n",
      "24200\n",
      "24300\n",
      "24400\n",
      "24500\n",
      "24600\n",
      "24700\n",
      "24800\n",
      "24900\n",
      "25000\n",
      "25100\n",
      "25200\n",
      "25300\n",
      "25400\n",
      "25500\n",
      "25600\n",
      "25700\n",
      "25800\n",
      "25900\n",
      "26000\n",
      "26100\n",
      "26200\n",
      "26300\n",
      "26400\n",
      "26500\n",
      "26600\n",
      "26700\n",
      "26800\n",
      "26900\n",
      "27000\n",
      "27100\n",
      "27200\n",
      "27300\n",
      "27400\n",
      "27500\n",
      "27600\n",
      "27700\n",
      "27800\n",
      "27900\n",
      "28000\n",
      "28100\n",
      "28200\n",
      "28300\n",
      "28400\n",
      "28500\n",
      "28600\n",
      "28700\n",
      "28800\n",
      "28900\n",
      "29000\n",
      "29100\n",
      "29200\n",
      "29300\n",
      "29400\n",
      "29500\n",
      "29600\n",
      "29700\n",
      "29800\n",
      "29900\n",
      "30000\n",
      "30100\n",
      "30200\n",
      "30300\n",
      "30400\n",
      "30500\n",
      "30600\n",
      "30700\n",
      "30800\n",
      "30900\n",
      "31000\n",
      "31100\n",
      "31200\n",
      "31300\n",
      "31400\n",
      "31500\n",
      "31600\n",
      "31700\n",
      "31800\n",
      "31900\n",
      "32000\n",
      "32100\n",
      "32200\n",
      "32300\n",
      "32400\n",
      "32500\n",
      "32600\n",
      "32700\n",
      "32800\n",
      "32900\n",
      "33000\n",
      "33100\n",
      "33200\n",
      "33300\n",
      "33400\n",
      "33500\n",
      "33600\n",
      "33700\n",
      "33800\n",
      "33900\n",
      "34000\n",
      "34100\n",
      "34200\n",
      "34300\n",
      "34400\n",
      "34500\n",
      "34600\n",
      "34700\n",
      "34800\n",
      "34900\n",
      "35000\n",
      "35100\n",
      "35200\n",
      "35300\n",
      "35400\n",
      "35500\n",
      "35600\n",
      "35700\n",
      "35800\n",
      "35900\n",
      "36000\n",
      "36100\n",
      "36200\n",
      "36300\n",
      "36400\n",
      "36500\n",
      "36600\n",
      "36700\n",
      "36800\n",
      "36900\n",
      "37000\n",
      "37100\n",
      "37200\n",
      "37300\n",
      "37400\n",
      "37500\n",
      "37600\n",
      "37700\n",
      "37800\n",
      "37900\n",
      "38000\n",
      "38100\n",
      "38200\n",
      "38300\n",
      "38400\n",
      "38500\n",
      "38600\n",
      "38700\n",
      "38800\n",
      "38900\n",
      "39000\n",
      "39100\n",
      "39200\n",
      "39300\n",
      "39400\n",
      "39500\n",
      "39600\n",
      "39700\n",
      "39800\n",
      "39900\n",
      "40000\n",
      "40100\n",
      "40200\n",
      "40300\n",
      "40400\n",
      "40500\n",
      "40600\n",
      "40700\n",
      "40800\n",
      "40900\n",
      "41000\n",
      "41100\n",
      "41200\n",
      "41300\n",
      "41400\n",
      "41500\n",
      "41600\n",
      "41700\n",
      "41800\n",
      "41900\n",
      "42000\n",
      "42100\n",
      "42200\n",
      "42300\n",
      "42400\n",
      "42500\n",
      "42600\n",
      "42700\n",
      "42800\n",
      "42900\n",
      "43000\n",
      "43100\n",
      "43200\n",
      "43300\n",
      "43400\n",
      "43500\n",
      "43600\n",
      "43700\n",
      "43800\n",
      "43900\n",
      "44000\n",
      "44100\n",
      "44200\n",
      "44300\n",
      "44400\n",
      "44500\n",
      "44600\n",
      "44700\n",
      "44800\n",
      "44900\n",
      "45000\n",
      "45100\n",
      "45200\n",
      "45300\n",
      "45400\n",
      "45500\n",
      "45600\n",
      "45700\n",
      "45800\n",
      "45900\n",
      "46000\n",
      "46100\n",
      "46200\n",
      "46300\n",
      "46400\n",
      "46500\n",
      "46600\n",
      "46700\n",
      "46800\n",
      "46900\n",
      "47000\n",
      "47100\n",
      "47200\n",
      "47300\n",
      "47400\n",
      "47500\n",
      "47600\n",
      "47700\n",
      "47800\n",
      "47900\n",
      "48000\n",
      "48100\n",
      "48200\n",
      "48300\n",
      "48400\n",
      "48500\n",
      "48600\n",
      "48700\n",
      "48800\n",
      "48900\n",
      "49000\n",
      "49100\n",
      "49200\n",
      "49300\n",
      "49400\n",
      "49500\n",
      "49600\n",
      "49700\n",
      "49800\n",
      "49900\n",
      "50000\n",
      "50100\n",
      "50200\n",
      "50300\n",
      "50400\n",
      "50500\n",
      "50600\n",
      "50700\n",
      "50800\n",
      "50900\n",
      "51000\n",
      "51100\n",
      "51200\n",
      "51300\n",
      "51400\n",
      "51500\n",
      "51600\n",
      "51700\n",
      "51800\n",
      "51900\n",
      "52000\n",
      "52100\n",
      "52200\n",
      "52300\n",
      "52400\n",
      "52500\n",
      "52600\n",
      "52700\n",
      "52800\n",
      "52900\n",
      "53000\n",
      "53100\n",
      "53200\n",
      "53300\n",
      "53400\n",
      "53500\n",
      "53600\n",
      "53700\n",
      "53800\n",
      "53900\n",
      "54000\n",
      "54100\n",
      "54200\n",
      "54300\n",
      "54400\n",
      "54500\n",
      "54600\n",
      "54700\n",
      "54800\n",
      "54900\n",
      "55000\n",
      "55100\n",
      "55200\n",
      "55300\n",
      "55400\n",
      "55500\n",
      "55600\n",
      "55700\n",
      "55800\n",
      "55900\n",
      "56000\n",
      "56100\n",
      "56200\n",
      "56300\n",
      "56400\n",
      "56500\n",
      "56600\n",
      "56700\n",
      "56800\n",
      "56900\n",
      "57000\n",
      "57100\n",
      "57200\n",
      "57300\n",
      "57400\n",
      "57500\n",
      "57600\n",
      "57700\n",
      "57800\n",
      "57900\n",
      "58000\n",
      "58100\n",
      "58200\n",
      "58300\n",
      "58400\n",
      "58500\n",
      "58600\n",
      "58700\n",
      "58800\n",
      "58900\n",
      "59000\n",
      "59100\n",
      "59200\n",
      "59300\n",
      "59400\n",
      "59500\n",
      "59600\n",
      "59700\n",
      "59800\n",
      "59900\n",
      "60000\n",
      "60100\n",
      "60200\n",
      "60300\n",
      "60400\n",
      "60500\n",
      "60600\n",
      "60700\n",
      "60800\n",
      "60900\n",
      "61000\n",
      "61100\n",
      "61200\n",
      "61300\n",
      "61400\n",
      "61500\n",
      "61600\n",
      "61700\n",
      "61800\n",
      "61900\n",
      "62000\n",
      "62100\n",
      "62200\n",
      "62300\n",
      "62400\n",
      "62500\n",
      "62600\n",
      "62700\n",
      "62800\n",
      "62900\n",
      "63000\n",
      "63100\n",
      "63200\n",
      "63300\n",
      "63400\n",
      "63500\n",
      "63600\n",
      "63700\n",
      "63800\n",
      "63900\n",
      "64000\n",
      "64100\n",
      "64200\n",
      "64300\n",
      "64400\n",
      "64500\n",
      "64600\n",
      "64700\n",
      "64800\n",
      "64900\n",
      "65000\n",
      "65100\n",
      "65200\n",
      "65300\n",
      "65400\n",
      "65500\n",
      "65600\n",
      "65700\n",
      "65800\n",
      "65900\n",
      "66000\n",
      "66100\n",
      "66200\n",
      "66300\n",
      "66400\n",
      "66500\n",
      "66600\n",
      "66700\n",
      "66800\n",
      "66900\n",
      "67000\n",
      "67100\n",
      "67200\n",
      "67300\n",
      "67400\n",
      "67500\n",
      "67600\n",
      "67700\n",
      "67800\n",
      "67900\n",
      "68000\n",
      "68100\n",
      "68200\n",
      "68300\n",
      "68400\n",
      "68500\n",
      "68600\n",
      "68700\n",
      "68800\n",
      "68900\n",
      "69000\n",
      "69100\n",
      "69200\n",
      "69300\n",
      "69400\n",
      "69500\n",
      "69600\n",
      "69700\n",
      "69800\n",
      "69900\n",
      "70000\n",
      "70100\n",
      "70200\n",
      "70300\n",
      "70400\n",
      "70500\n",
      "70600\n",
      "70700\n",
      "70800\n",
      "70900\n",
      "71000\n",
      "71100\n",
      "71200\n",
      "71300\n",
      "71400\n",
      "71500\n",
      "71600\n",
      "71700\n",
      "71800\n",
      "71900\n",
      "72000\n",
      "72100\n",
      "72200\n",
      "72300\n",
      "72400\n",
      "72500\n",
      "72600\n",
      "72700\n",
      "72800\n",
      "72900\n",
      "73000\n",
      "73100\n",
      "73200\n",
      "73300\n",
      "73400\n",
      "73500\n",
      "73600\n",
      "73700\n",
      "73800\n",
      "73900\n",
      "74000\n",
      "74100\n",
      "74200\n",
      "74300\n",
      "74400\n",
      "74500\n",
      "74600\n",
      "74700\n",
      "74800\n",
      "74900\n",
      "75000\n",
      "75100\n",
      "75200\n",
      "75300\n",
      "75400\n",
      "75500\n",
      "75600\n",
      "75700\n",
      "75800\n",
      "75900\n",
      "76000\n",
      "76100\n",
      "76200\n",
      "76300\n",
      "76400\n",
      "76500\n",
      "76600\n",
      "76700\n",
      "76800\n",
      "76900\n",
      "77000\n",
      "77100\n",
      "77200\n",
      "77300\n",
      "77400\n",
      "77500\n",
      "77600\n",
      "77700\n",
      "77800\n",
      "77900\n",
      "78000\n",
      "78100\n",
      "78200\n",
      "78300\n",
      "78400\n",
      "78500\n",
      "78600\n",
      "78700\n",
      "78800\n",
      "78900\n",
      "79000\n",
      "79100\n",
      "79200\n",
      "79300\n",
      "79400\n",
      "79500\n",
      "79600\n",
      "79700\n",
      "79800\n",
      "79900\n",
      "80000\n",
      "80100\n",
      "80200\n",
      "80300\n",
      "80400\n",
      "80500\n",
      "80600\n",
      "80700\n",
      "80800\n",
      "80900\n",
      "81000\n",
      "81100\n",
      "81200\n",
      "81300\n",
      "81400\n",
      "81500\n",
      "81600\n",
      "81700\n",
      "81800\n",
      "81900\n",
      "82000\n",
      "82100\n",
      "82200\n",
      "82300\n",
      "82400\n",
      "82500\n",
      "82600\n",
      "82700\n",
      "82800\n",
      "82900\n",
      "83000\n",
      "83100\n",
      "83200\n",
      "83300\n",
      "83400\n",
      "83500\n",
      "83600\n",
      "83700\n",
      "83800\n",
      "83900\n",
      "84000\n",
      "84100\n",
      "84200\n",
      "84300\n",
      "84400\n",
      "84500\n",
      "84600\n",
      "84700\n",
      "84800\n",
      "84900\n",
      "85000\n",
      "85100\n",
      "85200\n",
      "85300\n",
      "85400\n",
      "85500\n",
      "85600\n",
      "85700\n",
      "85800\n",
      "85900\n",
      "86000\n",
      "86100\n",
      "86200\n",
      "86300\n",
      "86400\n",
      "86500\n",
      "86600\n",
      "86700\n",
      "86800\n",
      "86900\n",
      "87000\n",
      "87100\n",
      "87200\n",
      "87300\n",
      "87400\n",
      "87500\n",
      "87600\n",
      "87700\n",
      "87800\n",
      "87900\n",
      "88000\n",
      "88100\n",
      "88200\n",
      "88300\n",
      "88400\n",
      "88500\n",
      "88600\n",
      "88700\n",
      "88800\n",
      "88900\n",
      "89000\n",
      "89100\n",
      "89200\n",
      "89300\n",
      "89400\n",
      "89500\n",
      "89600\n",
      "89700\n",
      "89800\n",
      "89900\n",
      "90000\n",
      "90100\n",
      "90200\n",
      "90300\n",
      "90400\n",
      "90500\n",
      "90600\n",
      "90700\n",
      "90800\n",
      "90900\n",
      "91000\n",
      "91100\n",
      "91200\n",
      "91300\n",
      "91400\n",
      "91500\n",
      "91600\n",
      "91700\n",
      "91800\n",
      "91900\n",
      "92000\n",
      "92100\n",
      "92200\n",
      "92300\n",
      "92400\n",
      "92500\n",
      "92600\n",
      "92700\n",
      "92800\n",
      "92900\n",
      "93000\n",
      "93100\n",
      "93200\n",
      "93300\n",
      "93400\n",
      "93500\n",
      "93600\n",
      "93700\n",
      "93800\n",
      "93900\n",
      "94000\n",
      "94100\n",
      "94200\n",
      "94300\n",
      "94400\n",
      "94500\n",
      "94600\n",
      "94700\n",
      "94800\n",
      "94900\n",
      "95000\n",
      "95100\n",
      "95200\n",
      "95300\n",
      "95400\n",
      "95500\n",
      "95600\n",
      "95700\n",
      "95800\n",
      "95900\n",
      "96000\n",
      "96100\n",
      "96200\n",
      "96300\n",
      "96400\n",
      "96500\n",
      "96600\n",
      "96700\n",
      "96800\n",
      "96900\n",
      "97000\n",
      "97100\n",
      "97200\n",
      "97300\n",
      "97400\n",
      "97500\n",
      "97600\n",
      "97700\n",
      "97800\n",
      "97900\n",
      "98000\n",
      "98100\n",
      "98200\n",
      "98300\n",
      "98400\n",
      "98500\n",
      "98600\n",
      "98700\n",
      "98800\n",
      "98900\n",
      "99000\n",
      "99100\n",
      "99200\n",
      "99300\n",
      "99400\n",
      "99500\n",
      "99600\n",
      "99700\n",
      "99800\n",
      "99900\n",
      "100000\n",
      "100100\n",
      "100200\n",
      "100300\n",
      "100400\n",
      "100500\n",
      "100600\n",
      "100700\n",
      "100800\n",
      "100900\n",
      "101000\n",
      "101100\n",
      "101200\n",
      "101300\n",
      "101400\n",
      "101500\n",
      "101600\n",
      "101700\n",
      "101800\n",
      "101900\n",
      "102000\n",
      "102100\n",
      "102200\n",
      "102300\n",
      "102400\n",
      "102500\n",
      "102600\n",
      "102700\n",
      "102800\n",
      "102900\n",
      "103000\n",
      "103100\n",
      "103200\n",
      "103300\n",
      "103400\n",
      "103500\n",
      "103600\n",
      "103700\n",
      "103800\n",
      "103900\n",
      "104000\n",
      "104100\n",
      "104200\n",
      "104300\n",
      "104400\n",
      "104500\n",
      "104600\n",
      "104700\n",
      "104800\n",
      "104900\n",
      "105000\n",
      "105100\n",
      "105200\n",
      "105300\n",
      "105400\n",
      "105500\n",
      "105600\n",
      "105700\n",
      "105800\n",
      "105900\n",
      "106000\n",
      "106100\n",
      "106200\n",
      "106300\n",
      "106400\n",
      "106500\n",
      "106600\n",
      "106700\n",
      "106800\n",
      "106900\n",
      "107000\n",
      "107100\n",
      "107200\n",
      "107300\n",
      "107400\n",
      "107500\n",
      "107600\n",
      "107700\n",
      "107800\n",
      "107900\n",
      "108000\n",
      "108100\n",
      "108200\n",
      "108300\n",
      "108400\n",
      "108500\n",
      "108600\n",
      "108700\n",
      "108800\n",
      "108900\n",
      "109000\n",
      "109100\n",
      "109200\n",
      "109300\n",
      "109400\n",
      "109500\n",
      "109600\n",
      "109700\n",
      "109800\n",
      "109900\n",
      "110000\n",
      "110100\n",
      "110200\n",
      "110300\n",
      "110400\n",
      "110500\n",
      "110600\n",
      "110700\n",
      "110800\n",
      "110900\n",
      "111000\n",
      "111100\n",
      "111200\n",
      "111300\n",
      "111400\n",
      "111500\n",
      "111600\n",
      "111700\n",
      "111800\n",
      "111900\n",
      "112000\n",
      "112100\n",
      "112200\n",
      "112300\n",
      "112400\n",
      "112500\n",
      "112600\n",
      "112700\n",
      "112800\n",
      "112900\n",
      "113000\n",
      "113100\n",
      "113200\n",
      "113300\n",
      "113400\n",
      "113500\n",
      "113600\n",
      "113700\n",
      "113800\n",
      "113900\n",
      "114000\n",
      "114100\n",
      "114200\n",
      "114300\n",
      "114400\n",
      "114500\n",
      "114600\n",
      "114700\n",
      "114800\n",
      "114900\n",
      "115000\n",
      "115100\n",
      "115200\n",
      "115300\n",
      "115400\n",
      "115500\n",
      "115600\n",
      "115700\n",
      "115800\n",
      "115900\n",
      "116000\n",
      "116100\n",
      "116200\n",
      "116300\n",
      "116400\n",
      "116500\n",
      "116600\n",
      "116700\n",
      "116800\n",
      "116900\n",
      "117000\n",
      "117100\n",
      "117200\n",
      "117300\n",
      "117400\n",
      "117500\n",
      "117600\n",
      "117700\n",
      "117800\n",
      "117900\n",
      "118000\n",
      "118100\n",
      "118200\n",
      "118300\n",
      "118400\n",
      "118500\n",
      "118600\n",
      "118700\n",
      "118800\n",
      "118900\n",
      "119000\n",
      "119100\n",
      "119200\n",
      "119300\n",
      "119400\n",
      "119500\n",
      "119600\n",
      "119700\n",
      "119800\n",
      "119900\n",
      "120000\n",
      "120100\n",
      "120200\n",
      "120300\n",
      "120400\n",
      "120500\n",
      "120600\n",
      "120700\n",
      "120800\n",
      "120900\n",
      "121000\n",
      "121100\n",
      "121200\n",
      "121300\n",
      "121400\n",
      "121500\n",
      "121600\n",
      "121700\n",
      "121800\n",
      "121900\n",
      "122000\n",
      "122100\n",
      "122200\n",
      "122300\n",
      "122400\n",
      "122500\n",
      "122600\n",
      "122700\n",
      "122800\n",
      "122900\n",
      "123000\n",
      "123100\n",
      "123200\n",
      "123300\n",
      "123400\n",
      "123500\n",
      "123600\n",
      "123700\n",
      "123800\n",
      "123900\n",
      "124000\n",
      "124100\n",
      "124200\n",
      "124300\n",
      "124400\n",
      "124500\n",
      "124600\n",
      "124700\n",
      "124800\n",
      "124900\n",
      "125000\n",
      "125100\n",
      "125200\n",
      "125300\n",
      "125400\n",
      "125500\n",
      "125600\n",
      "125700\n",
      "125800\n",
      "125900\n",
      "126000\n",
      "126100\n",
      "126200\n",
      "126300\n",
      "126400\n",
      "126500\n",
      "126600\n",
      "126700\n",
      "126800\n",
      "126900\n",
      "127000\n",
      "127100\n",
      "127200\n",
      "127300\n",
      "127400\n",
      "127500\n",
      "127600\n",
      "127700\n",
      "127800\n",
      "127900\n",
      "128000\n",
      "128100\n",
      "128200\n",
      "128300\n",
      "128400\n",
      "128500\n",
      "128600\n",
      "128700\n",
      "128800\n",
      "128900\n",
      "129000\n",
      "129100\n",
      "129200\n",
      "129300\n",
      "129400\n",
      "129500\n",
      "129600\n",
      "129700\n",
      "129800\n",
      "129900\n",
      "130000\n",
      "130100\n",
      "130200\n",
      "130300\n",
      "130400\n",
      "130500\n",
      "130600\n",
      "130700\n",
      "130800\n",
      "130900\n",
      "131000\n",
      "131100\n",
      "131200\n",
      "131300\n",
      "131400\n",
      "131500\n",
      "131600\n",
      "131700\n",
      "131800\n",
      "131900\n",
      "132000\n",
      "132100\n",
      "132200\n",
      "132300\n",
      "132400\n",
      "132500\n",
      "132600\n",
      "132700\n",
      "132800\n",
      "132900\n"
     ]
    },
    {
     "name": "stdout",
     "output_type": "stream",
     "text": [
      "133000\n",
      "133100\n",
      "133200\n",
      "133300\n",
      "133400\n",
      "133500\n",
      "133600\n",
      "133700\n",
      "133800\n",
      "133900\n",
      "134000\n",
      "134100\n",
      "134200\n",
      "134300\n",
      "134400\n",
      "134500\n",
      "134600\n",
      "134700\n",
      "134800\n",
      "134900\n",
      "135000\n",
      "135100\n",
      "135200\n",
      "135300\n",
      "135400\n",
      "135500\n",
      "135600\n",
      "135700\n",
      "135800\n",
      "135900\n",
      "136000\n",
      "136100\n",
      "136200\n",
      "136300\n",
      "136400\n",
      "136500\n",
      "136600\n",
      "136700\n",
      "136800\n",
      "136900\n",
      "137000\n",
      "137100\n",
      "137200\n",
      "137300\n",
      "137400\n",
      "137500\n",
      "137600\n",
      "137700\n",
      "137800\n",
      "137900\n",
      "138000\n",
      "138100\n",
      "138200\n",
      "138300\n",
      "138400\n",
      "138500\n",
      "138600\n",
      "138700\n",
      "138800\n",
      "138900\n",
      "139000\n",
      "139100\n",
      "139200\n",
      "139300\n",
      "139400\n",
      "139500\n",
      "139600\n",
      "139700\n",
      "139800\n",
      "139900\n",
      "140000\n",
      "140100\n",
      "140200\n",
      "140300\n",
      "140400\n",
      "140500\n",
      "140600\n",
      "140700\n",
      "140800\n",
      "140900\n",
      "141000\n",
      "141100\n",
      "141200\n",
      "141300\n",
      "141400\n",
      "141500\n",
      "141600\n",
      "141700\n",
      "141800\n",
      "141900\n",
      "142000\n",
      "142100\n",
      "142200\n",
      "142300\n",
      "142400\n",
      "142500\n",
      "142600\n",
      "142700\n",
      "142800\n",
      "142900\n",
      "143000\n",
      "143100\n",
      "143200\n",
      "143300\n",
      "143400\n",
      "143500\n",
      "143600\n",
      "143700\n",
      "143800\n",
      "143900\n",
      "144000\n",
      "144100\n",
      "144200\n",
      "144300\n",
      "144400\n",
      "144500\n",
      "144600\n",
      "144700\n",
      "144800\n",
      "144900\n",
      "145000\n",
      "145100\n",
      "145200\n",
      "145300\n",
      "145400\n",
      "145500\n",
      "145600\n",
      "145700\n",
      "145800\n",
      "145900\n",
      "146000\n",
      "146100\n",
      "146200\n",
      "146300\n",
      "146400\n",
      "146500\n",
      "146600\n",
      "146700\n",
      "146800\n",
      "146900\n",
      "147000\n",
      "147100\n",
      "147200\n",
      "147300\n",
      "147400\n",
      "147500\n",
      "147600\n",
      "147700\n",
      "147800\n",
      "147900\n",
      "148000\n",
      "148100\n",
      "148200\n",
      "148300\n",
      "148400\n",
      "148500\n",
      "148600\n",
      "148700\n",
      "148800\n",
      "148900\n",
      "149000\n",
      "149100\n",
      "149200\n",
      "149300\n",
      "149400\n",
      "149500\n",
      "149600\n",
      "149700\n",
      "149800\n",
      "149900\n",
      "150000\n",
      "150100\n",
      "150200\n",
      "150300\n",
      "150400\n",
      "150500\n",
      "150600\n",
      "150700\n",
      "150800\n",
      "150900\n",
      "151000\n",
      "151100\n",
      "151200\n",
      "151300\n",
      "151400\n",
      "151500\n",
      "151600\n",
      "151700\n",
      "151800\n",
      "151900\n",
      "152000\n",
      "152100\n",
      "152200\n",
      "152300\n",
      "152400\n",
      "152500\n",
      "152600\n",
      "152700\n",
      "152800\n",
      "152900\n",
      "153000\n",
      "153100\n",
      "153200\n",
      "153300\n",
      "153400\n",
      "153500\n",
      "153600\n",
      "153700\n",
      "153800\n",
      "153900\n",
      "154000\n",
      "154100\n",
      "154200\n",
      "154300\n",
      "154400\n",
      "154500\n",
      "154600\n",
      "154700\n",
      "154800\n",
      "154900\n",
      "155000\n",
      "155100\n",
      "155200\n",
      "155300\n",
      "155400\n",
      "155500\n",
      "155600\n",
      "155700\n",
      "155800\n",
      "155900\n",
      "156000\n",
      "156100\n",
      "156200\n",
      "156300\n",
      "156400\n",
      "156500\n",
      "156600\n",
      "156700\n",
      "156800\n",
      "156900\n",
      "157000\n",
      "157100\n",
      "157200\n",
      "157300\n",
      "157400\n",
      "157500\n",
      "157600\n",
      "157700\n",
      "157800\n",
      "157900\n",
      "158000\n",
      "158100\n",
      "158200\n",
      "158300\n",
      "158400\n",
      "158500\n",
      "158600\n",
      "158700\n",
      "158800\n",
      "158900\n",
      "159000\n",
      "159100\n",
      "159200\n",
      "159300\n",
      "159400\n",
      "159500\n",
      "159600\n",
      "159700\n",
      "159800\n",
      "159900\n",
      "160000\n",
      "160100\n",
      "160200\n",
      "160300\n",
      "160400\n",
      "160500\n",
      "160600\n",
      "160700\n",
      "160800\n",
      "160900\n",
      "161000\n",
      "161100\n",
      "161200\n",
      "161300\n",
      "161400\n",
      "161500\n",
      "161600\n",
      "161700\n",
      "161800\n",
      "161900\n",
      "162000\n",
      "162100\n",
      "162200\n",
      "162300\n",
      "162400\n",
      "162500\n",
      "162600\n",
      "162700\n",
      "162800\n",
      "162900\n",
      "163000\n",
      "163100\n",
      "163200\n",
      "163300\n",
      "163400\n",
      "163500\n",
      "163600\n",
      "163700\n",
      "163800\n",
      "163900\n",
      "164000\n",
      "164100\n",
      "164200\n",
      "164300\n",
      "164400\n",
      "164500\n",
      "164600\n",
      "164700\n",
      "164800\n",
      "164900\n",
      "165000\n",
      "165100\n",
      "165200\n",
      "165300\n",
      "165400\n",
      "165500\n",
      "165600\n",
      "165700\n",
      "165800\n",
      "165900\n",
      "166000\n",
      "166100\n",
      "166200\n",
      "166300\n",
      "166400\n",
      "166500\n",
      "166600\n",
      "166700\n",
      "166800\n",
      "166900\n",
      "167000\n",
      "167100\n",
      "167200\n",
      "167300\n",
      "167400\n",
      "167500\n",
      "167600\n",
      "167700\n",
      "167800\n",
      "167900\n",
      "168000\n",
      "168100\n",
      "168200\n",
      "168300\n",
      "168400\n",
      "168500\n",
      "168600\n",
      "168700\n",
      "168800\n",
      "168900\n",
      "169000\n",
      "169100\n",
      "169200\n",
      "169300\n",
      "169400\n",
      "169500\n",
      "169600\n",
      "169700\n",
      "169800\n",
      "169900\n",
      "170000\n",
      "170100\n",
      "170200\n",
      "170300\n",
      "170400\n",
      "170500\n",
      "170600\n",
      "170700\n",
      "170800\n",
      "170900\n",
      "171000\n",
      "171100\n",
      "171200\n",
      "171300\n",
      "171400\n",
      "171500\n",
      "171600\n",
      "171700\n",
      "171800\n",
      "171900\n",
      "172000\n",
      "172100\n",
      "172200\n",
      "172300\n",
      "172400\n",
      "172500\n",
      "172600\n",
      "172700\n",
      "172800\n",
      "172900\n",
      "173000\n",
      "173100\n",
      "173200\n",
      "173300\n",
      "173400\n",
      "173500\n",
      "173600\n",
      "173700\n",
      "173800\n",
      "173900\n",
      "174000\n",
      "174100\n",
      "174200\n",
      "174300\n",
      "174400\n",
      "174500\n",
      "174600\n",
      "174700\n",
      "174800\n",
      "174900\n",
      "175000\n",
      "175100\n",
      "175200\n",
      "175300\n",
      "175400\n",
      "175500\n",
      "175600\n",
      "175700\n",
      "175800\n",
      "175900\n",
      "176000\n",
      "176100\n",
      "176200\n",
      "176300\n",
      "176400\n",
      "176500\n",
      "176600\n",
      "176700\n",
      "176800\n",
      "176900\n",
      "177000\n",
      "177100\n",
      "177200\n",
      "177300\n",
      "177400\n",
      "177500\n",
      "177600\n",
      "177700\n",
      "177800\n",
      "177900\n",
      "178000\n",
      "178100\n",
      "178200\n",
      "178300\n",
      "178400\n",
      "178500\n",
      "178600\n",
      "178700\n",
      "178800\n",
      "178900\n",
      "179000\n",
      "179100\n",
      "179200\n",
      "179300\n",
      "179400\n",
      "179500\n",
      "179600\n",
      "179700\n",
      "179800\n",
      "179900\n",
      "180000\n",
      "180100\n",
      "180200\n",
      "180300\n",
      "180400\n",
      "180500\n",
      "180600\n",
      "180700\n",
      "180800\n",
      "180900\n",
      "181000\n",
      "181100\n",
      "181200\n",
      "181300\n",
      "181400\n",
      "181500\n",
      "181600\n",
      "181700\n",
      "181800\n",
      "181900\n",
      "182000\n",
      "182100\n",
      "182200\n",
      "182300\n",
      "182400\n",
      "182500\n",
      "182600\n",
      "182700\n",
      "182800\n",
      "182900\n",
      "183000\n",
      "183100\n",
      "183200\n",
      "183300\n",
      "183400\n",
      "183500\n",
      "183600\n",
      "183700\n",
      "183800\n",
      "183900\n",
      "184000\n",
      "184100\n",
      "184200\n",
      "184300\n",
      "184400\n",
      "184500\n",
      "184600\n",
      "184700\n",
      "184800\n",
      "184900\n",
      "185000\n",
      "185100\n",
      "185200\n",
      "185300\n",
      "185400\n",
      "185500\n",
      "185600\n",
      "185700\n",
      "185800\n",
      "185900\n",
      "186000\n",
      "186100\n",
      "186200\n",
      "186300\n",
      "186400\n",
      "186500\n",
      "186600\n",
      "186700\n",
      "186800\n",
      "186900\n",
      "187000\n",
      "187100\n",
      "187200\n",
      "187300\n",
      "187400\n",
      "187500\n",
      "187600\n",
      "187700\n",
      "187800\n",
      "187900\n",
      "188000\n",
      "188100\n",
      "188200\n",
      "188300\n",
      "188400\n",
      "188500\n",
      "188600\n",
      "188700\n",
      "188800\n",
      "188900\n",
      "189000\n",
      "189100\n",
      "189200\n",
      "189300\n",
      "189400\n",
      "189500\n",
      "189600\n",
      "189700\n",
      "189800\n",
      "199000\n",
      "199100\n",
      "199200\n",
      "199300\n",
      "199400\n",
      "199500\n",
      "199600\n",
      "199700\n",
      "199800\n",
      "199900\n",
      "200000\n",
      "200100\n",
      "200200\n",
      "200300\n",
      "200400\n",
      "200500\n",
      "200600\n",
      "200700\n",
      "200800\n",
      "200900\n",
      "201000\n",
      "201100\n",
      "201200\n",
      "201300\n",
      "201400\n",
      "201500\n",
      "201600\n",
      "201700\n",
      "201800\n",
      "201900\n",
      "202000\n",
      "202100\n",
      "202200\n",
      "202300\n",
      "202400\n",
      "202500\n",
      "202600\n",
      "202700\n",
      "202800\n",
      "202900\n",
      "203000\n",
      "203100\n",
      "203200\n",
      "203300\n",
      "203400\n",
      "203500\n",
      "203600\n",
      "203700\n",
      "203800\n",
      "203900\n",
      "204000\n",
      "204100\n",
      "204200\n",
      "204300\n",
      "204400\n",
      "204500\n",
      "204600\n",
      "204700\n",
      "204800\n",
      "204900\n",
      "205000\n",
      "205100\n",
      "205200\n",
      "205300\n",
      "205400\n",
      "205500\n",
      "205600\n",
      "205700\n",
      "205800\n",
      "205900\n",
      "206000\n",
      "206100\n",
      "206200\n",
      "206300\n",
      "206400\n",
      "206500\n",
      "206600\n",
      "206700\n",
      "206800\n",
      "206900\n",
      "207000\n",
      "207100\n",
      "207200\n",
      "207300\n",
      "207400\n",
      "207500\n",
      "207600\n",
      "207700\n",
      "207800\n",
      "207900\n",
      "208000\n",
      "208100\n",
      "208200\n",
      "208300\n",
      "208400\n",
      "208500\n",
      "208600\n",
      "208700\n",
      "208800\n",
      "208900\n",
      "209000\n",
      "209100\n",
      "209200\n",
      "209300\n",
      "209400\n",
      "209500\n",
      "209600\n",
      "209700\n",
      "209800\n",
      "209900\n",
      "210000\n",
      "210100\n",
      "210200\n",
      "210300\n",
      "210400\n",
      "210500\n",
      "210600\n",
      "210700\n",
      "210800\n",
      "210900\n",
      "211000\n",
      "211100\n",
      "211200\n",
      "211300\n",
      "211400\n",
      "211500\n",
      "211600\n",
      "211700\n",
      "211800\n",
      "211900\n",
      "212000\n",
      "212100\n",
      "212200\n",
      "212300\n",
      "212400\n",
      "212500\n",
      "212600\n",
      "212700\n",
      "212800\n",
      "212900\n",
      "213000\n",
      "213100\n",
      "213200\n",
      "213300\n",
      "213400\n",
      "213500\n",
      "213600\n",
      "213700\n",
      "213800\n",
      "213900\n",
      "214000\n",
      "214100\n",
      "214200\n",
      "214300\n",
      "214400\n"
     ]
    },
    {
     "name": "stderr",
     "output_type": "stream",
     "text": [
      "IOPub message rate exceeded.\n",
      "The notebook server will temporarily stop sending output\n",
      "to the client in order to avoid crashing it.\n",
      "To change this limit, set the config variable\n",
      "`--NotebookApp.iopub_msg_rate_limit`.\n",
      "\n",
      "Current values:\n",
      "NotebookApp.iopub_msg_rate_limit=1000.0 (msgs/sec)\n",
      "NotebookApp.rate_limit_window=3.0 (secs)\n",
      "\n"
     ]
    }
   ],
   "source": [
    "with CoreNLPClient(properties={\n",
    "      'annotators': 'tokenize'\n",
    "  }, be_quiet=True) as client:\n",
    "    for i, (idx, r) in tqdm(enumerate(text_reports_df.iterrows()), total=text_reports_df.shape[0]):\n",
    "        cnlp_out = client.annotate(r['findings'])\n",
    "        text_reports_df.loc[idx, 'findings_tokenized_sentences'] = get_sentences(cnlp_out.sentence)\n",
    "        cnlp_out = client.annotate(r['impressions'])\n",
    "        text_reports_df.loc[idx, 'impressions_tokenized_sentences'] = get_sentences(cnlp_out.sentence)\n",
    "        if (i%100==0):\n",
    "            print(i)"
   ]
  },
  {
   "cell_type": "code",
   "execution_count": 47,
   "id": "436f4241",
   "metadata": {
    "ExecuteTime": {
     "end_time": "2022-12-03T22:03:41.271121Z",
     "start_time": "2022-12-03T22:03:41.256683Z"
    },
    "collapsed": true,
    "hidden": true
   },
   "outputs": [
    {
     "data": {
      "text/html": [
       "<div>\n",
       "<style scoped>\n",
       "    .dataframe tbody tr th:only-of-type {\n",
       "        vertical-align: middle;\n",
       "    }\n",
       "\n",
       "    .dataframe tbody tr th {\n",
       "        vertical-align: top;\n",
       "    }\n",
       "\n",
       "    .dataframe thead th {\n",
       "        text-align: right;\n",
       "    }\n",
       "</style>\n",
       "<table border=\"1\" class=\"dataframe\">\n",
       "  <thead>\n",
       "    <tr style=\"text-align: right;\">\n",
       "      <th></th>\n",
       "      <th>patient_folder</th>\n",
       "      <th>patient_id</th>\n",
       "      <th>study_id</th>\n",
       "      <th>findings</th>\n",
       "      <th>impressions</th>\n",
       "      <th>findings_tokenized_sentences</th>\n",
       "      <th>impressions_tokenized_sentences</th>\n",
       "    </tr>\n",
       "  </thead>\n",
       "  <tbody>\n",
       "    <tr>\n",
       "      <th>0</th>\n",
       "      <td>p10</td>\n",
       "      <td>p10000032</td>\n",
       "      <td>s50414267</td>\n",
       "      <td>: \\n \\n There is no focal consolidation, pleur...</td>\n",
       "      <td>: \\n \\n No acute cardiopulmonary process.</td>\n",
       "      <td>[There is no focal consolidation, pleural effu...</td>\n",
       "      <td>[No acute cardiopulmonary process.]</td>\n",
       "    </tr>\n",
       "    <tr>\n",
       "      <th>1</th>\n",
       "      <td>p10</td>\n",
       "      <td>p10000032</td>\n",
       "      <td>s53189527</td>\n",
       "      <td>: \\n \\n The cardiac, mediastinal and hilar con...</td>\n",
       "      <td>: \\n \\n No acute cardiopulmonary abnormality.</td>\n",
       "      <td>[The cardiac, mediastinal and hilar contours a...</td>\n",
       "      <td>[No acute cardiopulmonary abnormality.]</td>\n",
       "    </tr>\n",
       "    <tr>\n",
       "      <th>2</th>\n",
       "      <td>p10</td>\n",
       "      <td>p10000032</td>\n",
       "      <td>s53911762</td>\n",
       "      <td>: \\n \\n Single frontal view of the chest provi...</td>\n",
       "      <td>: \\n \\n No acute intrathoracic process.</td>\n",
       "      <td>[Single frontal view of the chest provided., T...</td>\n",
       "      <td>[No acute intrathoracic process.]</td>\n",
       "    </tr>\n",
       "    <tr>\n",
       "      <th>3</th>\n",
       "      <td>p10</td>\n",
       "      <td>p10000032</td>\n",
       "      <td>s56699142</td>\n",
       "      <td>: \\n \\n The lungs are clear of focal consolida...</td>\n",
       "      <td>: \\n \\n No acute cardiopulmonary process.</td>\n",
       "      <td>[The lungs are clear of focal consolidation, p...</td>\n",
       "      <td>[No acute cardiopulmonary process.]</td>\n",
       "    </tr>\n",
       "    <tr>\n",
       "      <th>4</th>\n",
       "      <td>p10</td>\n",
       "      <td>p10000764</td>\n",
       "      <td>s57375967</td>\n",
       "      <td>: \\n \\n PA and lateral views of the chest prov...</td>\n",
       "      <td>: \\n \\n Focal consolidation at the left lung b...</td>\n",
       "      <td>[PA and lateral views of the chest provided., ...</td>\n",
       "      <td>[Focal consolidation at the left lung base, po...</td>\n",
       "    </tr>\n",
       "    <tr>\n",
       "      <th>...</th>\n",
       "      <td>...</td>\n",
       "      <td>...</td>\n",
       "      <td>...</td>\n",
       "      <td>...</td>\n",
       "      <td>...</td>\n",
       "      <td>...</td>\n",
       "      <td>...</td>\n",
       "    </tr>\n",
       "    <tr>\n",
       "      <th>227830</th>\n",
       "      <td>p19</td>\n",
       "      <td>p19999442</td>\n",
       "      <td>s58708861</td>\n",
       "      <td>:\\n \\n ET tube ends 4.7 cm above the carina.  ...</td>\n",
       "      <td></td>\n",
       "      <td>[ET tube ends 4.7 cm above the carina., NG tub...</td>\n",
       "      <td>[]</td>\n",
       "    </tr>\n",
       "    <tr>\n",
       "      <th>227831</th>\n",
       "      <td>p19</td>\n",
       "      <td>p19999733</td>\n",
       "      <td>s57132437</td>\n",
       "      <td>:  The lungs are clear, and the cardiomediasti...</td>\n",
       "      <td>:  No acute cardiothoracic process.</td>\n",
       "      <td>[The lungs are clear, and the cardiomediastina...</td>\n",
       "      <td>[No acute cardiothoracic process.]</td>\n",
       "    </tr>\n",
       "    <tr>\n",
       "      <th>227832</th>\n",
       "      <td>p19</td>\n",
       "      <td>p19999987</td>\n",
       "      <td>s55368167</td>\n",
       "      <td>:  There has been interval extubation and impr...</td>\n",
       "      <td></td>\n",
       "      <td>[There has been interval extubation and improv...</td>\n",
       "      <td>[]</td>\n",
       "    </tr>\n",
       "    <tr>\n",
       "      <th>227833</th>\n",
       "      <td>p19</td>\n",
       "      <td>p19999987</td>\n",
       "      <td>s58621812</td>\n",
       "      <td>:  Portable supine AP view of the chest provid...</td>\n",
       "      <td>:  Appropriately positioned ET and NG tubes.  ...</td>\n",
       "      <td>[Portable supine AP view of the chest provided...</td>\n",
       "      <td>[Appropriately positioned ET and NG tubes.]</td>\n",
       "    </tr>\n",
       "    <tr>\n",
       "      <th>227834</th>\n",
       "      <td>p19</td>\n",
       "      <td>p19999987</td>\n",
       "      <td>s58971208</td>\n",
       "      <td>:  The ET tube terminates approximately 2.9 cm...</td>\n",
       "      <td>: \\n \\n Slight interval worsening of right low...</td>\n",
       "      <td>[The ET tube terminates approximately 2.9 cm f...</td>\n",
       "      <td>[Slight interval worsening of right lower lung...</td>\n",
       "    </tr>\n",
       "  </tbody>\n",
       "</table>\n",
       "<p>216321 rows × 7 columns</p>\n",
       "</div>"
      ],
      "text/plain": [
       "       patient_folder patient_id   study_id  \\\n",
       "0                 p10  p10000032  s50414267   \n",
       "1                 p10  p10000032  s53189527   \n",
       "2                 p10  p10000032  s53911762   \n",
       "3                 p10  p10000032  s56699142   \n",
       "4                 p10  p10000764  s57375967   \n",
       "...               ...        ...        ...   \n",
       "227830            p19  p19999442  s58708861   \n",
       "227831            p19  p19999733  s57132437   \n",
       "227832            p19  p19999987  s55368167   \n",
       "227833            p19  p19999987  s58621812   \n",
       "227834            p19  p19999987  s58971208   \n",
       "\n",
       "                                                 findings  \\\n",
       "0       : \\n \\n There is no focal consolidation, pleur...   \n",
       "1       : \\n \\n The cardiac, mediastinal and hilar con...   \n",
       "2       : \\n \\n Single frontal view of the chest provi...   \n",
       "3       : \\n \\n The lungs are clear of focal consolida...   \n",
       "4       : \\n \\n PA and lateral views of the chest prov...   \n",
       "...                                                   ...   \n",
       "227830  :\\n \\n ET tube ends 4.7 cm above the carina.  ...   \n",
       "227831  :  The lungs are clear, and the cardiomediasti...   \n",
       "227832  :  There has been interval extubation and impr...   \n",
       "227833  :  Portable supine AP view of the chest provid...   \n",
       "227834  :  The ET tube terminates approximately 2.9 cm...   \n",
       "\n",
       "                                              impressions  \\\n",
       "0               : \\n \\n No acute cardiopulmonary process.   \n",
       "1           : \\n \\n No acute cardiopulmonary abnormality.   \n",
       "2                 : \\n \\n No acute intrathoracic process.   \n",
       "3               : \\n \\n No acute cardiopulmonary process.   \n",
       "4       : \\n \\n Focal consolidation at the left lung b...   \n",
       "...                                                   ...   \n",
       "227830                                                      \n",
       "227831                :  No acute cardiothoracic process.   \n",
       "227832                                                      \n",
       "227833  :  Appropriately positioned ET and NG tubes.  ...   \n",
       "227834  : \\n \\n Slight interval worsening of right low...   \n",
       "\n",
       "                             findings_tokenized_sentences  \\\n",
       "0       [There is no focal consolidation, pleural effu...   \n",
       "1       [The cardiac, mediastinal and hilar contours a...   \n",
       "2       [Single frontal view of the chest provided., T...   \n",
       "3       [The lungs are clear of focal consolidation, p...   \n",
       "4       [PA and lateral views of the chest provided., ...   \n",
       "...                                                   ...   \n",
       "227830  [ET tube ends 4.7 cm above the carina., NG tub...   \n",
       "227831  [The lungs are clear, and the cardiomediastina...   \n",
       "227832  [There has been interval extubation and improv...   \n",
       "227833  [Portable supine AP view of the chest provided...   \n",
       "227834  [The ET tube terminates approximately 2.9 cm f...   \n",
       "\n",
       "                          impressions_tokenized_sentences  \n",
       "0                     [No acute cardiopulmonary process.]  \n",
       "1                 [No acute cardiopulmonary abnormality.]  \n",
       "2                       [No acute intrathoracic process.]  \n",
       "3                     [No acute cardiopulmonary process.]  \n",
       "4       [Focal consolidation at the left lung base, po...  \n",
       "...                                                   ...  \n",
       "227830                                                 []  \n",
       "227831                 [No acute cardiothoracic process.]  \n",
       "227832                                                 []  \n",
       "227833        [Appropriately positioned ET and NG tubes.]  \n",
       "227834  [Slight interval worsening of right lower lung...  \n",
       "\n",
       "[216321 rows x 7 columns]"
      ]
     },
     "execution_count": 47,
     "metadata": {},
     "output_type": "execute_result"
    }
   ],
   "source": [
    "text_reports_df"
   ]
  },
  {
   "cell_type": "code",
   "execution_count": 49,
   "id": "9d33e8a2",
   "metadata": {
    "ExecuteTime": {
     "end_time": "2022-12-03T22:11:19.847168Z",
     "start_time": "2022-12-03T22:11:18.738166Z"
    },
    "hidden": true
   },
   "outputs": [],
   "source": [
    "with open('/scratch/tm3647/public/mimic_text_reports_df.pkl', 'wb') as f:\n",
    "    pickle.dump(text_reports_df, f)"
   ]
  },
  {
   "cell_type": "raw",
   "id": "687545eb",
   "metadata": {
    "hidden": true
   },
   "source": [
    "- Save this text_reports_df\n",
    "\n",
    "- Add another column with path to image files\n",
    "- Create a dataset class which will take data frame file name, client id and load the data frame in memory"
   ]
  },
  {
   "cell_type": "raw",
   "id": "7a08c924",
   "metadata": {
    "hidden": true
   },
   "source": [
    "In the get_item fn:\n",
    " - Argument - Index to dataframe\n",
    " - Get the image fname and list of texts (findings & impressions)\n",
    " - Read the image and select a random text\n",
    " - Apply the image transformations\n",
    " - Return a dict - {'image': img, 'text': text}\n",
    " \n",
    " Preprocess the text (ClinicalBert tokenizer) (Do this as part of the training pipeline)"
   ]
  },
  {
   "cell_type": "code",
   "execution_count": 68,
   "id": "718c7df4",
   "metadata": {
    "ExecuteTime": {
     "end_time": "2022-12-03T22:23:41.115518Z",
     "start_time": "2022-12-03T22:23:32.925758Z"
    },
    "hidden": true
   },
   "outputs": [
    {
     "data": {
      "text/plain": [
       "2     99900\n",
       "1     95370\n",
       "3     18875\n",
       "4      2040\n",
       "5        98\n",
       "6        31\n",
       "8         3\n",
       "7         2\n",
       "9         1\n",
       "11        1\n",
       "dtype: int64"
      ]
     },
     "execution_count": 68,
     "metadata": {},
     "output_type": "execute_result"
    }
   ],
   "source": [
    "text_reports_df.apply(lambda x: glob.glob(f'/MIMIC_CXR_JPG/files/{x[\"patient_folder\"]}/{x[\"patient_id\"]}/{x[\"study_id\"]}/*.jpg'), axis=1).apply(len).value_counts()"
   ]
  },
  {
   "cell_type": "code",
   "execution_count": 69,
   "id": "b95cad7d",
   "metadata": {
    "ExecuteTime": {
     "end_time": "2022-12-03T22:30:10.675097Z",
     "start_time": "2022-12-03T22:30:02.687413Z"
    },
    "hidden": true
   },
   "outputs": [],
   "source": [
    "text_reports_df['image_files'] = text_reports_df.apply(lambda x: glob.glob(f'/MIMIC_CXR_JPG/files/{x[\"patient_folder\"]}/{x[\"patient_id\"]}/{x[\"study_id\"]}/*.jpg'), axis=1)"
   ]
  },
  {
   "cell_type": "code",
   "execution_count": 84,
   "id": "630056bc",
   "metadata": {
    "ExecuteTime": {
     "end_time": "2022-12-03T23:06:15.656665Z",
     "start_time": "2022-12-03T23:06:15.264888Z"
    },
    "hidden": true
   },
   "outputs": [],
   "source": [
    "final_image_text_df = text_reports_df.explode(\"image_files\").reset_index(drop=True)"
   ]
  },
  {
   "cell_type": "code",
   "execution_count": 117,
   "id": "e50851c8",
   "metadata": {
    "ExecuteTime": {
     "end_time": "2022-12-04T00:21:57.713310Z",
     "start_time": "2022-12-04T00:21:57.710258Z"
    },
    "hidden": true
   },
   "outputs": [],
   "source": [
    "final_image_text_df.rename(columns={'image_files':'image_fname'}, inplace=True)"
   ]
  },
  {
   "cell_type": "code",
   "execution_count": 118,
   "id": "508c93fd",
   "metadata": {
    "ExecuteTime": {
     "end_time": "2022-12-04T00:21:59.829375Z",
     "start_time": "2022-12-04T00:21:59.819362Z"
    },
    "hidden": true
   },
   "outputs": [
    {
     "data": {
      "text/html": [
       "<div>\n",
       "<style scoped>\n",
       "    .dataframe tbody tr th:only-of-type {\n",
       "        vertical-align: middle;\n",
       "    }\n",
       "\n",
       "    .dataframe tbody tr th {\n",
       "        vertical-align: top;\n",
       "    }\n",
       "\n",
       "    .dataframe thead th {\n",
       "        text-align: right;\n",
       "    }\n",
       "</style>\n",
       "<table border=\"1\" class=\"dataframe\">\n",
       "  <thead>\n",
       "    <tr style=\"text-align: right;\">\n",
       "      <th></th>\n",
       "      <th>patient_folder</th>\n",
       "      <th>patient_id</th>\n",
       "      <th>study_id</th>\n",
       "      <th>findings</th>\n",
       "      <th>impressions</th>\n",
       "      <th>findings_tokenized_sentences</th>\n",
       "      <th>impressions_tokenized_sentences</th>\n",
       "      <th>image_fname</th>\n",
       "    </tr>\n",
       "  </thead>\n",
       "  <tbody>\n",
       "    <tr>\n",
       "      <th>0</th>\n",
       "      <td>p10</td>\n",
       "      <td>p10000032</td>\n",
       "      <td>s50414267</td>\n",
       "      <td>: \\n \\n There is no focal consolidation, pleur...</td>\n",
       "      <td>: \\n \\n No acute cardiopulmonary process.</td>\n",
       "      <td>[There is no focal consolidation, pleural effu...</td>\n",
       "      <td>[No acute cardiopulmonary process.]</td>\n",
       "      <td>/MIMIC_CXR_JPG/files/p10/p10000032/s50414267/0...</td>\n",
       "    </tr>\n",
       "    <tr>\n",
       "      <th>1</th>\n",
       "      <td>p10</td>\n",
       "      <td>p10000032</td>\n",
       "      <td>s50414267</td>\n",
       "      <td>: \\n \\n There is no focal consolidation, pleur...</td>\n",
       "      <td>: \\n \\n No acute cardiopulmonary process.</td>\n",
       "      <td>[There is no focal consolidation, pleural effu...</td>\n",
       "      <td>[No acute cardiopulmonary process.]</td>\n",
       "      <td>/MIMIC_CXR_JPG/files/p10/p10000032/s50414267/1...</td>\n",
       "    </tr>\n",
       "    <tr>\n",
       "      <th>2</th>\n",
       "      <td>p10</td>\n",
       "      <td>p10000032</td>\n",
       "      <td>s53189527</td>\n",
       "      <td>: \\n \\n The cardiac, mediastinal and hilar con...</td>\n",
       "      <td>: \\n \\n No acute cardiopulmonary abnormality.</td>\n",
       "      <td>[The cardiac, mediastinal and hilar contours a...</td>\n",
       "      <td>[No acute cardiopulmonary abnormality.]</td>\n",
       "      <td>/MIMIC_CXR_JPG/files/p10/p10000032/s53189527/2...</td>\n",
       "    </tr>\n",
       "    <tr>\n",
       "      <th>3</th>\n",
       "      <td>p10</td>\n",
       "      <td>p10000032</td>\n",
       "      <td>s53189527</td>\n",
       "      <td>: \\n \\n The cardiac, mediastinal and hilar con...</td>\n",
       "      <td>: \\n \\n No acute cardiopulmonary abnormality.</td>\n",
       "      <td>[The cardiac, mediastinal and hilar contours a...</td>\n",
       "      <td>[No acute cardiopulmonary abnormality.]</td>\n",
       "      <td>/MIMIC_CXR_JPG/files/p10/p10000032/s53189527/e...</td>\n",
       "    </tr>\n",
       "    <tr>\n",
       "      <th>4</th>\n",
       "      <td>p10</td>\n",
       "      <td>p10000032</td>\n",
       "      <td>s53911762</td>\n",
       "      <td>: \\n \\n Single frontal view of the chest provi...</td>\n",
       "      <td>: \\n \\n No acute intrathoracic process.</td>\n",
       "      <td>[Single frontal view of the chest provided., T...</td>\n",
       "      <td>[No acute intrathoracic process.]</td>\n",
       "      <td>/MIMIC_CXR_JPG/files/p10/p10000032/s53911762/6...</td>\n",
       "    </tr>\n",
       "  </tbody>\n",
       "</table>\n",
       "</div>"
      ],
      "text/plain": [
       "  patient_folder patient_id   study_id  \\\n",
       "0            p10  p10000032  s50414267   \n",
       "1            p10  p10000032  s50414267   \n",
       "2            p10  p10000032  s53189527   \n",
       "3            p10  p10000032  s53189527   \n",
       "4            p10  p10000032  s53911762   \n",
       "\n",
       "                                            findings  \\\n",
       "0  : \\n \\n There is no focal consolidation, pleur...   \n",
       "1  : \\n \\n There is no focal consolidation, pleur...   \n",
       "2  : \\n \\n The cardiac, mediastinal and hilar con...   \n",
       "3  : \\n \\n The cardiac, mediastinal and hilar con...   \n",
       "4  : \\n \\n Single frontal view of the chest provi...   \n",
       "\n",
       "                                     impressions  \\\n",
       "0      : \\n \\n No acute cardiopulmonary process.   \n",
       "1      : \\n \\n No acute cardiopulmonary process.   \n",
       "2  : \\n \\n No acute cardiopulmonary abnormality.   \n",
       "3  : \\n \\n No acute cardiopulmonary abnormality.   \n",
       "4        : \\n \\n No acute intrathoracic process.   \n",
       "\n",
       "                        findings_tokenized_sentences  \\\n",
       "0  [There is no focal consolidation, pleural effu...   \n",
       "1  [There is no focal consolidation, pleural effu...   \n",
       "2  [The cardiac, mediastinal and hilar contours a...   \n",
       "3  [The cardiac, mediastinal and hilar contours a...   \n",
       "4  [Single frontal view of the chest provided., T...   \n",
       "\n",
       "           impressions_tokenized_sentences  \\\n",
       "0      [No acute cardiopulmonary process.]   \n",
       "1      [No acute cardiopulmonary process.]   \n",
       "2  [No acute cardiopulmonary abnormality.]   \n",
       "3  [No acute cardiopulmonary abnormality.]   \n",
       "4        [No acute intrathoracic process.]   \n",
       "\n",
       "                                         image_fname  \n",
       "0  /MIMIC_CXR_JPG/files/p10/p10000032/s50414267/0...  \n",
       "1  /MIMIC_CXR_JPG/files/p10/p10000032/s50414267/1...  \n",
       "2  /MIMIC_CXR_JPG/files/p10/p10000032/s53189527/2...  \n",
       "3  /MIMIC_CXR_JPG/files/p10/p10000032/s53189527/e...  \n",
       "4  /MIMIC_CXR_JPG/files/p10/p10000032/s53911762/6...  "
      ]
     },
     "execution_count": 118,
     "metadata": {},
     "output_type": "execute_result"
    }
   ],
   "source": [
    "final_image_text_df.head()"
   ]
  },
  {
   "cell_type": "code",
   "execution_count": 119,
   "id": "0edabf73",
   "metadata": {
    "ExecuteTime": {
     "end_time": "2022-12-04T00:22:02.285280Z",
     "start_time": "2022-12-04T00:22:00.814823Z"
    },
    "hidden": true
   },
   "outputs": [],
   "source": [
    "with open('/scratch/tm3647/public/mimic_image_text_df.pkl', 'wb') as f:\n",
    "    pickle.dump(final_image_text_df, f)"
   ]
  },
  {
   "cell_type": "markdown",
   "id": "ef5c5662",
   "metadata": {
    "heading_collapsed": true
   },
   "source": [
    "### Reload Dataframe"
   ]
  },
  {
   "cell_type": "code",
   "execution_count": 4,
   "id": "1cb56efd",
   "metadata": {
    "ExecuteTime": {
     "end_time": "2022-12-07T22:40:02.287205Z",
     "start_time": "2022-12-07T22:40:01.071825Z"
    },
    "hidden": true
   },
   "outputs": [],
   "source": [
    "with open('/scratch/tm3647/public/mimic_image_text_df.pkl', 'rb') as f:\n",
    "    final_image_text_df = pickle.load(f)"
   ]
  },
  {
   "cell_type": "code",
   "execution_count": 19,
   "id": "0771e8ac",
   "metadata": {
    "ExecuteTime": {
     "end_time": "2022-12-07T23:07:40.114984Z",
     "start_time": "2022-12-07T23:07:40.104292Z"
    },
    "collapsed": true,
    "hidden": true
   },
   "outputs": [
    {
     "data": {
      "text/html": [
       "<div>\n",
       "<style scoped>\n",
       "    .dataframe tbody tr th:only-of-type {\n",
       "        vertical-align: middle;\n",
       "    }\n",
       "\n",
       "    .dataframe tbody tr th {\n",
       "        vertical-align: top;\n",
       "    }\n",
       "\n",
       "    .dataframe thead th {\n",
       "        text-align: right;\n",
       "    }\n",
       "</style>\n",
       "<table border=\"1\" class=\"dataframe\">\n",
       "  <thead>\n",
       "    <tr style=\"text-align: right;\">\n",
       "      <th></th>\n",
       "      <th>patient_folder</th>\n",
       "      <th>patient_id</th>\n",
       "      <th>study_id</th>\n",
       "      <th>findings</th>\n",
       "      <th>impressions</th>\n",
       "      <th>findings_tokenized_sentences</th>\n",
       "      <th>impressions_tokenized_sentences</th>\n",
       "      <th>orig_image_fname</th>\n",
       "      <th>image_fname</th>\n",
       "    </tr>\n",
       "  </thead>\n",
       "  <tbody>\n",
       "    <tr>\n",
       "      <th>0</th>\n",
       "      <td>p10</td>\n",
       "      <td>p10000032</td>\n",
       "      <td>s50414267</td>\n",
       "      <td>: \\n \\n There is no focal consolidation, pleur...</td>\n",
       "      <td>: \\n \\n No acute cardiopulmonary process.</td>\n",
       "      <td>[There is no focal consolidation, pleural effu...</td>\n",
       "      <td>[No acute cardiopulmonary process.]</td>\n",
       "      <td>/MIMIC_CXR_JPG/files/p10/p10000032/s50414267/0...</td>\n",
       "      <td>/MIMIC_CXR_JPG/files/p10/p10000032/s50414267/0...</td>\n",
       "    </tr>\n",
       "    <tr>\n",
       "      <th>1</th>\n",
       "      <td>p10</td>\n",
       "      <td>p10000032</td>\n",
       "      <td>s50414267</td>\n",
       "      <td>: \\n \\n There is no focal consolidation, pleur...</td>\n",
       "      <td>: \\n \\n No acute cardiopulmonary process.</td>\n",
       "      <td>[There is no focal consolidation, pleural effu...</td>\n",
       "      <td>[No acute cardiopulmonary process.]</td>\n",
       "      <td>/MIMIC_CXR_JPG/files/p10/p10000032/s50414267/1...</td>\n",
       "      <td>/MIMIC_CXR_JPG/files/p10/p10000032/s50414267/1...</td>\n",
       "    </tr>\n",
       "    <tr>\n",
       "      <th>2</th>\n",
       "      <td>p10</td>\n",
       "      <td>p10000032</td>\n",
       "      <td>s53189527</td>\n",
       "      <td>: \\n \\n The cardiac, mediastinal and hilar con...</td>\n",
       "      <td>: \\n \\n No acute cardiopulmonary abnormality.</td>\n",
       "      <td>[The cardiac, mediastinal and hilar contours a...</td>\n",
       "      <td>[No acute cardiopulmonary abnormality.]</td>\n",
       "      <td>/MIMIC_CXR_JPG/files/p10/p10000032/s53189527/2...</td>\n",
       "      <td>/MIMIC_CXR_JPG/files/p10/p10000032/s53189527/2...</td>\n",
       "    </tr>\n",
       "    <tr>\n",
       "      <th>3</th>\n",
       "      <td>p10</td>\n",
       "      <td>p10000032</td>\n",
       "      <td>s53189527</td>\n",
       "      <td>: \\n \\n The cardiac, mediastinal and hilar con...</td>\n",
       "      <td>: \\n \\n No acute cardiopulmonary abnormality.</td>\n",
       "      <td>[The cardiac, mediastinal and hilar contours a...</td>\n",
       "      <td>[No acute cardiopulmonary abnormality.]</td>\n",
       "      <td>/MIMIC_CXR_JPG/files/p10/p10000032/s53189527/e...</td>\n",
       "      <td>/MIMIC_CXR_JPG/files/p10/p10000032/s53189527/e...</td>\n",
       "    </tr>\n",
       "    <tr>\n",
       "      <th>4</th>\n",
       "      <td>p10</td>\n",
       "      <td>p10000032</td>\n",
       "      <td>s53911762</td>\n",
       "      <td>: \\n \\n Single frontal view of the chest provi...</td>\n",
       "      <td>: \\n \\n No acute intrathoracic process.</td>\n",
       "      <td>[Single frontal view of the chest provided., T...</td>\n",
       "      <td>[No acute intrathoracic process.]</td>\n",
       "      <td>/MIMIC_CXR_JPG/files/p10/p10000032/s53911762/6...</td>\n",
       "      <td>/MIMIC_CXR_JPG/files/p10/p10000032/s53911762/6...</td>\n",
       "    </tr>\n",
       "  </tbody>\n",
       "</table>\n",
       "</div>"
      ],
      "text/plain": [
       "  patient_folder patient_id   study_id  \\\n",
       "0            p10  p10000032  s50414267   \n",
       "1            p10  p10000032  s50414267   \n",
       "2            p10  p10000032  s53189527   \n",
       "3            p10  p10000032  s53189527   \n",
       "4            p10  p10000032  s53911762   \n",
       "\n",
       "                                            findings  \\\n",
       "0  : \\n \\n There is no focal consolidation, pleur...   \n",
       "1  : \\n \\n There is no focal consolidation, pleur...   \n",
       "2  : \\n \\n The cardiac, mediastinal and hilar con...   \n",
       "3  : \\n \\n The cardiac, mediastinal and hilar con...   \n",
       "4  : \\n \\n Single frontal view of the chest provi...   \n",
       "\n",
       "                                     impressions  \\\n",
       "0      : \\n \\n No acute cardiopulmonary process.   \n",
       "1      : \\n \\n No acute cardiopulmonary process.   \n",
       "2  : \\n \\n No acute cardiopulmonary abnormality.   \n",
       "3  : \\n \\n No acute cardiopulmonary abnormality.   \n",
       "4        : \\n \\n No acute intrathoracic process.   \n",
       "\n",
       "                        findings_tokenized_sentences  \\\n",
       "0  [There is no focal consolidation, pleural effu...   \n",
       "1  [There is no focal consolidation, pleural effu...   \n",
       "2  [The cardiac, mediastinal and hilar contours a...   \n",
       "3  [The cardiac, mediastinal and hilar contours a...   \n",
       "4  [Single frontal view of the chest provided., T...   \n",
       "\n",
       "           impressions_tokenized_sentences  \\\n",
       "0      [No acute cardiopulmonary process.]   \n",
       "1      [No acute cardiopulmonary process.]   \n",
       "2  [No acute cardiopulmonary abnormality.]   \n",
       "3  [No acute cardiopulmonary abnormality.]   \n",
       "4        [No acute intrathoracic process.]   \n",
       "\n",
       "                                    orig_image_fname  \\\n",
       "0  /MIMIC_CXR_JPG/files/p10/p10000032/s50414267/0...   \n",
       "1  /MIMIC_CXR_JPG/files/p10/p10000032/s50414267/1...   \n",
       "2  /MIMIC_CXR_JPG/files/p10/p10000032/s53189527/2...   \n",
       "3  /MIMIC_CXR_JPG/files/p10/p10000032/s53189527/e...   \n",
       "4  /MIMIC_CXR_JPG/files/p10/p10000032/s53911762/6...   \n",
       "\n",
       "                                         image_fname  \n",
       "0  /MIMIC_CXR_JPG/files/p10/p10000032/s50414267/0...  \n",
       "1  /MIMIC_CXR_JPG/files/p10/p10000032/s50414267/1...  \n",
       "2  /MIMIC_CXR_JPG/files/p10/p10000032/s53189527/2...  \n",
       "3  /MIMIC_CXR_JPG/files/p10/p10000032/s53189527/e...  \n",
       "4  /MIMIC_CXR_JPG/files/p10/p10000032/s53911762/6...  "
      ]
     },
     "execution_count": 19,
     "metadata": {},
     "output_type": "execute_result"
    }
   ],
   "source": [
    "final_image_text_df.head()"
   ]
  },
  {
   "cell_type": "markdown",
   "id": "ed1ff4c7",
   "metadata": {
    "heading_collapsed": true,
    "hidden": true
   },
   "source": [
    "#### Resize images and store on the disk (later created squash out of this)"
   ]
  },
  {
   "cell_type": "code",
   "execution_count": 20,
   "id": "39c9aadd",
   "metadata": {
    "ExecuteTime": {
     "end_time": "2022-12-07T18:33:11.989984Z",
     "start_time": "2022-12-07T18:30:59.367892Z"
    },
    "hidden": true
   },
   "outputs": [],
   "source": [
    "final_image_text_df['resized_image_fname'] = final_image_text_df['image_fname'].apply(lambda x: os.path.exists((os.path.splitext(x)[0]+'_resized.jpg').replace('/MIMIC_CXR_JPG/', '/vast/tm3647/physionet.org/files/mimic-cxr-jpg/2.0.0/')))"
   ]
  },
  {
   "cell_type": "code",
   "execution_count": null,
   "id": "df685d82",
   "metadata": {
    "hidden": true
   },
   "outputs": [],
   "source": [
    "def preprocess(img, desired_size=320):\n",
    "    old_size = img.size\n",
    "    ratio = float(desired_size)/max(old_size)\n",
    "    new_size = tuple([int(x*ratio) for x in old_size])\n",
    "    img = img.resize(new_size, Image.Resampling.LANCZOS)\n",
    "    # create a new image and paste the resized on it\n",
    "\n",
    "    new_img = Image.new('L', (desired_size, desired_size))\n",
    "    new_img.paste(img, ((desired_size-new_size[0])//2,\n",
    "                        (desired_size-new_size[1])//2))\n",
    "    return new_img"
   ]
  },
  {
   "cell_type": "code",
   "execution_count": 6,
   "id": "122c8a29",
   "metadata": {
    "ExecuteTime": {
     "end_time": "2022-12-07T18:23:11.861682Z",
     "start_time": "2022-12-07T18:23:11.858514Z"
    },
    "hidden": true
   },
   "outputs": [],
   "source": [
    "def resize_and_save(record):\n",
    "    new_fname = os.path.splitext(record['image_fname'])[0]+'_resized.jpg'\n",
    "    new_fname = new_fname.replace('/MIMIC_CXR_JPG/', '/vast/tm3647/physionet.org/files/mimic-cxr-jpg/2.0.0/')\n",
    "    if os.path.exists(new_fname):\n",
    "        return\n",
    "    \n",
    "    image = pyvips.Image.new_from_file(record['image_fname'], access=\"sequential\")\n",
    "    mem_img = image.write_to_memory()\n",
    "    image = np.frombuffer(mem_img, dtype=np.uint8).reshape(image.height, image.width)\n",
    "    \n",
    "    img = preprocess(Image.fromarray(image))\n",
    "    img.save(new_fname)"
   ]
  },
  {
   "cell_type": "raw",
   "id": "12ea77d8",
   "metadata": {
    "ExecuteTime": {
     "end_time": "2022-12-07T08:19:03.823613Z",
     "start_time": "2022-12-07T07:59:35.840445Z"
    },
    "hidden": true
   },
   "source": [
    "final_image_text_df.iloc[:10000].swifter.apply(lambda x: resize_and_save(x), axis=1)"
   ]
  },
  {
   "cell_type": "code",
   "execution_count": 7,
   "id": "462c723e",
   "metadata": {
    "ExecuteTime": {
     "end_time": "2022-12-07T18:23:14.072529Z",
     "start_time": "2022-12-07T18:23:14.003995Z"
    },
    "hidden": true
   },
   "outputs": [],
   "source": [
    "from joblib import Parallel, delayed"
   ]
  },
  {
   "cell_type": "code",
   "execution_count": 14,
   "id": "a6b51454",
   "metadata": {
    "ExecuteTime": {
     "end_time": "2022-12-07T18:27:30.463631Z",
     "start_time": "2022-12-07T18:25:15.861714Z"
    },
    "hidden": true
   },
   "outputs": [
    {
     "name": "stderr",
     "output_type": "stream",
     "text": [
      "  0%|          | 0/360689 [00:00<?, ?it/s][Parallel(n_jobs=4)]: Using backend LokyBackend with 4 concurrent workers.\n",
      "  0%|          | 8/360689 [00:00<6:48:52, 14.70it/s][Parallel(n_jobs=4)]: Done  56 tasks      | elapsed:    0.6s\n",
      "  4%|▎         | 12804/360689 [00:04<02:04, 2783.37it/s][Parallel(n_jobs=4)]: Done 12036 tasks      | elapsed:    5.0s\n",
      " 11%|█         | 38404/360689 [00:14<02:06, 2542.31it/s][Parallel(n_jobs=4)]: Done 38020 tasks      | elapsed:   14.3s\n",
      " 21%|██        | 74756/360689 [00:27<01:46, 2673.21it/s][Parallel(n_jobs=4)]: Done 74244 tasks      | elapsed:   27.6s\n",
      " 34%|███▎      | 121348/360689 [00:44<01:36, 2485.46it/s][Parallel(n_jobs=4)]: Done 120964 tasks      | elapsed:   44.8s\n",
      " 50%|████▉     | 178692/360689 [01:05<01:06, 2744.10it/s][Parallel(n_jobs=4)]: Done 177924 tasks      | elapsed:  1.1min\n",
      " 68%|██████▊   | 245764/360689 [01:29<00:44, 2580.38it/s][Parallel(n_jobs=4)]: Done 245380 tasks      | elapsed:  1.5min\n",
      " 90%|████████▉ | 323588/360689 [02:00<00:12, 2887.10it/s][Parallel(n_jobs=4)]: Done 323076 tasks      | elapsed:  2.0min\n",
      "100%|██████████| 360689/360689 [02:14<00:00, 2687.67it/s]\n",
      "[Parallel(n_jobs=4)]: Done 360682 out of 360689 | elapsed:  2.2min remaining:    0.0s\n",
      "[Parallel(n_jobs=4)]: Done 360689 out of 360689 | elapsed:  2.2min finished\n"
     ]
    }
   ],
   "source": [
    "_ = Parallel(4, verbose=2)(delayed(resize_and_save)(r) for _,r in tqdm(final_image_text_df.iterrows(), total=final_image_text_df.shape[0]))"
   ]
  },
  {
   "cell_type": "code",
   "execution_count": 68,
   "id": "d1272041",
   "metadata": {
    "ExecuteTime": {
     "end_time": "2022-12-07T08:25:06.487435Z",
     "start_time": "2022-12-07T08:25:06.483666Z"
    },
    "hidden": true
   },
   "outputs": [
    {
     "data": {
      "text/plain": [
       "'/MIMIC_CXR_JPG/files/p10/p10305105/s59067509/5d4f7454-7e3a0a0c-7a25fa0d-ccfe7e7b-d425a744.jpg'"
      ]
     },
     "execution_count": 68,
     "metadata": {},
     "output_type": "execute_result"
    }
   ],
   "source": [
    "final_image_text_df.iloc[10000:11000].iloc[-1]['image_fname']"
   ]
  },
  {
   "cell_type": "markdown",
   "id": "d49f24ea",
   "metadata": {
    "heading_collapsed": true,
    "hidden": true
   },
   "source": [
    "#### Add a resized images fname column"
   ]
  },
  {
   "cell_type": "code",
   "execution_count": 6,
   "id": "e6f516b8",
   "metadata": {
    "ExecuteTime": {
     "end_time": "2022-12-07T22:43:37.555806Z",
     "start_time": "2022-12-07T22:43:37.552791Z"
    },
    "hidden": true
   },
   "outputs": [],
   "source": [
    "final_image_text_df.rename(columns={'image_fname':'orig_image_fname'}, inplace=True)"
   ]
  },
  {
   "cell_type": "code",
   "execution_count": 11,
   "id": "31424275",
   "metadata": {
    "ExecuteTime": {
     "end_time": "2022-12-07T22:45:50.629177Z",
     "start_time": "2022-12-07T22:45:50.211328Z"
    },
    "hidden": true
   },
   "outputs": [],
   "source": [
    "final_image_text_df['image_fname'] = final_image_text_df['orig_image_fname'].apply(lambda x: os.path.splitext(x)[0]+'_resized.jpg')"
   ]
  },
  {
   "cell_type": "code",
   "execution_count": 12,
   "id": "a601aa40",
   "metadata": {
    "ExecuteTime": {
     "end_time": "2022-12-07T22:45:55.028636Z",
     "start_time": "2022-12-07T22:45:53.881588Z"
    },
    "hidden": true
   },
   "outputs": [
    {
     "data": {
      "text/plain": [
       "True    360689\n",
       "Name: image_fname, dtype: int64"
      ]
     },
     "execution_count": 12,
     "metadata": {},
     "output_type": "execute_result"
    }
   ],
   "source": [
    "final_image_text_df['image_fname'].apply(lambda x: os.path.exists(x)).value_counts()"
   ]
  },
  {
   "cell_type": "code",
   "execution_count": 20,
   "id": "70f6bc24",
   "metadata": {
    "ExecuteTime": {
     "end_time": "2022-12-07T23:07:51.243255Z",
     "start_time": "2022-12-07T23:07:51.198408Z"
    },
    "hidden": true
   },
   "outputs": [
    {
     "data": {
      "image/png": "[encoded data removed]",
      "text/plain": [
       "<PIL.JpegImagePlugin.JpegImageFile image mode=L size=320x320>"
      ]
     },
     "execution_count": 20,
     "metadata": {},
     "output_type": "execute_result"
    }
   ],
   "source": [
    "Image.open(final_image_text_df['image_fname'].sample().iloc[0])"
   ]
  },
  {
   "cell_type": "markdown",
   "id": "47e173c1",
   "metadata": {
    "heading_collapsed": true,
    "hidden": true
   },
   "source": [
    "#### Write the dataframe to the public folder (tejas)"
   ]
  },
  {
   "cell_type": "code",
   "execution_count": 22,
   "id": "732fe342",
   "metadata": {
    "ExecuteTime": {
     "end_time": "2022-12-07T23:08:50.414759Z",
     "start_time": "2022-12-07T23:08:49.028984Z"
    },
    "hidden": true
   },
   "outputs": [],
   "source": [
    "with open('/scratch/tm3647/public/mimic_image_text_df.pkl', 'wb') as f:\n",
    "    pickle.dump(final_image_text_df, f)"
   ]
  },
  {
   "cell_type": "markdown",
   "id": "282c2d33",
   "metadata": {
    "heading_collapsed": true
   },
   "source": [
    "### Pytorch Dataset"
   ]
  },
  {
   "cell_type": "code",
   "execution_count": 10,
   "id": "7f8f57db",
   "metadata": {
    "ExecuteTime": {
     "end_time": "2022-12-07T18:23:32.907500Z",
     "start_time": "2022-12-07T18:23:32.902011Z"
    },
    "code_folding": [],
    "hidden": true
   },
   "outputs": [],
   "source": [
    "class MIMICCXRDataset(torch.utils.data.Dataset):\n",
    "    def __init__(self,  df_file:str , config=None, transforms=None, tokenizer=None):\n",
    "        super(MIMICCXRDataset, self).__init__()\n",
    "        \n",
    "        self.config = config\n",
    "        assert os.path.exists(df_file) and os.path.splitext(df_file)[1].lower()==\".pkl\", \"Check file path exists and has the extension .pkl\"\n",
    "        \n",
    "        with open(df_file, 'rb') as f:\n",
    "            self.df = pickle.load(f)\n",
    "        \n",
    "        self.transforms = transforms\n",
    "        self.tokenizer = tokenizer\n",
    "    \n",
    "    def __len__(self):\n",
    "        return self.df.shape[0]\n",
    "    \n",
    "    def __getitem__(self, idx):\n",
    "        record = self.df.iloc[idx]\n",
    "        \n",
    "        image = pyvips.Image.new_from_file(record['image_fname'], access=\"sequential\")\n",
    "        mem_img = image.write_to_memory()\n",
    "        image = np.frombuffer(mem_img, dtype=np.uint8).reshape(image.height, image.width)\n",
    "        #return image, record['image_fname']\n",
    "        \n",
    "        image = transforms.ToTensor()(cv2.cvtColor(image, cv2.COLOR_GRAY2RGB))\n",
    "        \n",
    "        findings = record['findings_tokenized_sentences']\n",
    "        impressions = record['impressions_tokenized_sentences']\n",
    "        \n",
    "        find_impres = findings + impressions\n",
    "        \n",
    "        assert len(find_impres)!=0, f\"Issue findings/impression of {record['patient_folder']}/{record['patient_id']}/{record['study_id']}\"\n",
    "        \n",
    "        text = np.random.choice(find_impres)\n",
    "        \n",
    "        if self.transforms:\n",
    "            image = self.transforms(image)\n",
    "        \n",
    "        if self.tokenizer:\n",
    "            tokenized_input_data = self.tokenizer(text, max_length=128, padding=\"max_length\", truncation=True, return_tensors=\"pt\")\n",
    "        \n",
    "        return {'image':image, 'text': text, 'tokenized_data':tokenized_input_data}"
   ]
  },
  {
   "cell_type": "markdown",
   "id": "871bcd51",
   "metadata": {
    "heading_collapsed": true,
    "hidden": true
   },
   "source": [
    "#### Exps"
   ]
  },
  {
   "cell_type": "code",
   "execution_count": 36,
   "id": "96100909",
   "metadata": {
    "ExecuteTime": {
     "end_time": "2022-12-06T21:56:10.391244Z",
     "start_time": "2022-12-06T21:55:28.621955Z"
    },
    "hidden": true
   },
   "outputs": [],
   "source": [
    "mds = MIMICDataset('/scratch/tm3647/public/mimic_image_text_df.pkl')"
   ]
  },
  {
   "cell_type": "raw",
   "id": "04624360",
   "metadata": {
    "ExecuteTime": {
     "end_time": "2022-12-04T21:17:03.223110Z",
     "start_time": "2022-12-04T21:17:03.195429Z"
    },
    "hidden": true,
    "scrolled": true
   },
   "source": [
    "read_image('/MIMIC_CXR_JPG/files/p10/p10000032/s50414267/02aa804e-bde0afdd-112c0b34-7bc16630-4e384014.jpg')"
   ]
  },
  {
   "cell_type": "raw",
   "id": "5a77dfd4",
   "metadata": {
    "ExecuteTime": {
     "end_time": "2022-12-04T21:17:07.463602Z",
     "start_time": "2022-12-04T21:17:06.466787Z"
    },
    "hidden": true
   },
   "source": [
    "plt.imshow(cv2.imread('/MIMIC_CXR_JPG/files/p10/p10000032/s50414267/02aa804e-bde0afdd-112c0b34-7bc16630-4e384014.jpg'))"
   ]
  },
  {
   "cell_type": "code",
   "execution_count": 37,
   "id": "b51ac8c3",
   "metadata": {
    "ExecuteTime": {
     "end_time": "2022-12-06T21:56:10.465453Z",
     "start_time": "2022-12-06T21:56:10.393076Z"
    },
    "hidden": true
   },
   "outputs": [],
   "source": [
    "for i in mds:\n",
    "    break"
   ]
  },
  {
   "cell_type": "code",
   "execution_count": 34,
   "id": "5061d977",
   "metadata": {
    "ExecuteTime": {
     "end_time": "2022-12-06T21:54:54.083902Z",
     "start_time": "2022-12-06T21:54:54.060979Z"
    },
    "hidden": true
   },
   "outputs": [
    {
     "data": {
      "text/plain": [
       "torch.Size([3, 3056, 2544])"
      ]
     },
     "execution_count": 34,
     "metadata": {},
     "output_type": "execute_result"
    }
   ],
   "source": [
    "transforms.ToTensor()(i['image'].squeeze().numpy())"
   ]
  },
  {
   "cell_type": "code",
   "execution_count": 44,
   "id": "661a9cb5",
   "metadata": {
    "ExecuteTime": {
     "end_time": "2022-12-06T21:57:56.248380Z",
     "start_time": "2022-12-06T21:57:56.245061Z"
    },
    "hidden": true
   },
   "outputs": [
    {
     "data": {
      "text/plain": [
       "torch.Size([3, 3056, 2544])"
      ]
     },
     "execution_count": 44,
     "metadata": {},
     "output_type": "execute_result"
    }
   ],
   "source": [
    "i['image'].shape"
   ]
  },
  {
   "cell_type": "code",
   "execution_count": 43,
   "id": "149f9546",
   "metadata": {
    "ExecuteTime": {
     "end_time": "2022-12-06T21:57:49.269359Z",
     "start_time": "2022-12-06T21:57:48.142832Z"
    },
    "hidden": true
   },
   "outputs": [
    {
     "data": {
      "text/plain": [
       "<matplotlib.image.AxesImage at 0x7fab5dfc4a10>"
      ]
     },
     "execution_count": 43,
     "metadata": {},
     "output_type": "execute_result"
    },
    {
     "data": {
      "image/png": "[encoded data removed]",
      "text/plain": [
       "<Figure size 432x288 with 1 Axes>"
      ]
     },
     "metadata": {
      "needs_background": "light"
     },
     "output_type": "display_data"
    }
   ],
   "source": [
    "plt.imshow(transforms.ToPILImage()(i['image']))"
   ]
  },
  {
   "cell_type": "markdown",
   "id": "1e372163",
   "metadata": {
    "heading_collapsed": true,
    "hidden": true
   },
   "source": [
    "#### Images write to disk"
   ]
  },
  {
   "cell_type": "code",
   "execution_count": 25,
   "id": "13ac7016",
   "metadata": {
    "ExecuteTime": {
     "end_time": "2022-12-07T07:39:15.908913Z",
     "start_time": "2022-12-07T07:39:14.309048Z"
    },
    "hidden": true
   },
   "outputs": [],
   "source": [
    "mds = MIMICCXRDataset('/scratch/tm3647/public/mimic_image_text_df.pkl')"
   ]
  },
  {
   "cell_type": "code",
   "execution_count": 55,
   "id": "b9fa3c10",
   "metadata": {
    "ExecuteTime": {
     "end_time": "2022-12-07T07:52:41.841393Z",
     "start_time": "2022-12-07T07:52:08.336379Z"
    },
    "hidden": true
   },
   "outputs": [
    {
     "name": "stderr",
     "output_type": "stream",
     "text": [
      "  0%|          | 310/360689 [00:33<10:46:39,  9.29it/s]\n"
     ]
    },
    {
     "ename": "KeyboardInterrupt",
     "evalue": "",
     "output_type": "error",
     "traceback": [
      "\u001b[0;31m---------------------------------------------------------------------------\u001b[0m",
      "\u001b[0;31mKeyboardInterrupt\u001b[0m                         Traceback (most recent call last)",
      "\u001b[0;32m/tmp/ipykernel_3563446/4254023537.py\u001b[0m in \u001b[0;36m<module>\u001b[0;34m\u001b[0m\n\u001b[0;32m----> 1\u001b[0;31m \u001b[0;32mfor\u001b[0m \u001b[0mb\u001b[0m \u001b[0;32min\u001b[0m \u001b[0mtqdm\u001b[0m\u001b[0;34m(\u001b[0m\u001b[0mmds\u001b[0m\u001b[0;34m)\u001b[0m\u001b[0;34m:\u001b[0m\u001b[0;34m\u001b[0m\u001b[0;34m\u001b[0m\u001b[0m\n\u001b[0m\u001b[1;32m      2\u001b[0m     \u001b[0mimg\u001b[0m \u001b[0;34m=\u001b[0m \u001b[0mpreprocess\u001b[0m\u001b[0;34m(\u001b[0m\u001b[0mImage\u001b[0m\u001b[0;34m.\u001b[0m\u001b[0mfromarray\u001b[0m\u001b[0;34m(\u001b[0m\u001b[0mb\u001b[0m\u001b[0;34m[\u001b[0m\u001b[0;36m0\u001b[0m\u001b[0;34m]\u001b[0m\u001b[0;34m)\u001b[0m\u001b[0;34m)\u001b[0m\u001b[0;34m\u001b[0m\u001b[0;34m\u001b[0m\u001b[0m\n\u001b[1;32m      3\u001b[0m     \u001b[0mnew_fname\u001b[0m \u001b[0;34m=\u001b[0m \u001b[0mos\u001b[0m\u001b[0;34m.\u001b[0m\u001b[0mpath\u001b[0m\u001b[0;34m.\u001b[0m\u001b[0msplitext\u001b[0m\u001b[0;34m(\u001b[0m\u001b[0mb\u001b[0m\u001b[0;34m[\u001b[0m\u001b[0;36m1\u001b[0m\u001b[0;34m]\u001b[0m\u001b[0;34m)\u001b[0m\u001b[0;34m[\u001b[0m\u001b[0;36m0\u001b[0m\u001b[0;34m]\u001b[0m\u001b[0;34m+\u001b[0m\u001b[0;34m'_resized.jpg'\u001b[0m\u001b[0;34m\u001b[0m\u001b[0;34m\u001b[0m\u001b[0m\n\u001b[1;32m      4\u001b[0m     \u001b[0mnew_fname\u001b[0m \u001b[0;34m=\u001b[0m \u001b[0mnew_fname\u001b[0m\u001b[0;34m.\u001b[0m\u001b[0mreplace\u001b[0m\u001b[0;34m(\u001b[0m\u001b[0;34m'/MIMIC_CXR_JPG/'\u001b[0m\u001b[0;34m,\u001b[0m \u001b[0;34m'/vast/tm3647/physionet.org/files/mimic-cxr-jpg/2.0.0/'\u001b[0m\u001b[0;34m)\u001b[0m\u001b[0;34m\u001b[0m\u001b[0;34m\u001b[0m\u001b[0m\n\u001b[1;32m      5\u001b[0m     \u001b[0mimg\u001b[0m\u001b[0;34m.\u001b[0m\u001b[0msave\u001b[0m\u001b[0;34m(\u001b[0m\u001b[0mnew_fname\u001b[0m\u001b[0;34m)\u001b[0m\u001b[0;34m\u001b[0m\u001b[0;34m\u001b[0m\u001b[0m\n",
      "\u001b[0;32m/ext3/fedml-env/lib/python3.7/site-packages/tqdm/std.py\u001b[0m in \u001b[0;36m__iter__\u001b[0;34m(self)\u001b[0m\n\u001b[1;32m   1193\u001b[0m \u001b[0;34m\u001b[0m\u001b[0m\n\u001b[1;32m   1194\u001b[0m         \u001b[0;32mtry\u001b[0m\u001b[0;34m:\u001b[0m\u001b[0;34m\u001b[0m\u001b[0;34m\u001b[0m\u001b[0m\n\u001b[0;32m-> 1195\u001b[0;31m             \u001b[0;32mfor\u001b[0m \u001b[0mobj\u001b[0m \u001b[0;32min\u001b[0m \u001b[0miterable\u001b[0m\u001b[0;34m:\u001b[0m\u001b[0;34m\u001b[0m\u001b[0;34m\u001b[0m\u001b[0m\n\u001b[0m\u001b[1;32m   1196\u001b[0m                 \u001b[0;32myield\u001b[0m \u001b[0mobj\u001b[0m\u001b[0;34m\u001b[0m\u001b[0;34m\u001b[0m\u001b[0m\n\u001b[1;32m   1197\u001b[0m                 \u001b[0;31m# Update and possibly print the progressbar.\u001b[0m\u001b[0;34m\u001b[0m\u001b[0;34m\u001b[0m\u001b[0;34m\u001b[0m\u001b[0m\n",
      "\u001b[0;32m/tmp/ipykernel_3563446/3321000556.py\u001b[0m in \u001b[0;36m__getitem__\u001b[0;34m(self, idx)\u001b[0m\n\u001b[1;32m     19\u001b[0m \u001b[0;34m\u001b[0m\u001b[0m\n\u001b[1;32m     20\u001b[0m         \u001b[0mimage\u001b[0m \u001b[0;34m=\u001b[0m \u001b[0mpyvips\u001b[0m\u001b[0;34m.\u001b[0m\u001b[0mImage\u001b[0m\u001b[0;34m.\u001b[0m\u001b[0mnew_from_file\u001b[0m\u001b[0;34m(\u001b[0m\u001b[0mrecord\u001b[0m\u001b[0;34m[\u001b[0m\u001b[0;34m'image_fname'\u001b[0m\u001b[0;34m]\u001b[0m\u001b[0;34m,\u001b[0m \u001b[0maccess\u001b[0m\u001b[0;34m=\u001b[0m\u001b[0;34m\"sequential\"\u001b[0m\u001b[0;34m)\u001b[0m\u001b[0;34m\u001b[0m\u001b[0;34m\u001b[0m\u001b[0m\n\u001b[0;32m---> 21\u001b[0;31m         \u001b[0mmem_img\u001b[0m \u001b[0;34m=\u001b[0m \u001b[0mimage\u001b[0m\u001b[0;34m.\u001b[0m\u001b[0mwrite_to_memory\u001b[0m\u001b[0;34m(\u001b[0m\u001b[0;34m)\u001b[0m\u001b[0;34m\u001b[0m\u001b[0;34m\u001b[0m\u001b[0m\n\u001b[0m\u001b[1;32m     22\u001b[0m         \u001b[0mimage\u001b[0m \u001b[0;34m=\u001b[0m \u001b[0mnp\u001b[0m\u001b[0;34m.\u001b[0m\u001b[0mfrombuffer\u001b[0m\u001b[0;34m(\u001b[0m\u001b[0mmem_img\u001b[0m\u001b[0;34m,\u001b[0m \u001b[0mdtype\u001b[0m\u001b[0;34m=\u001b[0m\u001b[0mnp\u001b[0m\u001b[0;34m.\u001b[0m\u001b[0muint8\u001b[0m\u001b[0;34m)\u001b[0m\u001b[0;34m.\u001b[0m\u001b[0mreshape\u001b[0m\u001b[0;34m(\u001b[0m\u001b[0mimage\u001b[0m\u001b[0;34m.\u001b[0m\u001b[0mheight\u001b[0m\u001b[0;34m,\u001b[0m \u001b[0mimage\u001b[0m\u001b[0;34m.\u001b[0m\u001b[0mwidth\u001b[0m\u001b[0;34m)\u001b[0m\u001b[0;34m\u001b[0m\u001b[0;34m\u001b[0m\u001b[0m\n\u001b[1;32m     23\u001b[0m         \u001b[0;32mreturn\u001b[0m \u001b[0mimage\u001b[0m\u001b[0;34m,\u001b[0m \u001b[0mrecord\u001b[0m\u001b[0;34m[\u001b[0m\u001b[0;34m'image_fname'\u001b[0m\u001b[0;34m]\u001b[0m\u001b[0;34m\u001b[0m\u001b[0;34m\u001b[0m\u001b[0m\n",
      "\u001b[0;32m/ext3/fedml-env/lib/python3.7/site-packages/pyvips/vimage.py\u001b[0m in \u001b[0;36mwrite_to_memory\u001b[0;34m(self)\u001b[0m\n\u001b[1;32m    940\u001b[0m         \"\"\"\n\u001b[1;32m    941\u001b[0m         \u001b[0mpsize\u001b[0m \u001b[0;34m=\u001b[0m \u001b[0mffi\u001b[0m\u001b[0;34m.\u001b[0m\u001b[0mnew\u001b[0m\u001b[0;34m(\u001b[0m\u001b[0;34m'size_t *'\u001b[0m\u001b[0;34m)\u001b[0m\u001b[0;34m\u001b[0m\u001b[0;34m\u001b[0m\u001b[0m\n\u001b[0;32m--> 942\u001b[0;31m         \u001b[0mpointer\u001b[0m \u001b[0;34m=\u001b[0m \u001b[0mvips_lib\u001b[0m\u001b[0;34m.\u001b[0m\u001b[0mvips_image_write_to_memory\u001b[0m\u001b[0;34m(\u001b[0m\u001b[0mself\u001b[0m\u001b[0;34m.\u001b[0m\u001b[0mpointer\u001b[0m\u001b[0;34m,\u001b[0m \u001b[0mpsize\u001b[0m\u001b[0;34m)\u001b[0m\u001b[0;34m\u001b[0m\u001b[0;34m\u001b[0m\u001b[0m\n\u001b[0m\u001b[1;32m    943\u001b[0m         \u001b[0;32mif\u001b[0m \u001b[0mpointer\u001b[0m \u001b[0;34m==\u001b[0m \u001b[0mffi\u001b[0m\u001b[0;34m.\u001b[0m\u001b[0mNULL\u001b[0m\u001b[0;34m:\u001b[0m\u001b[0;34m\u001b[0m\u001b[0;34m\u001b[0m\u001b[0m\n\u001b[1;32m    944\u001b[0m             \u001b[0;32mraise\u001b[0m \u001b[0mError\u001b[0m\u001b[0;34m(\u001b[0m\u001b[0;34m'unable to write to memory'\u001b[0m\u001b[0;34m)\u001b[0m\u001b[0;34m\u001b[0m\u001b[0;34m\u001b[0m\u001b[0m\n",
      "\u001b[0;31mKeyboardInterrupt\u001b[0m: "
     ]
    }
   ],
   "source": [
    "for b in tqdm(mds):\n",
    "    img = preprocess(Image.fromarray(b[0]))\n",
    "    new_fname = os.path.splitext(b[1])[0]+'_resized.jpg'\n",
    "    new_fname = new_fname.replace('/MIMIC_CXR_JPG/', '/vast/tm3647/physionet.org/files/mimic-cxr-jpg/2.0.0/')\n",
    "    img.save(new_fname)"
   ]
  },
  {
   "cell_type": "markdown",
   "id": "30bc6c29",
   "metadata": {
    "heading_collapsed": true
   },
   "source": [
    "### Pytorch DataModule"
   ]
  },
  {
   "cell_type": "code",
   "execution_count": 14,
   "id": "3e96ee98",
   "metadata": {
    "ExecuteTime": {
     "end_time": "2022-12-07T04:34:19.987677Z",
     "start_time": "2022-12-07T04:34:19.982581Z"
    },
    "hidden": true
   },
   "outputs": [],
   "source": [
    "from transformers import AutoModel"
   ]
  },
  {
   "cell_type": "code",
   "execution_count": 22,
   "id": "ac68d753",
   "metadata": {
    "ExecuteTime": {
     "end_time": "2022-12-07T04:34:54.507607Z",
     "start_time": "2022-12-07T04:34:54.505311Z"
    },
    "hidden": true
   },
   "outputs": [],
   "source": [
    "from typing import Optional, Dict, Any"
   ]
  },
  {
   "cell_type": "code",
   "execution_count": 15,
   "id": "fbc439b0",
   "metadata": {
    "ExecuteTime": {
     "end_time": "2022-12-07T04:34:20.280053Z",
     "start_time": "2022-12-07T04:34:20.277525Z"
    },
    "hidden": true
   },
   "outputs": [],
   "source": [
    "from pytorch_lightning import LightningDataModule \n",
    "from transformers import (\n",
    "    AutoConfig,\n",
    "    AutoTokenizer,\n",
    ")\n",
    "from torchvision import transforms\n",
    "from tqdm.auto import tqdm\n",
    "import time"
   ]
  },
  {
   "cell_type": "code",
   "execution_count": 32,
   "id": "b887b619",
   "metadata": {
    "ExecuteTime": {
     "end_time": "2022-12-07T04:37:41.793168Z",
     "start_time": "2022-12-07T04:37:41.783438Z"
    },
    "code_folding": [
     3,
     24
    ],
    "hidden": true
   },
   "outputs": [],
   "source": [
    "class MIMICCXRDataModule(LightningDataModule):\n",
    "    \"\"\"Example of LightningDataModule for MNIST dataset.\n",
    "\n",
    "    A DataModule implements 5 key methods:\n",
    "\n",
    "        def prepare_data(self):\n",
    "            # things to do on 1 GPU/TPU (not on every GPU/TPU in DDP)\n",
    "            # download data, pre-process, split, save to disk, etc...\n",
    "        def setup(self, stage):\n",
    "            # things to do on every process in DDP\n",
    "            # load data, set variables, etc...\n",
    "        def train_dataloader(self):\n",
    "            # return train dataloader\n",
    "        def val_dataloader(self):\n",
    "            # return validation dataloader\n",
    "        def test_dataloader(self):\n",
    "            # return test dataloader\n",
    "        def teardown(self):\n",
    "            # called on every process in DDP\n",
    "            # clean up after fit or test\n",
    "\n",
    "    This allows you to share a full dataset without explaining how to download,\n",
    "    split, transform and process the data.\n",
    "\n",
    "    Read the docs:\n",
    "        https://pytorch-lightning.readthedocs.io/en/latest/data/datamodule.html\n",
    "    \"\"\"\n",
    "\n",
    "    def __init__(\n",
    "        self,\n",
    "        mimic_cxr_dataset_file:str,\n",
    "        batch_size: int = 64,\n",
    "        num_workers: int = 0,\n",
    "        pin_memory: bool = False,\n",
    "        text_model_name:str = '',\n",
    "        #cfg: dict = {},\n",
    "    ):\n",
    "        super(MIMICCXRDataModule,).__init__()\n",
    "\n",
    "        # this line allows to access init params with 'self.hparams' attribute\n",
    "        # also ensures init params will be stored in ckpt\n",
    "        self.save_hyperparameters(logger=False)\n",
    "\n",
    "        ## Image transformations\n",
    "        self.transforms = transforms.Compose([\n",
    "            transforms.RandomResizedCrop(224, ratio=[0.6, 1.0]),\n",
    "            transforms.RandomAffine(degrees=[-20,20], translate=(0.1,0.1), scale=(0.95, 1.05)),\n",
    "            transforms.ColorJitter(brightness=(0.6, 1.4), contrast=(0.6, 1.4)),\n",
    "            #transforms.GaussianBlur(G) ## Not implemented due to no info on kernel size in the paper\n",
    "            #transforms.ToTensor(),\n",
    "            transforms.Resize((224,224)),\n",
    "            transforms.Normalize((0.485, 0.456, 0.406), (0.229, 0.224, 0.225))\n",
    "        ])\n",
    "        \n",
    "        ## Transforms\n",
    "        self.tokenizer = AutoTokenizer.from_pretrained(text_model_name, use_fast=True)\n",
    "\n",
    "        self.dataset: Optional[Dataset] = None\n",
    "\n",
    "    def prepare_data(self):\n",
    "        \"\"\"Download data if needed.\n",
    "        Do not use it to assign state (self.x = y).\n",
    "        \"\"\"\n",
    "        pass\n",
    "\n",
    "    def setup(self):\n",
    "        \"\"\"Load data\n",
    "\n",
    "        This method is called by lightning with both `trainer.fit()` and `trainer.test()`, so be\n",
    "        careful not to execute things like random split twice!\n",
    "        \"\"\"\n",
    "        self.dataset = MIMICCXRDataset(self.hparams.mimic_cxr_dataset_file, transforms=self.transforms, tokenizer=self.tokenizer)\n",
    "\n",
    "    def train_dataloader(self):\n",
    "        return DataLoader(\n",
    "            dataset=self.dataset,\n",
    "            batch_size=self.hparams.batch_size,\n",
    "            num_workers=self.hparams.num_workers,\n",
    "            pin_memory=self.hparams.pin_memory,\n",
    "            shuffle=True,\n",
    "        )\n",
    "\n",
    "    def teardown(self, stage: Optional[str] = None):\n",
    "        \"\"\"Clean up after fit or test.\"\"\"\n",
    "        pass\n",
    "\n",
    "    def state_dict(self):\n",
    "        \"\"\"Extra things to save to checkpoint.\"\"\"\n",
    "        return {}\n",
    "\n",
    "    def load_state_dict(self, state_dict: Dict[str, Any]):\n",
    "        \"\"\"Things to do when loading checkpoint.\"\"\"\n",
    "        pass\n",
    "    \n",
    "    def collate_and_tokenize(self, batch):\n",
    "        input_data = {}\n",
    "        \n",
    "        images = torch.cat(list(map(lambda x: torch.unsqueeze(x['image'], 0), batch)))\n",
    "        texts = list(map(lambda x: x['text'], batch))\n",
    "        \n",
    "        input_data = self.tokenizer.batch_encode_plus(texts, max_length=128, padding=True, truncation=True, return_tensors=\"pt\")\n",
    "        \n",
    "        keys = list(input_data.keys())\n",
    "        input_data['tokenized_text'] = {}\n",
    "        \n",
    "        for k in list(keys):\n",
    "            input_data['tokenized_text'][k]=input_data.pop(k)\n",
    "        \n",
    "        input_data['images'] = images\n",
    "        input_data['texts'] = texts\n",
    "        \n",
    "        return input_data"
   ]
  },
  {
   "cell_type": "markdown",
   "id": "5c13fad1",
   "metadata": {
    "heading_collapsed": true,
    "hidden": true
   },
   "source": [
    "#### Exps"
   ]
  },
  {
   "cell_type": "raw",
   "id": "a965982e",
   "metadata": {
    "ExecuteTime": {
     "end_time": "2022-12-06T19:53:49.335466Z",
     "start_time": "2022-12-06T19:53:49.331542Z"
    },
    "hidden": true
   },
   "source": [
    "dm.tokenizer('text', max_length=128, padding=\"max_length\", truncation=True, return_tensors=\"pt\")"
   ]
  },
  {
   "cell_type": "code",
   "execution_count": 39,
   "id": "6633eff3",
   "metadata": {
    "ExecuteTime": {
     "end_time": "2022-12-07T04:39:35.006476Z",
     "start_time": "2022-12-07T04:39:34.675953Z"
    },
    "hidden": true
   },
   "outputs": [],
   "source": [
    "dm = MIMICCXRDataModule('/scratch/tm3647/public/mimic_image_text_df.pkl', text_model_name='emilyalsentzer/Bio_ClinicalBERT', batch_size=32)"
   ]
  },
  {
   "cell_type": "code",
   "execution_count": 40,
   "id": "812f2c1d",
   "metadata": {
    "ExecuteTime": {
     "end_time": "2022-12-07T04:39:44.267106Z",
     "start_time": "2022-12-07T04:39:42.736386Z"
    },
    "hidden": true,
    "scrolled": true
   },
   "outputs": [],
   "source": [
    "dm.setup()"
   ]
  },
  {
   "cell_type": "raw",
   "id": "58edfafe",
   "metadata": {
    "ExecuteTime": {
     "end_time": "2022-12-06T21:29:05.528498Z",
     "start_time": "2022-12-06T21:29:05.470965Z"
    },
    "hidden": true
   },
   "source": [
    "image = pyvips.Image.new_from_file('/MIMIC_CXR_JPG/files/p10/p10000032/s50414267/02aa804e-bde0afdd-112c0b34-7bc16630-4e384014.jpg', access=\"sequential\")\n",
    "mem_img = image.write_to_memory()\n",
    "imgnp = np.frombuffer(mem_img, dtype=np.uint8).reshape(image.height, image.width)\n",
    "imgnp = cv2.cvtColor(imgnp, cv2.COLOR_GRAY2RGB)"
   ]
  },
  {
   "cell_type": "code",
   "execution_count": null,
   "id": "f201e4de",
   "metadata": {
    "ExecuteTime": {
     "end_time": "2022-12-06T22:06:35.932094Z",
     "start_time": "2022-12-06T22:04:47.156040Z"
    },
    "hidden": true
   },
   "outputs": [],
   "source": [
    "st_time = time.time()\n",
    "for batch in tqdm(dm.train_dataloader()):\n",
    "    images, texts = batch['image'], batch['text']\n",
    "    print(time.time()-st_time)\n",
    "    st_time = time.time()\n",
    "    break"
   ]
  },
  {
   "cell_type": "markdown",
   "id": "56a66699",
   "metadata": {
    "heading_collapsed": true,
    "hidden": true
   },
   "source": [
    "#### Flow janky stuff"
   ]
  },
  {
   "cell_type": "code",
   "execution_count": null,
   "id": "0a49dfcc",
   "metadata": {
    "hidden": true
   },
   "outputs": [],
   "source": [
    "st_time = time.time()\n",
    "for batch in tqdm(dm.train_dataloader()):\n",
    "    images, texts = batch['image'], batch['text']\n",
    "    print(time.time()-st_time)\n",
    "    st_time = time.time()\n",
    "    break"
   ]
  },
  {
   "cell_type": "code",
   "execution_count": 63,
   "id": "c007cbaa",
   "metadata": {
    "ExecuteTime": {
     "end_time": "2022-12-06T19:48:46.604106Z",
     "start_time": "2022-12-06T19:48:46.600814Z"
    },
    "hidden": true
   },
   "outputs": [
    {
     "data": {
      "text/plain": [
       "torch.Size([32, 38])"
      ]
     },
     "execution_count": 63,
     "metadata": {},
     "output_type": "execute_result"
    }
   ],
   "source": [
    "batch['tokenized_text']['input_ids'].shape"
   ]
  },
  {
   "cell_type": "code",
   "execution_count": 54,
   "id": "294d535a",
   "metadata": {
    "ExecuteTime": {
     "end_time": "2022-12-06T19:46:09.926577Z",
     "start_time": "2022-12-06T19:46:09.923269Z"
    },
    "hidden": true
   },
   "outputs": [
    {
     "data": {
      "text/plain": [
       "dict_keys(['tokenized_text', 'images', 'texts'])"
      ]
     },
     "execution_count": 54,
     "metadata": {},
     "output_type": "execute_result"
    }
   ],
   "source": [
    "batch.keys()"
   ]
  },
  {
   "cell_type": "code",
   "execution_count": 33,
   "id": "a78d854b",
   "metadata": {
    "ExecuteTime": {
     "end_time": "2022-12-06T19:35:29.689480Z",
     "start_time": "2022-12-06T19:35:29.686240Z"
    },
    "hidden": true
   },
   "outputs": [
    {
     "data": {
      "text/plain": [
       "(torch.Size([10, 3, 224, 224]), 10)"
      ]
     },
     "execution_count": 33,
     "metadata": {},
     "output_type": "execute_result"
    }
   ],
   "source": [
    "images.shape, len(texts)"
   ]
  },
  {
   "cell_type": "code",
   "execution_count": 17,
   "id": "9c505a77",
   "metadata": {
    "ExecuteTime": {
     "end_time": "2022-12-06T19:32:29.246161Z",
     "start_time": "2022-12-06T19:32:29.240809Z"
    },
    "hidden": true
   },
   "outputs": [
    {
     "data": {
      "text/plain": [
       "{'input_ids': tensor([[  101,  1103,  8682,  1132,  4303,  2330,  1114,  1185, 17811, 20994,\n",
       "           117,   185,  1513, 12602,   174,  3101, 17268,  1137,   185,  1673,\n",
       "          1818, 12858, 25632,   119,   102],\n",
       "        [  101,  1103,  3621,  2660, 16418,  2050, 14196, 27316,  1110,  1439,\n",
       "          2999,  6263,   119,   102,     0,     0,     0,     0,     0,     0,\n",
       "             0,     0,     0,     0,     0],\n",
       "        [  101,  1649,   117,  1107,  1103,  5806,  7300,  3545,   117,  7688,\n",
       "          4060, 13541, 20673,  1156,  4664,  1138,  1106,  1129,  1737,   119,\n",
       "           102,     0,     0,     0,     0]]), 'token_type_ids': tensor([[0, 0, 0, 0, 0, 0, 0, 0, 0, 0, 0, 0, 0, 0, 0, 0, 0, 0, 0, 0, 0, 0, 0, 0,\n",
       "         0],\n",
       "        [0, 0, 0, 0, 0, 0, 0, 0, 0, 0, 0, 0, 0, 0, 0, 0, 0, 0, 0, 0, 0, 0, 0, 0,\n",
       "         0],\n",
       "        [0, 0, 0, 0, 0, 0, 0, 0, 0, 0, 0, 0, 0, 0, 0, 0, 0, 0, 0, 0, 0, 0, 0, 0,\n",
       "         0]]), 'attention_mask': tensor([[1, 1, 1, 1, 1, 1, 1, 1, 1, 1, 1, 1, 1, 1, 1, 1, 1, 1, 1, 1, 1, 1, 1, 1,\n",
       "         1],\n",
       "        [1, 1, 1, 1, 1, 1, 1, 1, 1, 1, 1, 1, 1, 1, 0, 0, 0, 0, 0, 0, 0, 0, 0, 0,\n",
       "         0],\n",
       "        [1, 1, 1, 1, 1, 1, 1, 1, 1, 1, 1, 1, 1, 1, 1, 1, 1, 1, 1, 1, 1, 0, 0, 0,\n",
       "         0]])}"
      ]
     },
     "execution_count": 17,
     "metadata": {},
     "output_type": "execute_result"
    }
   ],
   "source": [
    "text_model_input = dm.tokenizer(batch['texts'][:3], return_tensors=\"pt\", padding=True)\n",
    "text_model_input"
   ]
  },
  {
   "cell_type": "code",
   "execution_count": 18,
   "id": "f05ed4d7",
   "metadata": {
    "ExecuteTime": {
     "end_time": "2022-12-06T19:32:41.447833Z",
     "start_time": "2022-12-06T19:32:39.520533Z"
    },
    "collapsed": true,
    "hidden": true
   },
   "outputs": [
    {
     "name": "stderr",
     "output_type": "stream",
     "text": [
      "Some weights of the model checkpoint at emilyalsentzer/Bio_ClinicalBERT were not used when initializing BertModel: ['cls.predictions.transform.dense.weight', 'cls.predictions.transform.LayerNorm.bias', 'cls.seq_relationship.weight', 'cls.predictions.transform.dense.bias', 'cls.predictions.bias', 'cls.predictions.decoder.weight', 'cls.predictions.transform.LayerNorm.weight', 'cls.seq_relationship.bias']\n",
      "- This IS expected if you are initializing BertModel from the checkpoint of a model trained on another task or with another architecture (e.g. initializing a BertForSequenceClassification model from a BertForPreTraining model).\n",
      "- This IS NOT expected if you are initializing BertModel from the checkpoint of a model that you expect to be exactly identical (initializing a BertForSequenceClassification model from a BertForSequenceClassification model).\n"
     ]
    }
   ],
   "source": [
    "text_model = AutoModel.from_pretrained('emilyalsentzer/Bio_ClinicalBERT')"
   ]
  },
  {
   "cell_type": "raw",
   "id": "7054bfb0",
   "metadata": {
    "ExecuteTime": {
     "end_time": "2022-12-06T19:35:34.590595Z",
     "start_time": "2022-12-06T19:35:33.891684Z"
    },
    "hidden": true
   },
   "source": [
    "text_model_output = text_model(**batch)"
   ]
  },
  {
   "cell_type": "code",
   "execution_count": 83,
   "id": "f38826e4",
   "metadata": {
    "ExecuteTime": {
     "end_time": "2022-12-05T03:38:50.434212Z",
     "start_time": "2022-12-05T03:38:50.125013Z"
    },
    "hidden": true
   },
   "outputs": [],
   "source": [
    "text_model_output = text_model(**text_model_input)"
   ]
  },
  {
   "cell_type": "code",
   "execution_count": 84,
   "id": "cd972bae",
   "metadata": {
    "ExecuteTime": {
     "end_time": "2022-12-05T03:38:53.437296Z",
     "start_time": "2022-12-05T03:38:53.434963Z"
    },
    "hidden": true
   },
   "outputs": [],
   "source": [
    "import torchvision\n",
    "import torchsummary"
   ]
  },
  {
   "cell_type": "code",
   "execution_count": 30,
   "id": "82de06eb",
   "metadata": {
    "ExecuteTime": {
     "end_time": "2022-12-05T02:45:29.449085Z",
     "start_time": "2022-12-05T02:45:29.012325Z"
    },
    "hidden": true
   },
   "outputs": [
    {
     "name": "stdout",
     "output_type": "stream",
     "text": [
      "----------------------------------------------------------------\n",
      "        Layer (type)               Output Shape         Param #\n",
      "================================================================\n",
      "            Conv2d-1         [-1, 64, 112, 112]           9,408\n",
      "       BatchNorm2d-2         [-1, 64, 112, 112]             128\n",
      "              ReLU-3         [-1, 64, 112, 112]               0\n",
      "         MaxPool2d-4           [-1, 64, 56, 56]               0\n",
      "            Conv2d-5           [-1, 64, 56, 56]           4,096\n",
      "       BatchNorm2d-6           [-1, 64, 56, 56]             128\n",
      "              ReLU-7           [-1, 64, 56, 56]               0\n",
      "            Conv2d-8           [-1, 64, 56, 56]          36,864\n",
      "       BatchNorm2d-9           [-1, 64, 56, 56]             128\n",
      "             ReLU-10           [-1, 64, 56, 56]               0\n",
      "           Conv2d-11          [-1, 256, 56, 56]          16,384\n",
      "      BatchNorm2d-12          [-1, 256, 56, 56]             512\n",
      "           Conv2d-13          [-1, 256, 56, 56]          16,384\n",
      "      BatchNorm2d-14          [-1, 256, 56, 56]             512\n",
      "             ReLU-15          [-1, 256, 56, 56]               0\n",
      "       Bottleneck-16          [-1, 256, 56, 56]               0\n",
      "           Conv2d-17           [-1, 64, 56, 56]          16,384\n",
      "      BatchNorm2d-18           [-1, 64, 56, 56]             128\n",
      "             ReLU-19           [-1, 64, 56, 56]               0\n",
      "           Conv2d-20           [-1, 64, 56, 56]          36,864\n",
      "      BatchNorm2d-21           [-1, 64, 56, 56]             128\n",
      "             ReLU-22           [-1, 64, 56, 56]               0\n",
      "           Conv2d-23          [-1, 256, 56, 56]          16,384\n",
      "      BatchNorm2d-24          [-1, 256, 56, 56]             512\n",
      "             ReLU-25          [-1, 256, 56, 56]               0\n",
      "       Bottleneck-26          [-1, 256, 56, 56]               0\n",
      "           Conv2d-27           [-1, 64, 56, 56]          16,384\n",
      "      BatchNorm2d-28           [-1, 64, 56, 56]             128\n",
      "             ReLU-29           [-1, 64, 56, 56]               0\n",
      "           Conv2d-30           [-1, 64, 56, 56]          36,864\n",
      "      BatchNorm2d-31           [-1, 64, 56, 56]             128\n",
      "             ReLU-32           [-1, 64, 56, 56]               0\n",
      "           Conv2d-33          [-1, 256, 56, 56]          16,384\n",
      "      BatchNorm2d-34          [-1, 256, 56, 56]             512\n",
      "             ReLU-35          [-1, 256, 56, 56]               0\n",
      "       Bottleneck-36          [-1, 256, 56, 56]               0\n",
      "           Conv2d-37          [-1, 128, 56, 56]          32,768\n",
      "      BatchNorm2d-38          [-1, 128, 56, 56]             256\n",
      "             ReLU-39          [-1, 128, 56, 56]               0\n",
      "           Conv2d-40          [-1, 128, 28, 28]         147,456\n",
      "      BatchNorm2d-41          [-1, 128, 28, 28]             256\n",
      "             ReLU-42          [-1, 128, 28, 28]               0\n",
      "           Conv2d-43          [-1, 512, 28, 28]          65,536\n",
      "      BatchNorm2d-44          [-1, 512, 28, 28]           1,024\n",
      "           Conv2d-45          [-1, 512, 28, 28]         131,072\n",
      "      BatchNorm2d-46          [-1, 512, 28, 28]           1,024\n",
      "             ReLU-47          [-1, 512, 28, 28]               0\n",
      "       Bottleneck-48          [-1, 512, 28, 28]               0\n",
      "           Conv2d-49          [-1, 128, 28, 28]          65,536\n",
      "      BatchNorm2d-50          [-1, 128, 28, 28]             256\n",
      "             ReLU-51          [-1, 128, 28, 28]               0\n",
      "           Conv2d-52          [-1, 128, 28, 28]         147,456\n",
      "      BatchNorm2d-53          [-1, 128, 28, 28]             256\n",
      "             ReLU-54          [-1, 128, 28, 28]               0\n",
      "           Conv2d-55          [-1, 512, 28, 28]          65,536\n",
      "      BatchNorm2d-56          [-1, 512, 28, 28]           1,024\n",
      "             ReLU-57          [-1, 512, 28, 28]               0\n",
      "       Bottleneck-58          [-1, 512, 28, 28]               0\n",
      "           Conv2d-59          [-1, 128, 28, 28]          65,536\n",
      "      BatchNorm2d-60          [-1, 128, 28, 28]             256\n",
      "             ReLU-61          [-1, 128, 28, 28]               0\n",
      "           Conv2d-62          [-1, 128, 28, 28]         147,456\n",
      "      BatchNorm2d-63          [-1, 128, 28, 28]             256\n",
      "             ReLU-64          [-1, 128, 28, 28]               0\n",
      "           Conv2d-65          [-1, 512, 28, 28]          65,536\n",
      "      BatchNorm2d-66          [-1, 512, 28, 28]           1,024\n",
      "             ReLU-67          [-1, 512, 28, 28]               0\n",
      "       Bottleneck-68          [-1, 512, 28, 28]               0\n",
      "           Conv2d-69          [-1, 128, 28, 28]          65,536\n",
      "      BatchNorm2d-70          [-1, 128, 28, 28]             256\n",
      "             ReLU-71          [-1, 128, 28, 28]               0\n",
      "           Conv2d-72          [-1, 128, 28, 28]         147,456\n",
      "      BatchNorm2d-73          [-1, 128, 28, 28]             256\n",
      "             ReLU-74          [-1, 128, 28, 28]               0\n",
      "           Conv2d-75          [-1, 512, 28, 28]          65,536\n",
      "      BatchNorm2d-76          [-1, 512, 28, 28]           1,024\n",
      "             ReLU-77          [-1, 512, 28, 28]               0\n",
      "       Bottleneck-78          [-1, 512, 28, 28]               0\n",
      "           Conv2d-79          [-1, 256, 28, 28]         131,072\n",
      "      BatchNorm2d-80          [-1, 256, 28, 28]             512\n",
      "             ReLU-81          [-1, 256, 28, 28]               0\n",
      "           Conv2d-82          [-1, 256, 14, 14]         589,824\n",
      "      BatchNorm2d-83          [-1, 256, 14, 14]             512\n",
      "             ReLU-84          [-1, 256, 14, 14]               0\n",
      "           Conv2d-85         [-1, 1024, 14, 14]         262,144\n",
      "      BatchNorm2d-86         [-1, 1024, 14, 14]           2,048\n",
      "           Conv2d-87         [-1, 1024, 14, 14]         524,288\n",
      "      BatchNorm2d-88         [-1, 1024, 14, 14]           2,048\n",
      "             ReLU-89         [-1, 1024, 14, 14]               0\n",
      "       Bottleneck-90         [-1, 1024, 14, 14]               0\n",
      "           Conv2d-91          [-1, 256, 14, 14]         262,144\n",
      "      BatchNorm2d-92          [-1, 256, 14, 14]             512\n",
      "             ReLU-93          [-1, 256, 14, 14]               0\n",
      "           Conv2d-94          [-1, 256, 14, 14]         589,824\n",
      "      BatchNorm2d-95          [-1, 256, 14, 14]             512\n",
      "             ReLU-96          [-1, 256, 14, 14]               0\n",
      "           Conv2d-97         [-1, 1024, 14, 14]         262,144\n",
      "      BatchNorm2d-98         [-1, 1024, 14, 14]           2,048\n",
      "             ReLU-99         [-1, 1024, 14, 14]               0\n",
      "      Bottleneck-100         [-1, 1024, 14, 14]               0\n",
      "          Conv2d-101          [-1, 256, 14, 14]         262,144\n",
      "     BatchNorm2d-102          [-1, 256, 14, 14]             512\n",
      "            ReLU-103          [-1, 256, 14, 14]               0\n",
      "          Conv2d-104          [-1, 256, 14, 14]         589,824\n",
      "     BatchNorm2d-105          [-1, 256, 14, 14]             512\n",
      "            ReLU-106          [-1, 256, 14, 14]               0\n",
      "          Conv2d-107         [-1, 1024, 14, 14]         262,144\n",
      "     BatchNorm2d-108         [-1, 1024, 14, 14]           2,048\n",
      "            ReLU-109         [-1, 1024, 14, 14]               0\n",
      "      Bottleneck-110         [-1, 1024, 14, 14]               0\n",
      "          Conv2d-111          [-1, 256, 14, 14]         262,144\n",
      "     BatchNorm2d-112          [-1, 256, 14, 14]             512\n",
      "            ReLU-113          [-1, 256, 14, 14]               0\n",
      "          Conv2d-114          [-1, 256, 14, 14]         589,824\n",
      "     BatchNorm2d-115          [-1, 256, 14, 14]             512\n",
      "            ReLU-116          [-1, 256, 14, 14]               0\n",
      "          Conv2d-117         [-1, 1024, 14, 14]         262,144\n",
      "     BatchNorm2d-118         [-1, 1024, 14, 14]           2,048\n",
      "            ReLU-119         [-1, 1024, 14, 14]               0\n",
      "      Bottleneck-120         [-1, 1024, 14, 14]               0\n",
      "          Conv2d-121          [-1, 256, 14, 14]         262,144\n",
      "     BatchNorm2d-122          [-1, 256, 14, 14]             512\n",
      "            ReLU-123          [-1, 256, 14, 14]               0\n",
      "          Conv2d-124          [-1, 256, 14, 14]         589,824\n",
      "     BatchNorm2d-125          [-1, 256, 14, 14]             512\n",
      "            ReLU-126          [-1, 256, 14, 14]               0\n",
      "          Conv2d-127         [-1, 1024, 14, 14]         262,144\n",
      "     BatchNorm2d-128         [-1, 1024, 14, 14]           2,048\n",
      "            ReLU-129         [-1, 1024, 14, 14]               0\n",
      "      Bottleneck-130         [-1, 1024, 14, 14]               0\n",
      "          Conv2d-131          [-1, 256, 14, 14]         262,144\n",
      "     BatchNorm2d-132          [-1, 256, 14, 14]             512\n",
      "            ReLU-133          [-1, 256, 14, 14]               0\n",
      "          Conv2d-134          [-1, 256, 14, 14]         589,824\n",
      "     BatchNorm2d-135          [-1, 256, 14, 14]             512\n",
      "            ReLU-136          [-1, 256, 14, 14]               0\n",
      "          Conv2d-137         [-1, 1024, 14, 14]         262,144\n",
      "     BatchNorm2d-138         [-1, 1024, 14, 14]           2,048\n",
      "            ReLU-139         [-1, 1024, 14, 14]               0\n",
      "      Bottleneck-140         [-1, 1024, 14, 14]               0\n",
      "          Conv2d-141          [-1, 512, 14, 14]         524,288\n",
      "     BatchNorm2d-142          [-1, 512, 14, 14]           1,024\n",
      "            ReLU-143          [-1, 512, 14, 14]               0\n",
      "          Conv2d-144            [-1, 512, 7, 7]       2,359,296\n",
      "     BatchNorm2d-145            [-1, 512, 7, 7]           1,024\n",
      "            ReLU-146            [-1, 512, 7, 7]               0\n",
      "          Conv2d-147           [-1, 2048, 7, 7]       1,048,576\n",
      "     BatchNorm2d-148           [-1, 2048, 7, 7]           4,096\n",
      "          Conv2d-149           [-1, 2048, 7, 7]       2,097,152\n",
      "     BatchNorm2d-150           [-1, 2048, 7, 7]           4,096\n",
      "            ReLU-151           [-1, 2048, 7, 7]               0\n",
      "      Bottleneck-152           [-1, 2048, 7, 7]               0\n",
      "          Conv2d-153            [-1, 512, 7, 7]       1,048,576\n",
      "     BatchNorm2d-154            [-1, 512, 7, 7]           1,024\n",
      "            ReLU-155            [-1, 512, 7, 7]               0\n",
      "          Conv2d-156            [-1, 512, 7, 7]       2,359,296\n",
      "     BatchNorm2d-157            [-1, 512, 7, 7]           1,024\n",
      "            ReLU-158            [-1, 512, 7, 7]               0\n",
      "          Conv2d-159           [-1, 2048, 7, 7]       1,048,576\n",
      "     BatchNorm2d-160           [-1, 2048, 7, 7]           4,096\n",
      "            ReLU-161           [-1, 2048, 7, 7]               0\n",
      "      Bottleneck-162           [-1, 2048, 7, 7]               0\n",
      "          Conv2d-163            [-1, 512, 7, 7]       1,048,576\n",
      "     BatchNorm2d-164            [-1, 512, 7, 7]           1,024\n",
      "            ReLU-165            [-1, 512, 7, 7]               0\n",
      "          Conv2d-166            [-1, 512, 7, 7]       2,359,296\n",
      "     BatchNorm2d-167            [-1, 512, 7, 7]           1,024\n",
      "            ReLU-168            [-1, 512, 7, 7]               0\n",
      "          Conv2d-169           [-1, 2048, 7, 7]       1,048,576\n",
      "     BatchNorm2d-170           [-1, 2048, 7, 7]           4,096\n",
      "            ReLU-171           [-1, 2048, 7, 7]               0\n",
      "      Bottleneck-172           [-1, 2048, 7, 7]               0\n",
      "AdaptiveAvgPool2d-173           [-1, 2048, 1, 1]               0\n",
      "================================================================\n",
      "Total params: 23,508,032\n",
      "Trainable params: 23,508,032\n",
      "Non-trainable params: 0\n",
      "----------------------------------------------------------------\n",
      "Input size (MB): 0.57\n",
      "Forward/backward pass size (MB): 286.55\n",
      "Params size (MB): 89.68\n",
      "Estimated Total Size (MB): 376.80\n",
      "----------------------------------------------------------------\n"
     ]
    }
   ],
   "source": [
    "image_model = torchvision.models.resnet50()\n",
    "image_model = torch.nn.Sequential(*(list(image_model.children())[:-1]))\n",
    "torchsummary.summary(image_model, (3,224,224))"
   ]
  },
  {
   "cell_type": "code",
   "execution_count": 87,
   "id": "558d441a",
   "metadata": {
    "ExecuteTime": {
     "end_time": "2022-12-05T03:39:13.078745Z",
     "start_time": "2022-12-05T03:39:12.937433Z"
    },
    "hidden": true
   },
   "outputs": [
    {
     "data": {
      "text/plain": [
       "torch.Size([3, 2048, 1, 1])"
      ]
     },
     "execution_count": 87,
     "metadata": {},
     "output_type": "execute_result"
    }
   ],
   "source": [
    "image_fv = image_model(batch['image'][0:3])\n",
    "image_fv.shape"
   ]
  },
  {
   "cell_type": "code",
   "execution_count": 42,
   "id": "f60b7013",
   "metadata": {
    "ExecuteTime": {
     "end_time": "2022-12-05T02:57:42.485315Z",
     "start_time": "2022-12-05T02:57:42.481761Z"
    },
    "hidden": true
   },
   "outputs": [],
   "source": [
    "def mean_pooling(model_output, attention_mask):\n",
    "    token_embeddings = model_output[0] #First element of model_output contains all token embeddings\n",
    "    input_mask_expanded = attention_mask.unsqueeze(-1).expand(token_embeddings.size()).float()\n",
    "    sum_embeddings = torch.sum(token_embeddings * input_mask_expanded, 1)\n",
    "    sum_mask = torch.clamp(input_mask_expanded.sum(1), min=1e-9)\n",
    "    return sum_embeddings / sum_mask"
   ]
  },
  {
   "cell_type": "code",
   "execution_count": 89,
   "id": "bb94f2b5",
   "metadata": {
    "ExecuteTime": {
     "end_time": "2022-12-05T03:39:25.337860Z",
     "start_time": "2022-12-05T03:39:25.301144Z"
    },
    "hidden": true
   },
   "outputs": [],
   "source": [
    "sentence_embeddings = mean_pooling(text_model_output, text_model_input['attention_mask'])"
   ]
  },
  {
   "cell_type": "code",
   "execution_count": 90,
   "id": "3bd7d628",
   "metadata": {
    "ExecuteTime": {
     "end_time": "2022-12-05T03:39:27.407329Z",
     "start_time": "2022-12-05T03:39:27.399441Z"
    },
    "hidden": true
   },
   "outputs": [],
   "source": [
    "proj_layer1 = torch.nn.Linear(768, 768)\n",
    "proj_layer2 = torch.nn.Linear(768, 512)"
   ]
  },
  {
   "cell_type": "code",
   "execution_count": 91,
   "id": "d93fe73d",
   "metadata": {
    "ExecuteTime": {
     "end_time": "2022-12-05T03:39:28.464582Z",
     "start_time": "2022-12-05T03:39:28.445497Z"
    },
    "hidden": true
   },
   "outputs": [],
   "source": [
    "text_proj_output = proj_layer2(proj_layer1(sentence_embeddings))"
   ]
  },
  {
   "cell_type": "code",
   "execution_count": 92,
   "id": "2b127e89",
   "metadata": {
    "ExecuteTime": {
     "end_time": "2022-12-05T03:39:28.783181Z",
     "start_time": "2022-12-05T03:39:28.779985Z"
    },
    "hidden": true
   },
   "outputs": [
    {
     "data": {
      "text/plain": [
       "torch.Size([3, 512])"
      ]
     },
     "execution_count": 92,
     "metadata": {},
     "output_type": "execute_result"
    }
   ],
   "source": [
    "text_proj_output.shape"
   ]
  },
  {
   "cell_type": "code",
   "execution_count": 93,
   "id": "e6e29445",
   "metadata": {
    "ExecuteTime": {
     "end_time": "2022-12-05T03:39:29.656148Z",
     "start_time": "2022-12-05T03:39:29.639550Z"
    },
    "hidden": true
   },
   "outputs": [],
   "source": [
    "img_proj_layer1 = torch.nn.Linear(2048, 1024)\n",
    "img_proj_layer2 = torch.nn.Linear(1024, 512)"
   ]
  },
  {
   "cell_type": "code",
   "execution_count": 96,
   "id": "1ce203c0",
   "metadata": {
    "ExecuteTime": {
     "end_time": "2022-12-05T03:39:40.053886Z",
     "start_time": "2022-12-05T03:39:40.029823Z"
    },
    "hidden": true
   },
   "outputs": [],
   "source": [
    "img_proj_output = img_proj_layer2(img_proj_layer1(image_fv.squeeze()))"
   ]
  },
  {
   "cell_type": "code",
   "execution_count": 97,
   "id": "4a2ea307",
   "metadata": {
    "ExecuteTime": {
     "end_time": "2022-12-05T03:39:41.365174Z",
     "start_time": "2022-12-05T03:39:41.361872Z"
    },
    "hidden": true
   },
   "outputs": [
    {
     "data": {
      "text/plain": [
       "torch.Size([3, 512])"
      ]
     },
     "execution_count": 97,
     "metadata": {},
     "output_type": "execute_result"
    }
   ],
   "source": [
    "img_proj_output.shape"
   ]
  },
  {
   "cell_type": "code",
   "execution_count": 103,
   "id": "eaee0728",
   "metadata": {
    "ExecuteTime": {
     "end_time": "2022-12-05T03:42:31.352335Z",
     "start_time": "2022-12-05T03:42:31.349791Z"
    },
    "hidden": true
   },
   "outputs": [],
   "source": [
    "from torch.nn.functional import cosine_similarity, pairwise_distance"
   ]
  },
  {
   "cell_type": "code",
   "execution_count": 70,
   "id": "a627279d",
   "metadata": {
    "ExecuteTime": {
     "end_time": "2022-12-05T03:14:51.108266Z",
     "start_time": "2022-12-05T03:14:51.105790Z"
    },
    "hidden": true
   },
   "outputs": [],
   "source": [
    "temperature = 0.1"
   ]
  },
  {
   "cell_type": "raw",
   "id": "09c14ea0",
   "metadata": {
    "hidden": true
   },
   "source": [
    "u - 3x512\n",
    "v - 3x512\n",
    "\n",
    "u-v =  "
   ]
  },
  {
   "cell_type": "code",
   "execution_count": 102,
   "id": "04096b91",
   "metadata": {
    "ExecuteTime": {
     "end_time": "2022-12-05T03:40:49.479008Z",
     "start_time": "2022-12-05T03:40:49.475204Z"
    },
    "hidden": true
   },
   "outputs": [
    {
     "data": {
      "text/plain": [
       "tensor([-0.0250, -0.0247, -0.0260], grad_fn=<SumBackward1>)"
      ]
     },
     "execution_count": 102,
     "metadata": {},
     "output_type": "execute_result"
    }
   ],
   "source": [
    "cosine_similarity(img_proj_output, text_proj_output)"
   ]
  },
  {
   "cell_type": "code",
   "execution_count": 104,
   "id": "d4e2dcd7",
   "metadata": {
    "ExecuteTime": {
     "end_time": "2022-12-05T03:42:59.616760Z",
     "start_time": "2022-12-05T03:42:59.612766Z"
    },
    "hidden": true
   },
   "outputs": [
    {
     "data": {
      "text/plain": [
       "tensor([[-0.0842,  0.1113,  0.1001,  ...,  0.4310,  0.5109,  0.7898],\n",
       "        [-0.0466,  0.1326, -0.1249,  ...,  0.1610,  0.2572,  0.4917],\n",
       "        [-0.1628,  0.0143,  0.0463,  ...,  0.4189,  0.5745,  0.8223]],\n",
       "       grad_fn=<AddmmBackward0>)"
      ]
     },
     "execution_count": 104,
     "metadata": {},
     "output_type": "execute_result"
    }
   ],
   "source": [
    "img_proj_output"
   ]
  },
  {
   "cell_type": "code",
   "execution_count": 106,
   "id": "0ba23184",
   "metadata": {
    "ExecuteTime": {
     "end_time": "2022-12-05T03:45:15.390877Z",
     "start_time": "2022-12-05T03:45:15.388248Z"
    },
    "hidden": true
   },
   "outputs": [],
   "source": [
    "import torchmetrics"
   ]
  },
  {
   "cell_type": "code",
   "execution_count": 111,
   "id": "3d68ce6e",
   "metadata": {
    "ExecuteTime": {
     "end_time": "2022-12-05T03:46:57.357273Z",
     "start_time": "2022-12-05T03:46:57.352927Z"
    },
    "hidden": true
   },
   "outputs": [
    {
     "data": {
      "text/plain": [
       "tensor([[-0.0250, -0.0479, -0.0319],\n",
       "        [-0.0114, -0.0247, -0.0254],\n",
       "        [-0.0219, -0.0463, -0.0260]])"
      ]
     },
     "execution_count": 111,
     "metadata": {},
     "output_type": "execute_result"
    }
   ],
   "source": [
    "img_text_sim = torchmetrics.functional.pairwise_cosine_similarity(img_proj_output, text_proj_output).detach()\n",
    "img_text_sim"
   ]
  },
  {
   "cell_type": "code",
   "execution_count": null,
   "id": "8baae182",
   "metadata": {
    "hidden": true
   },
   "outputs": [],
   "source": [
    "mean[(-0.0250 / sum(-0.0250, -0.0479, -0.0319)), -0.0247 / sum(-0.0114, -0.0247, -0.0254), ...]"
   ]
  },
  {
   "cell_type": "code",
   "execution_count": 112,
   "id": "36866733",
   "metadata": {
    "ExecuteTime": {
     "end_time": "2022-12-05T03:47:38.748947Z",
     "start_time": "2022-12-05T03:47:38.744275Z"
    },
    "hidden": true
   },
   "outputs": [
    {
     "data": {
      "text/plain": [
       "tensor([[-0.0250, -0.0114, -0.0219],\n",
       "        [-0.0479, -0.0247, -0.0463],\n",
       "        [-0.0319, -0.0254, -0.0260]])"
      ]
     },
     "execution_count": 112,
     "metadata": {},
     "output_type": "execute_result"
    }
   ],
   "source": [
    "text_img_sim = torchmetrics.functional.pairwise_cosine_similarity(text_proj_output, img_proj_output).detach()\n",
    "text_img_sim"
   ]
  },
  {
   "cell_type": "code",
   "execution_count": 116,
   "id": "0e962ce7",
   "metadata": {
    "ExecuteTime": {
     "end_time": "2022-12-05T03:56:23.096321Z",
     "start_time": "2022-12-05T03:56:23.092344Z"
    },
    "hidden": true
   },
   "outputs": [
    {
     "data": {
      "text/plain": [
       "tensor([[0.9753, 0.9533, 0.9686],\n",
       "        [0.9886, 0.9756, 0.9749],\n",
       "        [0.9783, 0.9548, 0.9744]])"
      ]
     },
     "execution_count": 116,
     "metadata": {},
     "output_type": "execute_result"
    }
   ],
   "source": [
    "a = torch.exp(img_text_sim)\n",
    "a"
   ]
  },
  {
   "cell_type": "code",
   "execution_count": 131,
   "id": "d59484f2",
   "metadata": {
    "ExecuteTime": {
     "end_time": "2022-12-05T04:10:57.286554Z",
     "start_time": "2022-12-05T04:10:57.282230Z"
    },
    "hidden": true
   },
   "outputs": [
    {
     "data": {
      "text/plain": [
       "tensor(1.0888)"
      ]
     },
     "execution_count": 131,
     "metadata": {},
     "output_type": "execute_result"
    }
   ],
   "source": [
    "-torch.log(0.9753 / sum(a[0]))"
   ]
  },
  {
   "cell_type": "code",
   "execution_count": 133,
   "id": "81121985",
   "metadata": {
    "ExecuteTime": {
     "end_time": "2022-12-05T04:14:03.779958Z",
     "start_time": "2022-12-05T04:14:03.775768Z"
    },
    "hidden": true
   },
   "outputs": [
    {
     "data": {
      "text/plain": [
       "tensor([1.0887, 1.1028, 1.0932])"
      ]
     },
     "execution_count": 133,
     "metadata": {},
     "output_type": "execute_result"
    }
   ],
   "source": [
    "torch.diag(-torch.nn.functional.log_softmax(img_text_sim, 1))"
   ]
  },
  {
   "cell_type": "code",
   "execution_count": 135,
   "id": "8d9bd779",
   "metadata": {
    "ExecuteTime": {
     "end_time": "2022-12-05T04:15:12.231946Z",
     "start_time": "2022-12-05T04:15:12.229517Z"
    },
    "hidden": true
   },
   "outputs": [],
   "source": [
    "lam = 0.75"
   ]
  },
  {
   "cell_type": "code",
   "execution_count": 138,
   "id": "1eee6f32",
   "metadata": {
    "ExecuteTime": {
     "end_time": "2022-12-05T04:15:26.457051Z",
     "start_time": "2022-12-05T04:15:26.452232Z"
    },
    "hidden": true
   },
   "outputs": [
    {
     "data": {
      "text/plain": [
       "tensor(1.0949)"
      ]
     },
     "execution_count": 138,
     "metadata": {},
     "output_type": "execute_result"
    }
   ],
   "source": [
    "## Final loss fn\n",
    "torch.mean(lam*torch.diag(-torch.nn.functional.log_softmax(img_text_sim, 1)) + (1-lam)*torch.diag(-torch.nn.functional.log_softmax(text_img_sim, 1)))"
   ]
  },
  {
   "cell_type": "code",
   "execution_count": 75,
   "id": "8f1c1276",
   "metadata": {
    "ExecuteTime": {
     "end_time": "2022-12-05T03:31:15.970645Z",
     "start_time": "2022-12-05T03:31:15.966667Z"
    },
    "hidden": true
   },
   "outputs": [
    {
     "data": {
      "text/plain": [
       "tensor([0.0929], grad_fn=<SumBackward1>)"
      ]
     },
     "execution_count": 75,
     "metadata": {},
     "output_type": "execute_result"
    }
   ],
   "source": [
    "vu_sim = cosine_similarity(img_proj_output, text_proj_output)\n",
    "vu_sim"
   ]
  },
  {
   "cell_type": "code",
   "execution_count": 71,
   "id": "9d1b42c1",
   "metadata": {
    "ExecuteTime": {
     "end_time": "2022-12-05T03:14:54.555816Z",
     "start_time": "2022-12-05T03:14:54.551884Z"
    },
    "hidden": true
   },
   "outputs": [
    {
     "data": {
      "text/plain": [
       "tensor([2.5318], grad_fn=<ExpBackward0>)"
      ]
     },
     "execution_count": 71,
     "metadata": {},
     "output_type": "execute_result"
    }
   ],
   "source": [
    "torch.exp(vu_sim/temperature) / torch.sum(torch.exp())"
   ]
  },
  {
   "cell_type": "code",
   "execution_count": null,
   "id": "d4a31aea",
   "metadata": {
    "hidden": true
   },
   "outputs": [],
   "source": []
  },
  {
   "cell_type": "markdown",
   "id": "c77a02d1",
   "metadata": {},
   "source": [
    "### ....."
   ]
  },
  {
   "cell_type": "code",
   "execution_count": null,
   "id": "1ba1d5cb",
   "metadata": {},
   "outputs": [],
   "source": []
  },
  {
   "cell_type": "code",
   "execution_count": null,
   "id": "1389ad71",
   "metadata": {},
   "outputs": [],
   "source": []
  },
  {
   "cell_type": "code",
   "execution_count": null,
   "id": "fc2e8b75",
   "metadata": {},
   "outputs": [],
   "source": []
  }
 ],
 "metadata": {
  "kernelspec": {
   "display_name": "fedml-env",
   "language": "python",
   "name": "fedml-env"
  },
  "language_info": {
   "codemirror_mode": {
    "name": "ipython",
    "version": 3
   },
   "file_extension": ".py",
   "mimetype": "text/x-python",
   "name": "python",
   "nbconvert_exporter": "python",
   "pygments_lexer": "ipython3",
   "version": "3.7.12"
  }
 },
 "nbformat": 4,
 "nbformat_minor": 5
}
